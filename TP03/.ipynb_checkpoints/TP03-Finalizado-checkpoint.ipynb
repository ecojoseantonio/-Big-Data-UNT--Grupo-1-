{
 "cells": [
  {
   "cell_type": "code",
   "execution_count": 1,
   "id": "1d684888-4337-421a-b225-59a64100453a",
   "metadata": {},
   "outputs": [
    {
     "name": "stdout",
     "output_type": "stream",
     "text": [
      "Requirement already satisfied: pandas in c:\\users\\piliv\\anaconda\\lib\\site-packages (2.2.3)\n",
      "Requirement already satisfied: openpyxl in c:\\users\\piliv\\anaconda\\lib\\site-packages (3.1.2)\n",
      "Requirement already satisfied: numpy>=1.26.0 in c:\\users\\piliv\\anaconda\\lib\\site-packages (from pandas) (1.26.4)\n",
      "Requirement already satisfied: python-dateutil>=2.8.2 in c:\\users\\piliv\\anaconda\\lib\\site-packages (from pandas) (2.9.0.post0)\n",
      "Requirement already satisfied: pytz>=2020.1 in c:\\users\\piliv\\anaconda\\lib\\site-packages (from pandas) (2024.1)\n",
      "Requirement already satisfied: tzdata>=2022.7 in c:\\users\\piliv\\anaconda\\lib\\site-packages (from pandas) (2023.3)\n",
      "Requirement already satisfied: et-xmlfile in c:\\users\\piliv\\anaconda\\lib\\site-packages (from openpyxl) (1.1.0)\n",
      "Requirement already satisfied: six>=1.5 in c:\\users\\piliv\\anaconda\\lib\\site-packages (from python-dateutil>=2.8.2->pandas) (1.16.0)\n"
     ]
    }
   ],
   "source": [
    "!pip install pandas openpyxl"
   ]
  },
  {
   "cell_type": "code",
   "execution_count": 3,
   "id": "3fae3f50-3a78-4bc5-a84e-c2ccdebecf9f",
   "metadata": {},
   "outputs": [
    {
     "name": "stdout",
     "output_type": "stream",
     "text": [
      "                          CODUSU  ANO4  TRIMESTRE  NRO_HOGAR  COMPONENTE  H15  \\\n",
      "0  TQRMNOQXRHKOMLCDEHPJB00856884  2024          1          1           1    1   \n",
      "1  TQRMNOQXRHKOMLCDEHPJB00856884  2024          1          1           2    1   \n",
      "2  TQRMNOQXRHKOMLCDEHPJB00856884  2024          1          1           3    1   \n",
      "3  TQRMNOQXRHKOMLCDEHPJB00856884  2024          1          1           4    1   \n",
      "4  TQRMNOQXRHKOMLCDEHPJB00856884  2024          1          1           5    0   \n",
      "\n",
      "   REGION MAS_500  AGLOMERADO  PONDERA  ...  PDECIFR  ADECIFR      IPCF  \\\n",
      "0      40       S          29      556  ...      NaN        7  101000.0   \n",
      "1      40       S          29      556  ...      NaN        7  101000.0   \n",
      "2      40       S          29      556  ...      NaN        7  101000.0   \n",
      "3      40       S          29      556  ...      NaN        7  101000.0   \n",
      "4      40       S          29      556  ...      NaN        7  101000.0   \n",
      "\n",
      "   DECCFR  IDECCFR  RDECCFR  GDECCFR  PDECCFR  ADECCFR  PONDIH  \n",
      "0       3        3        4        3      NaN        4     683  \n",
      "1       3        3        4        3      NaN        4     683  \n",
      "2       3        3        4        3      NaN        4     683  \n",
      "3       3        3        4        3      NaN        4     683  \n",
      "4       3        3        4        3      NaN        4     683  \n",
      "\n",
      "[5 rows x 176 columns]\n"
     ]
    }
   ],
   "source": [
    "import pandas as pd\n",
    "# Cargar el DataFrame desde el archivo Excel de T1 2024\n",
    "df_2024 = pd.read_excel('C:/Users/piliv/OneDrive/Documentos/GitHub/-Big-Data-UNT--Grupo-1-/TP03/usu_individual_T124.xlsx')\n",
    "# Mostrar las primeras filas del DataFrame\n",
    "print(df_2024.head())"
   ]
  },
  {
   "cell_type": "code",
   "execution_count": 7,
   "id": "b0ce9396-e651-41fe-99c9-336cc581bd07",
   "metadata": {},
   "outputs": [
    {
     "name": "stdout",
     "output_type": "stream",
     "text": [
      "AGLOMERADO\n",
      "29    2109\n",
      "Name: count, dtype: int64\n"
     ]
    }
   ],
   "source": [
    "# Para conservar las observaciones que pertenecen al aglomerado del Gran Tucumán - Tafí Viejo usamos:\n",
    "df_2024 = df_2024[df_2024['AGLOMERADO'] == 29]\n",
    "frecuencias = df_2024['AGLOMERADO'].value_counts()\n",
    "# Verificamos \n",
    "print(frecuencias)"
   ]
  },
  {
   "cell_type": "code",
   "execution_count": 9,
   "id": "592289fa-8d89-4367-9ba0-95ea2bcdd4ac",
   "metadata": {},
   "outputs": [],
   "source": [
    "# Guardamos las modificaciones hechas en el dataframe en un nuevo excel\n",
    "df_2024.to_excel('C:/Users/piliv/OneDrive/Documentos/GitHub/-Big-Data-UNT--Grupo-1-/TP03/usu_individual_T124.xlsx', index=False)"
   ]
  },
  {
   "cell_type": "code",
   "execution_count": 13,
   "id": "68b9ac98-9b6c-49b5-9937-c0ea1b3e10e4",
   "metadata": {},
   "outputs": [
    {
     "name": "stdout",
     "output_type": "stream",
     "text": [
      "   CODUSU  ANO4       TRIMESTRE  NRO_HOGAR COMPONENTE H15 REGION MAS_500  \\\n",
      "0  125463  2004  1er. Trimestre          1          1  Sí    NOA       S   \n",
      "1  125463  2004  1er. Trimestre          1          2  Sí    NOA       S   \n",
      "2  125463  2004  1er. Trimestre          1          3   0    NOA       S   \n",
      "3  125463  2004  1er. Trimestre          1          4   0    NOA       S   \n",
      "4  125463  2004  1er. Trimestre          1          5  Sí    NOA       S   \n",
      "\n",
      "                  AGLOMERADO  PONDERA  ... IDECCFR RDECCFR GDECCFR PDECCFR  \\\n",
      "0  Gran Tucumán - Tafí Viejo      259  ...       3       4       2           \n",
      "1  Gran Tucumán - Tafí Viejo      259  ...       3       4       2           \n",
      "2  Gran Tucumán - Tafí Viejo      259  ...       3       4       2           \n",
      "3  Gran Tucumán - Tafí Viejo      259  ...       3       4       2           \n",
      "4  Gran Tucumán - Tafí Viejo      259  ...       3       4       2           \n",
      "\n",
      "  ADECCFR PONDIH PJ1_1 PJ2_1 PJ3_1 IDIMPP  \n",
      "0       4    NaN     0     0     0      0  \n",
      "1       4    NaN     0     0     0      0  \n",
      "2       4    NaN     0     0     0      0  \n",
      "3       4    NaN     0     0     0      0  \n",
      "4       4    NaN     0     0     0      0  \n",
      "\n",
      "[5 rows x 179 columns]\n"
     ]
    }
   ],
   "source": [
    "import pandas as pd\n",
    "# Cargar el DataFrame desde el archivo Excel T1_2004\n",
    "df_2004 = pd.read_excel(\"C:/Users/piliv/OneDrive/Documentos/GitHub/-Big-Data-UNT--Grupo-1-/TP03/usu_individual_T104.xlsx\")\n",
    "# Mostrar las primeras filas del DataFrame\n",
    "print(df_2004.head())"
   ]
  },
  {
   "cell_type": "code",
   "execution_count": 15,
   "id": "68908c9c-a3bc-452d-a3ea-3e5c0cf692ab",
   "metadata": {},
   "outputs": [
    {
     "name": "stdout",
     "output_type": "stream",
     "text": [
      "AGLOMERADO\n",
      "Gran Tucumán - Tafí Viejo    2547\n",
      "Name: count, dtype: int64\n"
     ]
    }
   ],
   "source": [
    "# Para conservar las observaciones que pertenecen al aglomerado del Gran Tucumán - Tafí Viejo usamos:\n",
    "df_2004 = df_2004[df_2004['AGLOMERADO'] == \"Gran Tucumán - Tafí Viejo\"]\n",
    "frecuencias = df_2004['AGLOMERADO'].value_counts()\n",
    "# Verificamos \n",
    "print(frecuencias)"
   ]
  },
  {
   "cell_type": "code",
   "execution_count": 19,
   "id": "abb6889c-2af7-4182-bf3a-2c46b9e75dbc",
   "metadata": {},
   "outputs": [
    {
     "name": "stdout",
     "output_type": "stream",
     "text": [
      "H15\n",
      "1    2027\n",
      "0     514\n",
      "2       6\n",
      "Name: count, dtype: int64\n"
     ]
    }
   ],
   "source": [
    "df_2004['H15'] = df_2004['H15'].replace(\"Sí\", 1)\n",
    "df_2004['H15'] = df_2004['H15'].replace(\"No\", 2)\n",
    "frecuencia_H15 = df_2004['H15'].value_counts()\n",
    "print(frecuencia_H15)"
   ]
  },
  {
   "cell_type": "code",
   "execution_count": 21,
   "id": "1179de20-7420-40f8-a411-3d1a591897ef",
   "metadata": {},
   "outputs": [
    {
     "name": "stdout",
     "output_type": "stream",
     "text": [
      "REGION\n",
      "40    2547\n",
      "Name: count, dtype: int64\n"
     ]
    },
    {
     "name": "stderr",
     "output_type": "stream",
     "text": [
      "C:\\Users\\piliv\\AppData\\Local\\Temp\\ipykernel_27792\\3093550658.py:1: FutureWarning: Downcasting behavior in `replace` is deprecated and will be removed in a future version. To retain the old behavior, explicitly call `result.infer_objects(copy=False)`. To opt-in to the future behavior, set `pd.set_option('future.no_silent_downcasting', True)`\n",
      "  df_2004['REGION'] = df_2004['REGION'].replace(\"NOA\", 40)\n"
     ]
    }
   ],
   "source": [
    "df_2004['REGION'] = df_2004['REGION'].replace(\"NOA\", 40)\n",
    "frecuencia_REGION = df_2004['REGION'].value_counts()\n",
    "print(frecuencia_REGION)"
   ]
  },
  {
   "cell_type": "code",
   "execution_count": 23,
   "id": "7af08376-302b-4f9b-a82e-97ac306469eb",
   "metadata": {},
   "outputs": [
    {
     "name": "stdout",
     "output_type": "stream",
     "text": [
      "AGLOMERADO\n",
      "29    2547\n",
      "Name: count, dtype: int64\n"
     ]
    },
    {
     "name": "stderr",
     "output_type": "stream",
     "text": [
      "C:\\Users\\piliv\\AppData\\Local\\Temp\\ipykernel_27792\\3325595595.py:1: FutureWarning: Downcasting behavior in `replace` is deprecated and will be removed in a future version. To retain the old behavior, explicitly call `result.infer_objects(copy=False)`. To opt-in to the future behavior, set `pd.set_option('future.no_silent_downcasting', True)`\n",
      "  df_2004['AGLOMERADO'] = df_2004['AGLOMERADO'].replace(\"Gran Tucumán - Tafí Viejo\", 29)\n"
     ]
    }
   ],
   "source": [
    "df_2004['AGLOMERADO'] = df_2004['AGLOMERADO'].replace(\"Gran Tucumán - Tafí Viejo\", 29)\n",
    "frecuencia_AGLOMERADO = df_2004['AGLOMERADO'].value_counts()\n",
    "print(frecuencia_AGLOMERADO)"
   ]
  },
  {
   "cell_type": "code",
   "execution_count": 25,
   "id": "cad16c57-9815-4ba3-b99d-2bc81783d5a9",
   "metadata": {},
   "outputs": [
    {
     "name": "stdout",
     "output_type": "stream",
     "text": [
      "CH03\n",
      "3     1160\n",
      "1      661\n",
      "2      401\n",
      "5      169\n",
      "4       42\n",
      "8       34\n",
      "9       32\n",
      "6       21\n",
      "10      15\n",
      "7       12\n",
      "Name: count, dtype: int64\n"
     ]
    },
    {
     "name": "stderr",
     "output_type": "stream",
     "text": [
      "C:\\Users\\piliv\\AppData\\Local\\Temp\\ipykernel_27792\\1357104167.py:14: FutureWarning: Downcasting behavior in `replace` is deprecated and will be removed in a future version. To retain the old behavior, explicitly call `result.infer_objects(copy=False)`. To opt-in to the future behavior, set `pd.set_option('future.no_silent_downcasting', True)`\n",
      "  df_2004['CH03'] = df_2004['CH03'].replace(reemplazos)\n"
     ]
    }
   ],
   "source": [
    "reemplazos = {\n",
    "    \"Jefe\": 1,\n",
    "    \"Cónyuge/Pareja\": 2,\n",
    "    \"Hijo/Hijastro\": 3,\n",
    "    \"Yerno/Nuera\": 4,\n",
    "    \"Nieto\": 5,\n",
    "    \"Madre/Padre\": 6,\n",
    "    \"Suegro\": 7,\n",
    "    \"Hermano\": 8, \n",
    "    \"Otros familiares\": 9,\n",
    "    \"No familiares\": 10\n",
    "}\n",
    "# Reemplazar los valores en la columna CH03\n",
    "df_2004['CH03'] = df_2004['CH03'].replace(reemplazos)\n",
    "frecuencia_CH03 = df_2004['CH03'].value_counts()\n",
    "print(frecuencia_CH03)"
   ]
  },
  {
   "cell_type": "code",
   "execution_count": 27,
   "id": "ffd5e7dc-36c8-4467-b82e-c4030635b4a4",
   "metadata": {},
   "outputs": [
    {
     "name": "stdout",
     "output_type": "stream",
     "text": [
      "CH04\n",
      "2    1323\n",
      "1    1224\n",
      "Name: count, dtype: int64\n"
     ]
    },
    {
     "name": "stderr",
     "output_type": "stream",
     "text": [
      "C:\\Users\\piliv\\AppData\\Local\\Temp\\ipykernel_27792\\2412601243.py:2: FutureWarning: Downcasting behavior in `replace` is deprecated and will be removed in a future version. To retain the old behavior, explicitly call `result.infer_objects(copy=False)`. To opt-in to the future behavior, set `pd.set_option('future.no_silent_downcasting', True)`\n",
      "  df_2004['CH04'] = df_2004['CH04'].replace(\"Mujer\", 2)\n"
     ]
    }
   ],
   "source": [
    "df_2004['CH04'] = df_2004['CH04'].replace(\"Varón\", 1)\n",
    "df_2004['CH04'] = df_2004['CH04'].replace(\"Mujer\", 2)\n",
    "frecuencia_CH04 = df_2004['CH04'].value_counts()\n",
    "print(frecuencia_CH04)"
   ]
  },
  {
   "cell_type": "code",
   "execution_count": 29,
   "id": "552a6a7f-28f6-4467-a785-2d8e0ac4697f",
   "metadata": {},
   "outputs": [
    {
     "name": "stdout",
     "output_type": "stream",
     "text": [
      "CH07\n",
      "5    1419\n",
      "2     671\n",
      "1     234\n",
      "4     118\n",
      "3     105\n",
      "Name: count, dtype: int64\n"
     ]
    },
    {
     "name": "stderr",
     "output_type": "stream",
     "text": [
      "C:\\Users\\piliv\\AppData\\Local\\Temp\\ipykernel_27792\\1115066262.py:9: FutureWarning: Downcasting behavior in `replace` is deprecated and will be removed in a future version. To retain the old behavior, explicitly call `result.infer_objects(copy=False)`. To opt-in to the future behavior, set `pd.set_option('future.no_silent_downcasting', True)`\n",
      "  df_2004['CH07'] = df_2004['CH07'].replace(reemplazos2).infer_objects()\n"
     ]
    }
   ],
   "source": [
    "reemplazos2 = {\n",
    "    \"Unido\": 1,\n",
    "    \"Casado\": 2,\n",
    "    \"Separado o divorciado\": 3,\n",
    "    \"Viudo\": 4,\n",
    "    \"Soltero\": 5\n",
    "}\n",
    "# Reemplazar los valores en la columna CH03\n",
    "df_2004['CH07'] = df_2004['CH07'].replace(reemplazos2).infer_objects()\n",
    "frecuencia_CH07 = df_2004['CH07'].value_counts()\n",
    "print(frecuencia_CH07)"
   ]
  },
  {
   "cell_type": "code",
   "execution_count": 31,
   "id": "13cdd7a0-a627-4f36-975a-8c464a365939",
   "metadata": {},
   "outputs": [
    {
     "name": "stdout",
     "output_type": "stream",
     "text": [
      "CH08\n",
      "4     1164\n",
      "1      908\n",
      "2      335\n",
      "12     134\n",
      "9        6\n",
      "Name: count, dtype: int64\n"
     ]
    },
    {
     "name": "stderr",
     "output_type": "stream",
     "text": [
      "C:\\Users\\piliv\\AppData\\Local\\Temp\\ipykernel_27792\\2111022675.py:9: FutureWarning: Downcasting behavior in `replace` is deprecated and will be removed in a future version. To retain the old behavior, explicitly call `result.infer_objects(copy=False)`. To opt-in to the future behavior, set `pd.set_option('future.no_silent_downcasting', True)`\n",
      "  df_2004['CH08'] = df_2004['CH08'].replace(reemplazos3).infer_objects()\n"
     ]
    }
   ],
   "source": [
    "reemplazos3 = {\n",
    "    \"Obra social (incluye PAMI)\": 1,\n",
    "    \"Mutual/Prepaga/Servicio de emergencia\": 2,\n",
    "    \"Obra social y mutual/prepaga/servicio de emergencia\": 12,\n",
    "    \"No paga ni le descuentan\": 4,\n",
    "    \"Ns./Nr.\": 9\n",
    "}\n",
    "# Reemplazar los valores en la columna CH03\n",
    "df_2004['CH08'] = df_2004['CH08'].replace(reemplazos3).infer_objects()\n",
    "frecuencia_CH08 = df_2004['CH08'].value_counts()\n",
    "print(frecuencia_CH08)"
   ]
  },
  {
   "cell_type": "code",
   "execution_count": 33,
   "id": "b186e087-00e2-43a8-82c2-03e0e6552507",
   "metadata": {},
   "outputs": [
    {
     "name": "stdout",
     "output_type": "stream",
     "text": [
      "CH09\n",
      "1    2184\n",
      "2     275\n",
      "3      88\n",
      "Name: count, dtype: int64\n"
     ]
    },
    {
     "name": "stderr",
     "output_type": "stream",
     "text": [
      "C:\\Users\\piliv\\AppData\\Local\\Temp\\ipykernel_27792\\298041256.py:3: FutureWarning: Downcasting behavior in `replace` is deprecated and will be removed in a future version. To retain the old behavior, explicitly call `result.infer_objects(copy=False)`. To opt-in to the future behavior, set `pd.set_option('future.no_silent_downcasting', True)`\n",
      "  df_2004['CH09'] = df_2004['CH09'].replace(\"No\", 2)\n"
     ]
    }
   ],
   "source": [
    "df_2004['CH09'] = df_2004['CH09'].replace(\"Menor de 2 años\", 3)\n",
    "df_2004['CH09'] = df_2004['CH09'].replace(\"Sí\", 1)\n",
    "df_2004['CH09'] = df_2004['CH09'].replace(\"No\", 2)\n",
    "frecuencia_CH09 = df_2004['CH09'].value_counts()\n",
    "print(frecuencia_CH09)"
   ]
  },
  {
   "cell_type": "code",
   "execution_count": 35,
   "id": "4f99c2ff-f6a6-4774-a58e-091a756f580c",
   "metadata": {},
   "outputs": [
    {
     "name": "stdout",
     "output_type": "stream",
     "text": [
      "CH10\n",
      "2    1460\n",
      "1     805\n",
      "3     194\n",
      "0      88\n",
      "Name: count, dtype: int64\n"
     ]
    }
   ],
   "source": [
    "df_2004['CH10'] = df_2004['CH10'].replace(\"Sí, asiste\", 1)\n",
    "df_2004['CH10'] = df_2004['CH10'].replace(\"No asiste, pero asistió\", 2)\n",
    "df_2004['CH10'] = df_2004['CH10'].replace(\"Nunca asistió\", 3)\n",
    "frecuencia_CH10 = df_2004['CH10'].value_counts()\n",
    "print(frecuencia_CH10)"
   ]
  },
  {
   "cell_type": "code",
   "execution_count": 37,
   "id": "aa2c4b2d-b2cf-4784-bc69-27b1844fbd93",
   "metadata": {},
   "outputs": [
    {
     "name": "stdout",
     "output_type": "stream",
     "text": [
      "CH11\n",
      "0    1742\n",
      "1     647\n",
      "2     158\n",
      "Name: count, dtype: int64\n"
     ]
    }
   ],
   "source": [
    "df_2004['CH11'] = df_2004['CH11'].replace(\"Público\", 1)\n",
    "df_2004['CH11'] = df_2004['CH11'].replace(\"Privado\", 2)\n",
    "df_2004['CH11'] = df_2004['CH11'].replace(\"Ns./Nr.\", 9)\n",
    "frecuencia_CH11 = df_2004['CH11'].value_counts()\n",
    "print(frecuencia_CH11)"
   ]
  },
  {
   "cell_type": "code",
   "execution_count": 39,
   "id": "7f924fd1-710b-4f32-b7ba-6fdb65fd94ca",
   "metadata": {},
   "outputs": [
    {
     "name": "stdout",
     "output_type": "stream",
     "text": [
      "CH12\n",
      "2    858\n",
      "4    555\n",
      "7    327\n",
      "3    294\n",
      "0    282\n",
      "6    114\n",
      "5     77\n",
      "1     29\n",
      "9      6\n",
      "8      5\n",
      "Name: count, dtype: int64\n"
     ]
    }
   ],
   "source": [
    "reemplazos4 = {\n",
    "    \"Jardín/Preescolar\": 1,\n",
    "    \"Primario\": 2,\n",
    "    \"EGB\": 3,\n",
    "    \"Secundario\": 4,\n",
    "    \"Polimodal\": 5,\n",
    "    \"Terciario\": 6,\n",
    "    \"Universitario\": 7,\n",
    "    \"Posgrado Universitario\": 8,\n",
    "    \"Educación especial (discapacitado)\": 9\n",
    "}\n",
    "df_2004['CH12'] = df_2004['CH12'].replace(reemplazos4).infer_objects()\n",
    "frecuencia_CH12 = df_2004['CH12'].value_counts()\n",
    "print(frecuencia_CH12)"
   ]
  },
  {
   "cell_type": "code",
   "execution_count": 41,
   "id": "21dd0f85-6487-4364-aa1a-4fcad6410337",
   "metadata": {},
   "outputs": [
    {
     "name": "stdout",
     "output_type": "stream",
     "text": [
      "CH13\n",
      "2    1350\n",
      "1     915\n",
      "0     282\n",
      "Name: count, dtype: int64\n"
     ]
    }
   ],
   "source": [
    "reemplazos5 = {\n",
    "    \"Sí\": 1,\n",
    "    \"No\": 2,\n",
    "    \"Ns./Nr.\": 9\n",
    "}\n",
    "df_2004['CH13'] = df_2004['CH13'].replace(reemplazos5).infer_objects()\n",
    "frecuencia_CH13 = df_2004['CH13'].value_counts()\n",
    "print(frecuencia_CH13)"
   ]
  },
  {
   "cell_type": "code",
   "execution_count": 45,
   "id": "937c1813-ad8f-4394-8727-b69ab0479af2",
   "metadata": {},
   "outputs": [
    {
     "name": "stdout",
     "output_type": "stream",
     "text": [
      "CH15\n",
      "1    2092\n",
      "3     248\n",
      "2     194\n",
      "5       9\n",
      "4       3\n",
      "9       1\n",
      "Name: count, dtype: int64\n",
      "CH16\n",
      "1    2215\n",
      "6     265\n",
      "3      49\n",
      "2      17\n",
      "5       1\n",
      "Name: count, dtype: int64\n"
     ]
    },
    {
     "name": "stderr",
     "output_type": "stream",
     "text": [
      "C:\\Users\\piliv\\AppData\\Local\\Temp\\ipykernel_27792\\4246537981.py:10: FutureWarning: Downcasting behavior in `replace` is deprecated and will be removed in a future version. To retain the old behavior, explicitly call `result.infer_objects(copy=False)`. To opt-in to the future behavior, set `pd.set_option('future.no_silent_downcasting', True)`\n",
      "  df_2004['CH15'] = df_2004['CH15'].replace(reemplazos6)\n"
     ]
    }
   ],
   "source": [
    "reemplazos6 = {\n",
    "    \"En esta localidad\": 1,\n",
    "    \"En otra localidad\": 2,\n",
    "    \"En otra provincia (especificar)\": 3,\n",
    "    \"En un país limítrofe\": 4,\n",
    "    \"En otro país\": 5,\n",
    "    \"No había nacido\": 6,\n",
    "    \"Ns./Nr.\": 9\n",
    "}\n",
    "df_2004['CH15'] = df_2004['CH15'].replace(reemplazos6)\n",
    "frecuencia_CH15 = df_2004['CH15'].value_counts()\n",
    "print(frecuencia_CH15)\n",
    "\n",
    "reemplazos7 = {\n",
    "    \"En esta localidad\": 1,\n",
    "    \"En otra localidad de esta provincia\": 2,\n",
    "    \"En otra provincia (especificar)\": 3,\n",
    "    \"En un país limítrofe\": 4,\n",
    "    \"En otro país\": 5,\n",
    "    \"No había nacido\": 6,\n",
    "    \"Ns./Nr.\": 9\n",
    "}\n",
    "df_2004['CH16'] = df_2004['CH16'].replace(reemplazos7)\n",
    "frecuencia_CH16 = df_2004['CH16'].value_counts()\n",
    "print(frecuencia_CH16)"
   ]
  },
  {
   "cell_type": "code",
   "execution_count": 47,
   "id": "60cab6b2-444d-43cf-b963-cd856413c623",
   "metadata": {},
   "outputs": [
    {
     "name": "stdout",
     "output_type": "stream",
     "text": [
      "NIVEL_ED\n",
      "1    572\n",
      "2    552\n",
      "3    404\n",
      "7    311\n",
      "5    297\n",
      "4    262\n",
      "6    149\n",
      "Name: count, dtype: int64\n"
     ]
    },
    {
     "name": "stderr",
     "output_type": "stream",
     "text": [
      "C:\\Users\\piliv\\AppData\\Local\\Temp\\ipykernel_27792\\2128310067.py:11: FutureWarning: Downcasting behavior in `replace` is deprecated and will be removed in a future version. To retain the old behavior, explicitly call `result.infer_objects(copy=False)`. To opt-in to the future behavior, set `pd.set_option('future.no_silent_downcasting', True)`\n",
      "  df_2004['NIVEL_ED'] = df_2004['NIVEL_ED'].replace(reemplazos_nivel_ed)\n"
     ]
    }
   ],
   "source": [
    "reemplazos_nivel_ed = {\n",
    "    \"Primaria Incompleta (incluye educación especial)\": 1,\n",
    "    \"Primaria Completa\": 2,\n",
    "    \"Secundaria Incompleta\": 3,\n",
    "    \"Secundaria Completa\": 4,\n",
    "    \"Superior Universitaria Incompleta\": 5,\n",
    "    \"Superior Universitaria Completa\": 6,\n",
    "    \"Sin instrucción\": 7,\n",
    "    \"Ns./ Nr.\": 9\n",
    "}\n",
    "df_2004['NIVEL_ED'] = df_2004['NIVEL_ED'].replace(reemplazos_nivel_ed)\n",
    "frecuencia_NIVEL_ED = df_2004['NIVEL_ED'].value_counts()\n",
    "print(frecuencia_NIVEL_ED)"
   ]
  },
  {
   "cell_type": "code",
   "execution_count": 49,
   "id": "d90ef719-1750-4768-a19b-b7142c5c307b",
   "metadata": {},
   "outputs": [
    {
     "name": "stdout",
     "output_type": "stream",
     "text": [
      "ESTADO\n",
      "3    973\n",
      "1    876\n",
      "4    514\n",
      "2    178\n",
      "0      6\n",
      "Name: count, dtype: int64\n"
     ]
    },
    {
     "name": "stderr",
     "output_type": "stream",
     "text": [
      "C:\\Users\\piliv\\AppData\\Local\\Temp\\ipykernel_27792\\517739366.py:8: FutureWarning: Downcasting behavior in `replace` is deprecated and will be removed in a future version. To retain the old behavior, explicitly call `result.infer_objects(copy=False)`. To opt-in to the future behavior, set `pd.set_option('future.no_silent_downcasting', True)`\n",
      "  df_2004['ESTADO'] = df_2004['ESTADO'].replace(reemplazos8)\n"
     ]
    }
   ],
   "source": [
    "reemplazos8 = {\n",
    "    \"Entrevista individual no realizada (no respuesta al cuestion\": 0,\n",
    "    \"Ocupado\": 1,\n",
    "    \"Desocupado\": 2,\n",
    "    \"Inactivo\": 3,\n",
    "    \"Menor de 10 años\": 4\n",
    "}\n",
    "df_2004['ESTADO'] = df_2004['ESTADO'].replace(reemplazos8)\n",
    "frecuencia_ESTADO = df_2004['ESTADO'].value_counts()\n",
    "print(frecuencia_ESTADO)"
   ]
  },
  {
   "cell_type": "code",
   "execution_count": 51,
   "id": "514381e6-76a0-4b39-8556-e696849ec62b",
   "metadata": {},
   "outputs": [
    {
     "name": "stdout",
     "output_type": "stream",
     "text": [
      "CAT_OCUP\n",
      "0    1523\n",
      "3     722\n",
      "2     240\n",
      "1      37\n",
      "4      25\n",
      "Name: count, dtype: int64\n"
     ]
    }
   ],
   "source": [
    "reemplazos9 = {\n",
    "    \"Patrón\": 1,\n",
    "    \"Cuenta propia\": 2,\n",
    "    \"Obrero o empleado\": 3,\n",
    "    \"Trabajador familiar sin remuneración\": 4,\n",
    "    \"Ns./Nr.\": 9\n",
    "}\n",
    "df_2004['CAT_OCUP'] = df_2004['CAT_OCUP'].replace(reemplazos9).infer_objects()\n",
    "frecuencia_CAT_OCUP = df_2004['CAT_OCUP'].value_counts()\n",
    "print(frecuencia_CAT_OCUP)"
   ]
  },
  {
   "cell_type": "code",
   "execution_count": 53,
   "id": "3185db15-0d2c-4c83-9816-c92631399934",
   "metadata": {},
   "outputs": [
    {
     "name": "stdout",
     "output_type": "stream",
     "text": [
      "CAT_INAC\n",
      "0    1060\n",
      "3     654\n",
      "5     313\n",
      "4     248\n",
      "1     184\n",
      "7      59\n",
      "6      24\n",
      "2       5\n",
      "Name: count, dtype: int64\n"
     ]
    }
   ],
   "source": [
    "reemplazos10 = {\n",
    "    \"Jubilado/pensionado\": 1,\n",
    "    \"Rentista\": 2,\n",
    "    \"Estudiante\": 3,\n",
    "    \"Ama de casa\": 4,\n",
    "    \"Menor de 6 años\": 5,\n",
    "    \"Discapacitado\": 6,\n",
    "    \"Otros\": 7\n",
    "}\n",
    "df_2004['CAT_INAC'] = df_2004['CAT_INAC'].replace(reemplazos10).infer_objects()\n",
    "frecuencia_CAT_INAC = df_2004['CAT_INAC'].value_counts()\n",
    "print(frecuencia_CAT_INAC)"
   ]
  },
  {
   "cell_type": "code",
   "execution_count": 55,
   "id": "08b36744-d50d-4c0e-80bd-131f2c2a25da",
   "metadata": {},
   "outputs": [
    {
     "name": "stdout",
     "output_type": "stream",
     "text": [
      "   CODUSU  ANO4       TRIMESTRE  NRO_HOGAR COMPONENTE H15  REGION MAS_500  \\\n",
      "0  125463  2004  1er. Trimestre          1          1   1      40       S   \n",
      "1  125463  2004  1er. Trimestre          1          2   1      40       S   \n",
      "2  125463  2004  1er. Trimestre          1          3   0      40       S   \n",
      "3  125463  2004  1er. Trimestre          1          4   0      40       S   \n",
      "4  125463  2004  1er. Trimestre          1          5   1      40       S   \n",
      "\n",
      "   AGLOMERADO  PONDERA  ...  IDECCFR  RDECCFR GDECCFR  PDECCFR  ADECCFR  \\\n",
      "0          29      259  ...        3        4       2                 4   \n",
      "1          29      259  ...        3        4       2                 4   \n",
      "2          29      259  ...        3        4       2                 4   \n",
      "3          29      259  ...        3        4       2                 4   \n",
      "4          29      259  ...        3        4       2                 4   \n",
      "\n",
      "   PONDIH PJ1_1 PJ2_1 PJ3_1 IDIMPP  \n",
      "0     NaN     0     0     0      0  \n",
      "1     NaN     0     0     0      0  \n",
      "2     NaN     0     0     0      0  \n",
      "3     NaN     0     0     0      0  \n",
      "4     NaN     0     0     0      0  \n",
      "\n",
      "[5 rows x 179 columns]\n"
     ]
    }
   ],
   "source": [
    "df_2004.replace({\"Sí\": 1, \"No\": 2}, inplace=True)\n",
    "print(df_2004.head())"
   ]
  },
  {
   "cell_type": "code",
   "execution_count": 57,
   "id": "8d7019a7-11e7-49d3-930c-49b659381ca7",
   "metadata": {},
   "outputs": [
    {
     "name": "stdout",
     "output_type": "stream",
     "text": [
      "PP03C\n",
      "0    1750\n",
      "1     716\n",
      "2      81\n",
      "Name: count, dtype: int64\n"
     ]
    }
   ],
   "source": [
    "reemplazos11 = {\n",
    "    \"...un sólo empleo/ocupación/actividad?\": 1,\n",
    "    \"...más de un empleo/ocupación/actividad?\": 2\n",
    "}\n",
    "df_2004['PP03C'] = df_2004['PP03C'].replace(reemplazos11)\n",
    "frecuencia_PP03C = df_2004['PP03C'].value_counts()\n",
    "print(frecuencia_PP03C)"
   ]
  },
  {
   "cell_type": "code",
   "execution_count": 59,
   "id": "e19c41e1-a669-4ff3-863e-4c0bb4f6df80",
   "metadata": {},
   "outputs": [
    {
     "name": "stdout",
     "output_type": "stream",
     "text": [
      "PP03H\n",
      "0    2232\n",
      "1     302\n",
      "3       8\n",
      "2       5\n",
      "Name: count, dtype: int64\n"
     ]
    }
   ],
   "source": [
    "reemplazos12 = {\n",
    "    \"...podía trabajarlas esa semana?\": 1,\n",
    "    \"...podía empezar a trabajarlas en dos semanas a más tardar?\": 2, \n",
    "    \"...no podía trabajar más horas?\": 3,\n",
    "    \"...Ns./Nr.\": 9\n",
    "}\n",
    "df_2004['PP03H'] = df_2004['PP03H'].replace(reemplazos12).infer_objects()\n",
    "frecuencia_PP03H = df_2004['PP03H'].value_counts()\n",
    "print(frecuencia_PP03H)"
   ]
  },
  {
   "cell_type": "code",
   "execution_count": 61,
   "id": "7007aedd-2fd0-4378-b21c-a20d71dcf71d",
   "metadata": {},
   "outputs": [
    {
     "name": "stdout",
     "output_type": "stream",
     "text": [
      "INTENSI\n",
      "0    1671\n",
      "4     320\n",
      "3     304\n",
      "1     143\n",
      "5      79\n",
      "2      30\n",
      "Name: count, dtype: int64\n"
     ]
    }
   ],
   "source": [
    "reemplazos13 = {\n",
    "    \"Subocupación horaria Demandante\": 1,\n",
    "    \"Subocupación horaria No Demandante\": 2,\n",
    "    \"Ocupación plena\": 3,\n",
    "    \"Sobreocupación horaria\": 4,\n",
    "    \"Ocupado que no trabajó en la semana\": 5,\n",
    "    \"Ns./Nr.\": 9\n",
    "}\n",
    "df_2004['INTENSI'] = df_2004['INTENSI'].replace(reemplazos13)\n",
    "frecuencia_INTENSI = df_2004['INTENSI'].value_counts()\n",
    "print(frecuencia_INTENSI)"
   ]
  },
  {
   "cell_type": "code",
   "execution_count": 63,
   "id": "a443d00b-0900-41e5-b517-30350115496c",
   "metadata": {},
   "outputs": [
    {
     "name": "stdout",
     "output_type": "stream",
     "text": [
      "PP04A\n",
      "0    1671\n",
      "2     689\n",
      "1     185\n",
      "9       1\n",
      "3       1\n",
      "Name: count, dtype: int64\n"
     ]
    }
   ],
   "source": [
    "reemplazos14 = {\n",
    "    \"...estatal?\": 1,\n",
    "    \"...privada?\": 2,\n",
    "    \"...de otro tipo? (especificar)\": 3,\n",
    "    \"Ns./Nr.\": 9\n",
    "}\n",
    "df_2004['PP04A'] = df_2004['PP04A'].replace(reemplazos14)\n",
    "frecuencia_PP04A = df_2004['PP04A'].value_counts()\n",
    "print(frecuencia_PP04A)"
   ]
  },
  {
   "cell_type": "code",
   "execution_count": 65,
   "id": "d932f61e-0f35-4037-bc64-cee084e91780",
   "metadata": {},
   "outputs": [
    {
     "name": "stdout",
     "output_type": "stream",
     "text": [
      "PP04B1\n",
      "0    1671\n",
      "2     815\n",
      "1      61\n",
      "Name: count, dtype: int64\n"
     ]
    }
   ],
   "source": [
    "df_2004['PP04B1'] = df_2004['PP04B1'].replace(\"Casa de familia\", 1)\n",
    "frecuencia_PP04B1 = df_2004['PP04B1'].value_counts()\n",
    "print(frecuencia_PP04B1)"
   ]
  },
  {
   "cell_type": "code",
   "execution_count": 69,
   "id": "a859b5c3-5cca-43fe-923f-6c5a42619f1f",
   "metadata": {},
   "outputs": [
    {
     "name": "stdout",
     "output_type": "stream",
     "text": [
      "PP04C\n",
      "0     1732\n",
      "1      184\n",
      "2      114\n",
      "7       93\n",
      "6       78\n",
      "8       62\n",
      "3       60\n",
      "99      49\n",
      "9       46\n",
      "11      36\n",
      "4       31\n",
      "10      25\n",
      "12      21\n",
      "5       16\n",
      "Name: count, dtype: int64\n"
     ]
    }
   ],
   "source": [
    "reemplazos_PP04C = {\n",
    "    \"1 persona\": 1,\n",
    "    \"2 personas\": 2,\n",
    "    \"3 personas\": 3,\n",
    "    \"4 personas\": 4,\n",
    "    \"5 personas\": 5,\n",
    "    \"de 6 a 10 personas\": 6,\n",
    "    \"de 11 a 25 personas\": 7,\n",
    "    \"de 26 a 40 personas\": 8,\n",
    "    \"de 41 a 100 personas\": 9,\n",
    "    \"de 101 a 200 personas\": 10,\n",
    "    \"de 201 a 500 personas\": 11,\n",
    "    \"más de 500 personas\": 12,\n",
    "    \"Ns./Nr.\": 99\n",
    "}\n",
    "df_2004['PP04C'] = df_2004['PP04C'].replace(reemplazos_PP04C)\n",
    "frecuencia_PP04C = df_2004['PP04C'].value_counts()\n",
    "print(frecuencia_PP04C)"
   ]
  },
  {
   "cell_type": "code",
   "execution_count": 71,
   "id": "532d06e0-98bc-4267-90be-d606f8bb0d29",
   "metadata": {},
   "outputs": [],
   "source": [
    "df_2004.to_excel('C:/Users/piliv/OneDrive/Documentos/GitHub/-Big-Data-UNT--Grupo-1-/TP03/usu_individual_T104.xlsx', index=False)"
   ]
  },
  {
   "cell_type": "code",
   "execution_count": 75,
   "id": "6d919c05-15fb-4372-b2c7-10ccbb8dd1f4",
   "metadata": {},
   "outputs": [
    {
     "name": "stdout",
     "output_type": "stream",
     "text": [
      "CODUSU        4656\n",
      "ANO4          4656\n",
      "TRIMESTRE     4656\n",
      "NRO_HOGAR     4656\n",
      "COMPONENTE    4656\n",
      "              ... \n",
      "PJ1_1         2547\n",
      "PJ2_1         2547\n",
      "PJ3_1         2547\n",
      "IDIMPP        2547\n",
      "CH05          2109\n",
      "Length: 180, dtype: int64\n"
     ]
    }
   ],
   "source": [
    "df_2004 = pd.read_excel('C:/Users/piliv/OneDrive/Documentos/GitHub/-Big-Data-UNT--Grupo-1-/TP03/usu_individual_T104.xlsx')\n",
    "df_2024 = pd.read_excel('C:/Users/piliv/OneDrive/Documentos/GitHub/-Big-Data-UNT--Grupo-1-/TP03/usu_individual_T124.xlsx')\n",
    "df = pd.concat([df_2004, df_2024], ignore_index=True)\n",
    "conteo_observaciones = df.count()\n",
    "print(conteo_observaciones)"
   ]
  },
  {
   "cell_type": "code",
   "execution_count": 79,
   "id": "e19257f5-8c48-4771-aa40-549ad4068e1a",
   "metadata": {},
   "outputs": [],
   "source": [
    "df.to_excel('C:/Users/piliv/OneDrive/Documentos/GitHub/-Big-Data-UNT--Grupo-1-/TP03/usu_individual_T104_T124.xlsx', index=False)"
   ]
  },
  {
   "cell_type": "code",
   "execution_count": 3,
   "id": "baa5993b-6637-4a61-93c7-673a4451d439",
   "metadata": {},
   "outputs": [],
   "source": [
    "import pandas as pd\n",
    "df = pd.read_excel('C:/Users/piliv/OneDrive/Documentos/GitHub/-Big-Data-UNT--Grupo-1-/TP03/usu_individual_T104_T124.xlsx')"
   ]
  },
  {
   "cell_type": "code",
   "execution_count": 51,
   "id": "c0063f93-4cc2-4501-be54-3e5c25727d77",
   "metadata": {},
   "outputs": [
    {
     "name": "stderr",
     "output_type": "stream",
     "text": [
      "C:\\Users\\piliv\\AppData\\Local\\Temp\\ipykernel_21876\\647545011.py:6: FutureWarning: Downcasting behavior in `replace` is deprecated and will be removed in a future version. To retain the old behavior, explicitly call `result.infer_objects(copy=False)`. To opt-in to the future behavior, set `pd.set_option('future.no_silent_downcasting', True)`\n",
      "  df['CH06'] = df['CH06'].replace('Menos de 1 año', 1)\n"
     ]
    }
   ],
   "source": [
    "#La variable edad, CH06, toma valores positivos, iguales a \"-1\" o iguales a \"menor de 1 año\".\n",
    "#Por ello eliminamos las negativas:\n",
    "df = df[df['CH06'] != -1]\n",
    "#Para el caso \"menor a 1\"optamos por reemplazar por 1 debido a que nuestro análisis se centra en edades más avanzadas \n",
    "#Y debido a que preferimos no eliminar las observaciones ni igualarlas a cero para evitar afectar los resultados \n",
    "df['CH06'] = df['CH06'].replace('Menos de 1 año', 1)"
   ]
  },
  {
   "cell_type": "code",
   "execution_count": 53,
   "id": "ce211890-e39d-49a1-bcd2-5c4306e886f4",
   "metadata": {},
   "outputs": [],
   "source": [
    "#Para los ingresos totales y per cápita elimino las observaciones menores a cero\n",
    "df = df[df['ITF'] >= 0]\n",
    "df = df[df['IPCF'] >= 0]"
   ]
  },
  {
   "cell_type": "code",
   "execution_count": 55,
   "id": "795e9e05-abc6-4712-9bb6-41c5a0c46c7b",
   "metadata": {},
   "outputs": [],
   "source": [
    "df.to_excel('C:/Users/piliv/OneDrive/Documentos/GitHub/-Big-Data-UNT--Grupo-1-/TP03/usu_individual_T104_T124.xlsx', index=False)"
   ]
  },
  {
   "cell_type": "code",
   "execution_count": 57,
   "id": "39a2c84c-c243-4b70-b057-5cbf96be86e6",
   "metadata": {},
   "outputs": [],
   "source": [
    "import pandas as pd\n",
    "import matplotlib.pyplot as plt\n",
    "import seaborn as sns"
   ]
  },
  {
   "cell_type": "code",
   "execution_count": 59,
   "id": "40542aae-bfa3-4434-b3a0-83103479284d",
   "metadata": {},
   "outputs": [],
   "source": [
    "df = pd.read_excel('C:/Users/piliv/OneDrive/Documentos/GitHub/-Big-Data-UNT--Grupo-1-/TP03/usu_individual_T104_T124.xlsx')"
   ]
  },
  {
   "cell_type": "code",
   "execution_count": 61,
   "id": "38d2fe3f-b584-4e4b-9e73-9dfd3f161716",
   "metadata": {},
   "outputs": [
    {
     "data": {
      "image/png": "[encoded data removed]",
      "text/plain": [
       "<Figure size 800x600 with 1 Axes>"
      ]
     },
     "metadata": {},
     "output_type": "display_data"
    }
   ],
   "source": [
    "#Como quiero que en mi gráfico las referencias sean \"Varón\" y \"Mujer\", hago el cambio:\n",
    "df['CH04'] = df['CH04'].replace({1: 'Varón', 2: 'Mujer'})\n",
    "composicion = df.groupby(['ANO4', 'CH04']).size().reset_index(name='frecuencia')\n",
    "plt.figure(figsize=(8, 6))\n",
    "sns.barplot(data=composicion, x='ANO4', y='frecuencia', hue='CH04', palette='pastel')\n",
    "plt.title('Composición por Sexo y Año')\n",
    "plt.xlabel('Año')\n",
    "plt.ylabel('Frecuencia')\n",
    "plt.legend(title='Sexo')\n",
    "plt.xticks(rotation=0)\n",
    "plt.show()"
   ]
  },
  {
   "cell_type": "code",
   "execution_count": 63,
   "id": "72968504-a945-447b-b1bf-fe73e22b36ea",
   "metadata": {},
   "outputs": [],
   "source": [
    "import pandas as pd\n",
    "import matplotlib.pyplot as plt\n",
    "import seaborn as sns"
   ]
  },
  {
   "cell_type": "code",
   "execution_count": 73,
   "id": "971d52e7-bf35-442b-b655-614e9210bbe8",
   "metadata": {},
   "outputs": [
    {
     "name": "stdout",
     "output_type": "stream",
     "text": [
      "CH04         object\n",
      "CH06          int64\n",
      "CH07          int64\n",
      "CH08          int64\n",
      "NIVEL_ED      int64\n",
      "ESTADO        int64\n",
      "CAT_INAC      int64\n",
      "IPCF        float64\n",
      "dtype: object\n"
     ]
    }
   ],
   "source": [
    "print(df[['CH04', 'CH06', 'CH07', 'CH08', 'NIVEL_ED', 'ESTADO', 'CAT_INAC', 'IPCF']].dtypes)"
   ]
  },
  {
   "cell_type": "code",
   "execution_count": 75,
   "id": "895b4cc0-0c4e-4479-be12-bdc004b9e17a",
   "metadata": {},
   "outputs": [
    {
     "name": "stderr",
     "output_type": "stream",
     "text": [
      "C:\\Users\\piliv\\AppData\\Local\\Temp\\ipykernel_21876\\2239211342.py:3: FutureWarning: Downcasting behavior in `replace` is deprecated and will be removed in a future version. To retain the old behavior, explicitly call `result.infer_objects(copy=False)`. To opt-in to the future behavior, set `pd.set_option('future.no_silent_downcasting', True)`\n",
      "  df['CH04'] = df['CH04'].replace(\"Mujer\", 2)\n"
     ]
    }
   ],
   "source": [
    "#Volvemos a poner en formato int64 a la variable CH04\n",
    "df['CH04'] = df['CH04'].replace(\"Varón\", 1)\n",
    "df['CH04'] = df['CH04'].replace(\"Mujer\", 2)\n",
    "#Queremos pasar los ingresos de tipo float64 a tipo int64\n",
    "df['IPCF'] = df['IPCF'].astype('int64')"
   ]
  },
  {
   "cell_type": "code",
   "execution_count": 77,
   "id": "3d0845ff-05e3-4a92-a2a0-f061de060698",
   "metadata": {},
   "outputs": [
    {
     "name": "stdout",
     "output_type": "stream",
     "text": [
      "CH04        int64\n",
      "CH06        int64\n",
      "CH07        int64\n",
      "CH08        int64\n",
      "NIVEL_ED    int64\n",
      "ESTADO      int64\n",
      "CAT_INAC    int64\n",
      "IPCF        int64\n",
      "dtype: object\n"
     ]
    }
   ],
   "source": [
    "#Verificamos los cambios realizados\n",
    "print(df[['CH04', 'CH06', 'CH07', 'CH08', 'NIVEL_ED', 'ESTADO', 'CAT_INAC', 'IPCF']].dtypes)"
   ]
  },
  {
   "cell_type": "code",
   "execution_count": 83,
   "id": "7fa8c0f5-57a4-426b-a2b8-064763aa6491",
   "metadata": {},
   "outputs": [],
   "source": [
    "df.to_excel(\"C:/Users/piliv/OneDrive/Documentos/GitHub/-Big-Data-UNT--Grupo-1-/TP03/df_int64.xlsx\", index=False)"
   ]
  },
  {
   "cell_type": "code",
   "execution_count": 85,
   "id": "f8b21702-9110-4b80-9035-f5a40ecb4489",
   "metadata": {},
   "outputs": [],
   "source": [
    "df = pd.read_excel(\"C:/Users/piliv/OneDrive/Documentos/GitHub/-Big-Data-UNT--Grupo-1-/TP03/df_int64.xlsx\")"
   ]
  },
  {
   "cell_type": "code",
   "execution_count": 89,
   "id": "185f87dc-a9dc-46de-806f-85ee3dec2f11",
   "metadata": {},
   "outputs": [
    {
     "data": {
      "image/png": "[encoded data removed]",
      "text/plain": [
       "<Figure size 800x600 with 2 Axes>"
      ]
     },
     "metadata": {},
     "output_type": "display_data"
    }
   ],
   "source": [
    "import pandas as pd\n",
    "import seaborn as sns\n",
    "import matplotlib.pyplot as plt\n",
    "variables = ['CH04', 'CH06', 'CH07', 'CH08', 'NIVEL_ED', 'ESTADO', 'CAT_INAC', 'IPCF']\n",
    "df_selected = df[variables]\n",
    "correlation_matrix = df_selected.corr()\n",
    "# Crear el heatmap\n",
    "plt.figure(figsize=(8, 6))  # Ajusta el tamaño según necesites\n",
    "sns.heatmap(correlation_matrix, vmin=-1, vmax=1, annot=True, cmap=\"coolwarm\", square=True)\n",
    "plt.title('Matriz de Correlación (2004 y 2024)')\n",
    "plt.show()"
   ]
  },
  {
   "cell_type": "code",
   "execution_count": 95,
   "id": "2e26761a-e010-4ad8-9f9a-fede5606c0ba",
   "metadata": {},
   "outputs": [
    {
     "name": "stdout",
     "output_type": "stream",
     "text": [
      "Número de observaciones con valor 2 en ESTADO: 259\n",
      "Número de observaciones con valor 2 en ESTADO para 2024: 81\n",
      "Número de observaciones con valor 2 en ESTADO para 2004: 178\n"
     ]
    }
   ],
   "source": [
    "#La variable \"ESTADO\" nos indica la condición de actividad de las personas. \n",
    "#la variable \"ESTADO\" toma el valor 2 si la persona está desocupada\n",
    "conteo_estado = df['ESTADO'].value_counts().get(2, 0)\n",
    "print(f'Número de observaciones con valor 2 en ESTADO: {conteo_estado}')\n",
    "#de las cuales, para el 2024:\n",
    "conteo_estado_2024 = df[(df['ANO4'] == 2024) & (df['ESTADO'] == 2)].shape[0]\n",
    "print(f'Número de observaciones con valor 2 en ESTADO para 2024: {conteo_estado_2024}')\n",
    "#y para el año 2004:\n",
    "conteo_estado_2004 = df[(df['ANO4'] == 2004) & (df['ESTADO'] == 2)].shape[0]\n",
    "print(f'Número de observaciones con valor 2 en ESTADO para 2004: {conteo_estado_2004}')"
   ]
  },
  {
   "cell_type": "code",
   "execution_count": 97,
   "id": "6316871a-c2b1-4ba4-8505-a643c8ab64d5",
   "metadata": {},
   "outputs": [
    {
     "name": "stdout",
     "output_type": "stream",
     "text": [
      "Número de observaciones con valor 3 en ESTADO: 1842\n",
      "Número de observaciones con valor 3 en ESTADO para 2024: 869\n",
      "Número de observaciones con valor 3 en ESTADO para 2004: 973\n"
     ]
    }
   ],
   "source": [
    "#Para los inactivos corremos un código análogo\n",
    "conteo_estado = df['ESTADO'].value_counts().get(3, 0)\n",
    "print(f'Número de observaciones con valor 3 en ESTADO: {conteo_estado}')\n",
    "#de las cuales, para el 2024:\n",
    "conteo_estado_2024 = df[(df['ANO4'] == 2024) & (df['ESTADO'] == 3)].shape[0]\n",
    "print(f'Número de observaciones con valor 3 en ESTADO para 2024: {conteo_estado_2024}')\n",
    "#y para el año 2004:\n",
    "conteo_estado_2004 = df[(df['ANO4'] == 2004) & (df['ESTADO'] == 3)].shape[0]\n",
    "print(f'Número de observaciones con valor 3 en ESTADO para 2004: {conteo_estado_2004}')"
   ]
  },
  {
   "cell_type": "code",
   "execution_count": 99,
   "id": "a92e5565-2827-4250-9465-e63e202a892b",
   "metadata": {},
   "outputs": [
    {
     "name": "stdout",
     "output_type": "stream",
     "text": [
      "ESTADO\n",
      "0      127.300000\n",
      "1    77186.929498\n",
      "2    31834.351351\n",
      "3    60272.359935\n",
      "4    32074.858081\n",
      "Name: IPCF, dtype: float64\n"
     ]
    }
   ],
   "source": [
    "#Calcular la media de IPCF según el ESTADO\n",
    "media_por_estado = df.groupby('ESTADO')['IPCF'].mean()\n",
    "print(media_por_estado)"
   ]
  },
  {
   "cell_type": "code",
   "execution_count": 101,
   "id": "ddb64df4-a8be-451f-829e-089c6ab6530e",
   "metadata": {},
   "outputs": [],
   "source": [
    "df.to_excel(\"C:/Users/piliv/OneDrive/Documentos/GitHub/-Big-Data-UNT--Grupo-1-/TP03/df_int64.xlsx\", index=False)"
   ]
  },
  {
   "cell_type": "code",
   "execution_count": null,
   "id": "c6c59bf0-f1d3-416f-a68e-a0047f261e91",
   "metadata": {},
   "outputs": [],
   "source": []
  }
 ],
 "metadata": {
  "kernelspec": {
   "display_name": "Python 3 (ipykernel)",
   "language": "python",
   "name": "python3"
  },
  "language_info": {
   "codemirror_mode": {
    "name": "ipython",
    "version": 3
   },
   "file_extension": ".py",
   "mimetype": "text/x-python",
   "name": "python",
   "nbconvert_exporter": "python",
   "pygments_lexer": "ipython3",
   "version": "3.12.4"
  }
 },
 "nbformat": 4,
 "nbformat_minor": 5
}
