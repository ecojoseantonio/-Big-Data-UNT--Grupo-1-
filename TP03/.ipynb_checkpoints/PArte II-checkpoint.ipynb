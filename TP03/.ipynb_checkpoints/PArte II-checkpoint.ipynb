{
 "cells": [
  {
   "cell_type": "code",
   "execution_count": 2,
   "id": "54159cc6-1055-4087-a3ec-be456244688b",
   "metadata": {},
   "outputs": [],
   "source": [
    "# PUNTO II"
   ]
  },
  {
   "cell_type": "code",
   "execution_count": 53,
   "id": "2ab0575a-918e-416e-a695-86f8318555a5",
   "metadata": {},
   "outputs": [
    {
     "name": "stdout",
     "output_type": "stream",
     "text": [
      "C:\\Users\\jose.lopez\\OneDrive - Vicente Trapani Sa\\Documents\\GitHub\\-Big-Data-UNT--Grupo-1-\\TP03\n"
     ]
    }
   ],
   "source": [
    "import os\n",
    "\n",
    "current_directory = os.getcwd()\n",
    "print(current_directory)"
   ]
  },
  {
   "cell_type": "code",
   "execution_count": 71,
   "id": "c7662e60-6163-4b45-915d-6a596d7474e5",
   "metadata": {},
   "outputs": [],
   "source": [
    "import pandas as pd\n",
    "from sklearn.model_selection import train_test_split\n",
    "from sklearn.neighbors import KNeighborsClassifier\n",
    "from sklearn.metrics import accuracy_score, classification_report\n",
    "from sklearn.impute import SimpleImputer\n",
    "\n"
   ]
  },
  {
   "cell_type": "code",
   "execution_count": 73,
   "id": "3ef09cb7-41ce-47bd-81da-7f06077c476d",
   "metadata": {},
   "outputs": [
    {
     "name": "stdout",
     "output_type": "stream",
     "text": [
      "   CODUSU  ANO4  TRIMESTRE  NRO_HOGAR  COMPONENTE  H15  REGION MAS_500  \\\n",
      "0  125463  2004          1          1           1    1      40       S   \n",
      "1  125571  2004          1          1           2    1      40       S   \n",
      "2  125571  2004          1          1           3    1      40       S   \n",
      "3  126052  2004          1          1           1    1      40       S   \n",
      "4  126052  2004          1          1           2    1      40       S   \n",
      "\n",
      "   AGLOMERADO  PONDERA  ...  ADECCFR PONDIH  PJ1_1  PJ2_1  PJ3_1  IDIMPP  \\\n",
      "0          29      259  ...        4    NaN      0      0      0     0.0   \n",
      "1          29      296  ...        1    NaN      0      0      0     0.0   \n",
      "2          29      296  ...        1    NaN      0      0      0     0.0   \n",
      "3          29      231  ...        9    NaN      0      0      0     0.0   \n",
      "4          29      231  ...        9    NaN      0      0      0     0.0   \n",
      "\n",
      "   CH05  DESOCUPADO  PEA  PET  \n",
      "0   NaT           0    1    1  \n",
      "1   NaT           0    1    1  \n",
      "2   NaT           0    1    1  \n",
      "3   NaT           0    1    1  \n",
      "4   NaT           0    1    1  \n",
      "\n",
      "[5 rows x 183 columns]\n"
     ]
    }
   ],
   "source": [
    "# Carga el archivo Excel\n",
    "#df = pd.read_excel(\"C:\\Users\\jose.lopez\\OneDrive - Vicente Trapani Sa\\Documents\\GitHub\\-Big-Data-UNT--Grupo-1-\\-Big-Data-UNT--Grupo-1-\\TP03\\RespondieronJL.xlsx\")\n",
    "df = pd.read_excel(r\"C:\\Users\\jose.lopez\\OneDrive - Vicente Trapani Sa\\Documents\\GitHub\\-Big-Data-UNT--Grupo-1-\\-Big-Data-UNT--Grupo-1-\\TP03\\RespondieronJL.xlsx\")\n",
    "#\n",
    "#C:\\\\Users\\\\jose.lopez\\O\\neDrive - Vicente Trapani Sa\\\\Documents\\\\GitHub\\\\-Big-Data-UNT--Grupo-1-\\\\TP03\\\\RespondieronJL.xlsx\n",
    "# Muestra las primeras 5 filas del DataFrame\n",
    "print(df.head())"
   ]
  },
  {
   "cell_type": "code",
   "execution_count": 83,
   "id": "2cb8fc36-3483-4f71-8b4a-1942a0f5c5ce",
   "metadata": {},
   "outputs": [
    {
     "name": "stdout",
     "output_type": "stream",
     "text": [
      "Año 2004 - Precisión: 0.9305373525557011\n",
      "Año 2004 - Reporte de Clasificación:\n",
      "              precision    recall  f1-score   support\n",
      "\n",
      "           0       0.93      1.00      0.96       710\n",
      "           1       0.00      0.00      0.00        53\n",
      "\n",
      "    accuracy                           0.93       763\n",
      "   macro avg       0.47      0.50      0.48       763\n",
      "weighted avg       0.87      0.93      0.90       763\n",
      "\n",
      "Año 2024 - Precisión: 0.9523052464228935\n",
      "Año 2024 - Reporte de Clasificación:\n",
      "              precision    recall  f1-score   support\n",
      "\n",
      "           0       0.96      1.00      0.98       601\n",
      "           1       0.00      0.00      0.00        28\n",
      "\n",
      "    accuracy                           0.95       629\n",
      "   macro avg       0.48      0.50      0.49       629\n",
      "weighted avg       0.91      0.95      0.93       629\n",
      "\n"
     ]
    }
   ],
   "source": [
    "# Filtra los datos por año\n",
    "df_2004 = df[df['ANO4'] == 2004]\n",
    "df_2024 = df[df['ANO4'] == 2024]\n",
    "\n",
    "# Divide los datos en variables dependientes e independientes para cada año\n",
    "X_2004 = df_2004.drop('DESOCUPADO', axis=1)\n",
    "y_2004 = df_2004['DESOCUPADO']\n",
    "X_2024 = df_2024.drop('DESOCUPADO', axis=1)\n",
    "y_2024 = df_2024['DESOCUPADO']\n",
    "\n",
    "# Agrega una columna de unos a las variables independientes\n",
    "X_2004['ones'] = 1\n",
    "X_2024['ones'] = 1\n",
    "\n",
    "# Convierte las columnas a valores numéricos y maneja los errores\n",
    "for column in X_2004.columns:\n",
    "    X_2004[column] = pd.to_numeric(X_2004[column], errors='coerce')\n",
    "    X_2024[column] = pd.to_numeric(X_2024[column], errors='coerce')\n",
    "\n",
    "# Elimina columnas que no tienen ningún valor observado\n",
    "X_2004 = X_2004.dropna(axis=1, how='all')\n",
    "X_2024 = X_2024.dropna(axis=1, how='all')\n",
    "\n",
    "# Utiliza SimpleImputer para reemplazar los valores NaN con la media de la columna\n",
    "imputer = SimpleImputer(strategy='mean')\n",
    "X_2004 = imputer.fit_transform(X_2004)\n",
    "X_2024 = imputer.fit_transform(X_2024)\n",
    "\n",
    "# Divide los datos en conjuntos de entrenamiento y prueba para cada año\n",
    "X_train_2004, X_test_2004, y_train_2004, y_test_2004 = train_test_split(X_2004, y_2004, test_size=0.3, random_state=101)\n",
    "X_train_2024, X_test_2024, y_train_2024, y_test_2024 = train_test_split(X_2024, y_2024, test_size=0.3, random_state=101)\n",
    "\n",
    "# Función para entrenar y evaluar KNN\n",
    "def train_and_evaluate_knn(X_train, X_test, y_train, y_test):\n",
    "    knn = KNeighborsClassifier(n_neighbors=3)\n",
    "    knn.fit(X_train, y_train)\n",
    "    y_pred = knn.predict(X_test)\n",
    "    accuracy = accuracy_score(y_test, y_pred)\n",
    "    report = classification_report(y_test, y_pred, zero_division=0)\n",
    "    return accuracy, report\n",
    "\n",
    "# Para el año 2004\n",
    "accuracy_2004, report_2004 = train_and_evaluate_knn(X_train_2004, X_test_2004, y_train_2004, y_test_2004)\n",
    "print(f'Año 2004 - Precisión: {accuracy_2004}')\n",
    "print(f'Año 2004 - Reporte de Clasificación:\\n{report_2004}')\n",
    "\n",
    "# Para el año 2024\n",
    "accuracy_2024, report_2024 = train_and_evaluate_knn(X_train_2024, X_test_2024, y_train_2024, y_test_2024)\n",
    "print(f'Año 2024 - Precisión: {accuracy_2024}')\n",
    "print(f'Año 2024 - Reporte de Clasificación:\\n{report_2024}')"
   ]
  },
  {
   "cell_type": "code",
   "execution_count": null,
   "id": "dca4e6ee-e954-4814-8405-cbaa1881bff6",
   "metadata": {},
   "outputs": [],
   "source": []
  }
 ],
 "metadata": {
  "kernelspec": {
   "display_name": "Python 3 (ipykernel)",
   "language": "python",
   "name": "python3"
  },
  "language_info": {
   "codemirror_mode": {
    "name": "ipython",
    "version": 3
   },
   "file_extension": ".py",
   "mimetype": "text/x-python",
   "name": "python",
   "nbconvert_exporter": "python",
   "pygments_lexer": "ipython3",
   "version": "3.12.4"
  }
 },
 "nbformat": 4,
 "nbformat_minor": 5
}
