{
 "cells": [
  {
   "cell_type": "code",
   "execution_count": 2,
   "id": "54159cc6-1055-4087-a3ec-be456244688b",
   "metadata": {},
   "outputs": [],
   "source": [
    "# PUNTO II"
   ]
  },
  {
   "cell_type": "code",
   "execution_count": 4,
   "id": "2ab0575a-918e-416e-a695-86f8318555a5",
   "metadata": {},
   "outputs": [
    {
     "name": "stdout",
     "output_type": "stream",
     "text": [
      "C:\\Users\\jose.lopez\\OneDrive - Vicente Trapani Sa\\Documents\\GitHub\\-Big-Data-UNT--Grupo-1-\\TP03\n"
     ]
    }
   ],
   "source": [
    "import os\n",
    "\n",
    "current_directory = os.getcwd()\n",
    "print(current_directory)"
   ]
  },
  {
   "cell_type": "code",
   "execution_count": 6,
   "id": "c7662e60-6163-4b45-915d-6a596d7474e5",
   "metadata": {},
   "outputs": [],
   "source": [
    "import pandas as pd\n",
    "\n",
    "\n"
   ]
  },
  {
   "cell_type": "code",
   "execution_count": 8,
   "id": "3ef09cb7-41ce-47bd-81da-7f06077c476d",
   "metadata": {},
   "outputs": [
    {
     "name": "stdout",
     "output_type": "stream",
     "text": [
      "   CODUSU  ANO4  TRIMESTRE  NRO_HOGAR  COMPONENTE  H15  REGION MAS_500  \\\n",
      "0  125463  2004          1          1           1    1      40       S   \n",
      "1  125571  2004          1          1           2    1      40       S   \n",
      "2  125571  2004          1          1           3    1      40       S   \n",
      "3  126052  2004          1          1           1    1      40       S   \n",
      "4  126052  2004          1          1           2    1      40       S   \n",
      "\n",
      "   AGLOMERADO  PONDERA  ...  ADECCFR PONDIH  PJ1_1  PJ2_1  PJ3_1  IDIMPP  \\\n",
      "0          29      259  ...        4    NaN      0      0      0     0.0   \n",
      "1          29      296  ...        1    NaN      0      0      0     0.0   \n",
      "2          29      296  ...        1    NaN      0      0      0     0.0   \n",
      "3          29      231  ...        9    NaN      0      0      0     0.0   \n",
      "4          29      231  ...        9    NaN      0      0      0     0.0   \n",
      "\n",
      "   CH05  DESOCUPADO  PEA  PET  \n",
      "0   NaT           0    1    1  \n",
      "1   NaT           0    1    1  \n",
      "2   NaT           0    1    1  \n",
      "3   NaT           0    1    1  \n",
      "4   NaT           0    1    1  \n",
      "\n",
      "[5 rows x 183 columns]\n"
     ]
    }
   ],
   "source": [
    "# Carga el archivo Excel\n",
    "#df = pd.read_excel(\"C:\\Users\\jose.lopez\\OneDrive - Vicente Trapani Sa\\Documents\\GitHub\\-Big-Data-UNT--Grupo-1-\\-Big-Data-UNT--Grupo-1-\\TP03\\RespondieronJL.xlsx\")\n",
    "df = pd.read_excel(r\"C:\\Users\\jose.lopez\\OneDrive - Vicente Trapani Sa\\Documents\\GitHub\\-Big-Data-UNT--Grupo-1-\\-Big-Data-UNT--Grupo-1-\\TP03\\RespondieronJL.xlsx\")\n",
    "#\n",
    "#C:\\\\Users\\\\jose.lopez\\O\\neDrive - Vicente Trapani Sa\\\\Documents\\\\GitHub\\\\-Big-Data-UNT--Grupo-1-\\\\TP03\\\\RespondieronJL.xlsx\n",
    "# Muestra las primeras 5 filas del DataFrame\n",
    "print(df.head())"
   ]
  },
  {
   "cell_type": "code",
   "execution_count": 14,
   "id": "2cb8fc36-3483-4f71-8b4a-1942a0f5c5ce",
   "metadata": {},
   "outputs": [
    {
     "name": "stdout",
     "output_type": "stream",
     "text": [
      "Tamaño de X_train_2004: (1778, 183)\n",
      "Tamaño de X_test_2004: (763, 183)\n",
      "Tamaño de y_train_2004: (1778,)\n",
      "Tamaño de y_test_2004: (763,)\n",
      "Tamaño de X_train_2024: (1465, 183)\n",
      "Tamaño de X_test_2024: (629, 183)\n",
      "Tamaño de y_train_2024: (1465,)\n",
      "Tamaño de y_test_2024: (629,)\n"
     ]
    }
   ],
   "source": [
    "from sklearn.model_selection import train_test_split\n",
    "\n",
    "# Filtra los datos por año\n",
    "df_2004 = df[df['ANO4'] == 2004]\n",
    "df_2024 = df[df['ANO4'] == 2024]\n",
    "\n",
    "# Divide los datos en variables dependientes e independientes para cada año\n",
    "X_2004 = df_2004.drop('DESOCUPADO', axis=1)\n",
    "y_2004 = df_2004['DESOCUPADO']\n",
    "X_2024 = df_2024.drop('DESOCUPADO', axis=1)\n",
    "y_2024 = df_2024['DESOCUPADO']\n",
    "\n",
    "# Agrega una columna de unos a las variables independientes\n",
    "X_2004['ones'] = 1\n",
    "X_2024['ones'] = 1\n",
    "\n",
    "# Divide los datos en conjuntos de entrenamiento y prueba para cada año\n",
    "X_train_2004, X_test_2004, y_train_2004, y_test_2004 = train_test_split(X_2004, y_2004, test_size=0.3, random_state=101)\n",
    "X_train_2024, X_test_2024, y_train_2024, y_test_2024 = train_test_split(X_2024, y_2024, test_size=0.3, random_state=101)\n",
    "\n",
    "# Verifica los tamaños de los conjuntos\n",
    "print(f'Tamaño de X_train_2004: {X_train_2004.shape}')\n",
    "print(f'Tamaño de X_test_2004: {X_test_2004.shape}')\n",
    "print(f'Tamaño de y_train_2004: {y_train_2004.shape}')\n",
    "print(f'Tamaño de y_test_2004: {y_test_2004.shape}')\n",
    "print(f'Tamaño de X_train_2024: {X_train_2024.shape}')\n",
    "print(f'Tamaño de X_test_2024: {X_test_2024.shape}')\n",
    "print(f'Tamaño de y_train_2024: {y_train_2024.shape}')\n",
    "print(f'Tamaño de y_test_2024: {y_test_2024.shape}')\n"
   ]
  },
  {
   "cell_type": "code",
   "execution_count": null,
   "id": "d7a9af66-28b0-4ab1-acbd-12cc6d59d495",
   "metadata": {},
   "outputs": [],
   "source": []
  }
 ],
 "metadata": {
  "kernelspec": {
   "display_name": "Python 3 (ipykernel)",
   "language": "python",
   "name": "python3"
  },
  "language_info": {
   "codemirror_mode": {
    "name": "ipython",
    "version": 3
   },
   "file_extension": ".py",
   "mimetype": "text/x-python",
   "name": "python",
   "nbconvert_exporter": "python",
   "pygments_lexer": "ipython3",
   "version": "3.12.4"
  }
 },
 "nbformat": 4,
 "nbformat_minor": 5
}
