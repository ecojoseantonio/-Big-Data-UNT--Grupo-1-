{
 "cells": [
  {
   "cell_type": "markdown",
   "metadata": {
    "collapsed": true,
    "id": "Dh8MkXaG-c9Y",
    "jupyter": {
     "outputs_hidden": true
    }
   },
   "source": [
    "# Big Data (UNT) -  2024\n",
    "\n",
    "## Trabajo Práctico 2 "
   ]
  },
  {
   "cell_type": "markdown",
   "metadata": {
    "id": "ZEjGaa4U-c9g"
   },
   "source": [
    "### Fecha de entrega:\n",
    "Jueves 26 de septiembre a las 13:00 hs"
   ]
  },
  {
   "cell_type": "markdown",
   "metadata": {
    "id": "N9TU2y7E-c9h"
   },
   "source": [
    "### Modalidad de entrega\n",
    "- Al finalizar el trabajo práctico deben hacer un último <i>commit</i> en su repositorio de GitHub llamado **“Entrega final del tp”**. \n",
    "- Asegurense de haber creado una carpeta llamada TP2. Deben entregar un reporte (pdf) y el código (jupyter notebook). Ambos deben estar dentro de esa carpeta.\n",
    "- También deben enviar el link de su repositorio -para que pueda ser clonado y corregido- en el canal de Slack **#tp-entregas**.\n",
    "- La última versión en el repositorio es la que será evaluada. Por lo que es importante que: \n",
    "    - No envien el mensaje en el canal de Slack **#tp-entregas** hasta no haber terminado y estar seguros de que han hecho el <i>commit y push</i> a la versión final que quieren entregar. Debido a que se pueden tomar hasta 3 días de extensión a lo largo del curso, no se corregirán sus tareas hasta no recibir el mensaje en el canal **#tp-entregas** y me tageen (@marianr2).\n",
    "    - No hagan nuevos <i>push</i> después de haber entregado su versión final. Esto generaría confusión acerca de que versión es la que quieren que se les corrija. "
   ]
  },
  {
   "cell_type": "markdown",
   "metadata": {},
   "source": [
    "### Reglas de formato y presentation\n",
    "- El trabajo debe tener una extensión máxima de 8 páginas (no se permite Apéndice). Se espera una buena redacción en la resolución del práctico.\n",
    "- El informe debe ser entregado en formato PDF, con los gráficos e imágenes en este mismo archivo.\n",
    "- Entregar el código con los comandos utilizados, identificando claramente a qué inciso corresponde cada comando."
   ]
  },
  {
   "cell_type": "markdown",
   "metadata": {},
   "source": [
    "### Parte I: Limpieza de la base"
   ]
  },
  {
   "cell_type": "markdown",
   "metadata": {
    "id": "ZXbrPraa-c9i"
   },
   "source": [
    "#### Ejercicio 1\n",
    "La base de datos provista contiene información sobre oferentes de Airbnb en la ciudad de Nueva York. Realicen una limpieza de la base.\n",
    "- Tengan en cuenta si hay valores duplicados y eliminénlos.\n",
    "- Eliminen las columnas que no tienen información de interés.\n",
    "- (Opcional) Luego de leer el artículo __[Missing-data imputation](https://bookdown.org/mike/data_analysis/imputation-missing-data.html##imputation-missing-data)__ (__[Missing-data imputation articulo alternativo](http://www.stat.columbia.edu/~gelman/arm/missing.pdf)__), decidan qué hacer con los missing values e implementen su decision. Justifiquen su eleccion. Pueden usar informacion del paper mencionado o de otras fuentes (citenlas si las usan) para explicar los problemas que pueden surgir por su estrategia elegida.\n",
    "- Si hay observaciones con *outliers* o valores que no tienen sentido, tomen una decision. Expliquen las decisiones tomadas.\n",
    "- Transformen las variables **‘neighbourhood_group’** y **‘room_type’** a variables numericas.\n",
    "- Con la ayuda de los comandos <code>groupby</code> y <code>join</code> o <code>merge</code>, creen una columna que tenga la cantidad de oferentes por “Neighbourhood group”. Llamen a esa nueva columna <code>offer group</code>"
   ]
  },
  {
   "cell_type": "code",
   "execution_count": 1,
   "metadata": {},
   "outputs": [
    {
     "name": "stdout",
     "output_type": "stream",
     "text": [
      "Requirement already satisfied: pandas in c:\\users\\piliv\\anaconda\\lib\\site-packages (2.2.3)\n",
      "Requirement already satisfied: openpyxl in c:\\users\\piliv\\anaconda\\lib\\site-packages (3.1.2)\n",
      "Requirement already satisfied: numpy>=1.26.0 in c:\\users\\piliv\\anaconda\\lib\\site-packages (from pandas) (1.26.4)\n",
      "Requirement already satisfied: python-dateutil>=2.8.2 in c:\\users\\piliv\\anaconda\\lib\\site-packages (from pandas) (2.9.0.post0)\n",
      "Requirement already satisfied: pytz>=2020.1 in c:\\users\\piliv\\anaconda\\lib\\site-packages (from pandas) (2024.1)\n",
      "Requirement already satisfied: tzdata>=2022.7 in c:\\users\\piliv\\anaconda\\lib\\site-packages (from pandas) (2023.3)\n",
      "Requirement already satisfied: et-xmlfile in c:\\users\\piliv\\anaconda\\lib\\site-packages (from openpyxl) (1.1.0)\n",
      "Requirement already satisfied: six>=1.5 in c:\\users\\piliv\\anaconda\\lib\\site-packages (from python-dateutil>=2.8.2->pandas) (1.16.0)\n"
     ]
    }
   ],
   "source": [
    "#Instalamos las bibliotecas necesarias:\n",
    "!pip install pandas openpyxl"
   ]
  },
  {
   "cell_type": "code",
   "execution_count": 14,
   "metadata": {},
   "outputs": [
    {
     "name": "stdout",
     "output_type": "stream",
     "text": [
      "     id                                              name  host_id  \\\n",
      "0  2539                Clean & quiet apt home by the park     2787   \n",
      "1  2595                             Skylit Midtown Castle     2845   \n",
      "2  3647               THE VILLAGE OF HARLEM....NEW YORK !     4632   \n",
      "3  3831                   Cozy Entire Floor of Brownstone     4869   \n",
      "4  5022  Entire Apt: Spacious Studio/Loft by central park     7192   \n",
      "\n",
      "     host_name neighbourhood_group neighbourhood  latitude  longitude  \\\n",
      "0         John            Brooklyn    Kensington  40.64749  -73.97237   \n",
      "1     Jennifer           Manhattan       Midtown  40.75362  -73.98377   \n",
      "2    Elisabeth           Manhattan        Harlem  40.80902  -73.94190   \n",
      "3  LisaRoxanne            Brooklyn  Clinton Hill  40.68514  -73.95976   \n",
      "4        Laura           Manhattan   East Harlem  40.79851  -73.94399   \n",
      "\n",
      "         room_type  price  minimum_nights  number_of_reviews last_review  \\\n",
      "0     Private room  149.0               1                  9  2018-10-19   \n",
      "1  Entire home/apt  225.0               1                 45  2019-05-21   \n",
      "2     Private room  150.0               3                  0         NaN   \n",
      "3  Entire home/apt   89.0               1                270  2019-07-05   \n",
      "4  Entire home/apt   80.0              10                  9  2018-11-19   \n",
      "\n",
      "   reviews_per_month  calculated_host_listings_count  availability_365  \n",
      "0               0.21                               6               365  \n",
      "1               0.38                               2               355  \n",
      "2                NaN                               1               365  \n",
      "3               4.64                               1               194  \n",
      "4               0.10                               1                 0  \n"
     ]
    }
   ],
   "source": [
    "import pandas as pd\n",
    "#Cargamos el archivo de excel\n",
    "df = pd.read_csv(\"C:/Users/jose.lopez/OneDrive - Vicente Trapani Sa/Documents/GitHub/-Big-Data-UNT--Grupo-1-/TP02/Base Airbnb NY.csv\")\n",
    "#jose.lopez\\OneDrive - Vicente Trapani Sa\\Documents\n",
    "#El siguiente comando nos enseña las primeras filas de la base que cargamos\n",
    "print(df.head())"
   ]
  },
  {
   "cell_type": "code",
   "execution_count": 16,
   "metadata": {},
   "outputs": [
    {
     "data": {
      "text/plain": [
       "10"
      ]
     },
     "execution_count": 16,
     "metadata": {},
     "output_type": "execute_result"
    }
   ],
   "source": [
    "#Vamos a revisar que duplicados tiene el archivo\n",
    "df.duplicated().sum()"
   ]
  },
  {
   "cell_type": "code",
   "execution_count": 20,
   "metadata": {},
   "outputs": [
    {
     "name": "stdout",
     "output_type": "stream",
     "text": [
      "             id                                               name   host_id  \\\n",
      "0          2539                 Clean & quiet apt home by the park      2787   \n",
      "1          2595                              Skylit Midtown Castle      2845   \n",
      "2          3647                THE VILLAGE OF HARLEM....NEW YORK !      4632   \n",
      "3          3831                    Cozy Entire Floor of Brownstone      4869   \n",
      "4          5022   Entire Apt: Spacious Studio/Loft by central park      7192   \n",
      "...         ...                                                ...       ...   \n",
      "48900  19454344  Perfect ap in Manhattan! Walking to Central Park!  11670284   \n",
      "48901  36224876                   Upper East Side Apt By The Water  46232598   \n",
      "48902  21869051                        Comfy Apt in NYC Brownstone  97243693   \n",
      "48903   3004563                                           The spot  15303460   \n",
      "48904  19712687               Sunny, spacious, homey Brooklyn loft  11989253   \n",
      "\n",
      "         host_name neighbourhood_group              neighbourhood  latitude  \\\n",
      "0             John            Brooklyn                 Kensington  40.64749   \n",
      "1         Jennifer           Manhattan                    Midtown  40.75362   \n",
      "2        Elisabeth           Manhattan                     Harlem  40.80902   \n",
      "3      LisaRoxanne            Brooklyn               Clinton Hill  40.68514   \n",
      "4            Laura           Manhattan                East Harlem  40.79851   \n",
      "...            ...                 ...                        ...       ...   \n",
      "48900          Val           Manhattan            Upper East Side  40.76811   \n",
      "48901      Caitlin           Manhattan            Upper East Side  40.77001   \n",
      "48902        Joyce           Manhattan                Murray Hill  40.74812   \n",
      "48903         Emma            Brooklyn  Prospect-Lefferts Gardens  40.65595   \n",
      "48904         Hiji            Brooklyn                   Bushwick  40.70113   \n",
      "\n",
      "       longitude        room_type  price  minimum_nights  number_of_reviews  \\\n",
      "0      -73.97237     Private room  149.0               1                  9   \n",
      "1      -73.98377  Entire home/apt  225.0               1                 45   \n",
      "2      -73.94190     Private room  150.0               3                  0   \n",
      "3      -73.95976  Entire home/apt   89.0               1                270   \n",
      "4      -73.94399  Entire home/apt   80.0              10                  9   \n",
      "...          ...              ...    ...             ...                ...   \n",
      "48900  -73.95194  Entire home/apt  150.0               3                 10   \n",
      "48901  -73.94915  Entire home/apt  150.0               1                  1   \n",
      "48902  -73.97663  Entire home/apt  150.0               3                 57   \n",
      "48903  -73.95412     Private room   50.0               7                  1   \n",
      "48904  -73.92299     Private room   60.0               3                  0   \n",
      "\n",
      "      last_review  reviews_per_month  calculated_host_listings_count  \\\n",
      "0      2018-10-19               0.21                               6   \n",
      "1      2019-05-21               0.38                               2   \n",
      "2             NaN                NaN                               1   \n",
      "3      2019-07-05               4.64                               1   \n",
      "4      2018-11-19               0.10                               1   \n",
      "...           ...                ...                             ...   \n",
      "48900  2019-05-02               0.54                               2   \n",
      "48901  2019-07-01               1.00                               1   \n",
      "48902  2019-07-01               3.07                               2   \n",
      "48903  2019-06-08               0.94                               1   \n",
      "48904         NaN                NaN                               1   \n",
      "\n",
      "       availability_365  \n",
      "0                   365  \n",
      "1                   355  \n",
      "2                   365  \n",
      "3                   194  \n",
      "4                     0  \n",
      "...                 ...  \n",
      "48900                89  \n",
      "48901               130  \n",
      "48902                49  \n",
      "48903               125  \n",
      "48904                 0  \n",
      "\n",
      "[48895 rows x 16 columns]\n"
     ]
    }
   ],
   "source": [
    "#Ahora eliminamos los duplicados, y dejamos la ultima fila de los duplicados\n",
    "df_sin_duplicados = df.drop_duplicates(keep='last')\n",
    "print(df_sin_duplicados)"
   ]
  },
  {
   "cell_type": "code",
   "execution_count": 36,
   "metadata": {},
   "outputs": [
    {
     "data": {
      "text/plain": [
       "0"
      ]
     },
     "execution_count": 36,
     "metadata": {},
     "output_type": "execute_result"
    }
   ],
   "source": [
    "# Queremos verificar que en el nuevo df no tenemos duplicados\n",
    "df_sin_duplicados.duplicated().sum()"
   ]
  },
  {
   "cell_type": "code",
   "execution_count": 48,
   "metadata": {},
   "outputs": [],
   "source": [
    "# vamos a cambiar el nombre de la base de manera que quede mas sencilla de manejar\n",
    "nuevo_df=df_sin_duplicados\n"
   ]
  },
  {
   "cell_type": "code",
   "execution_count": 50,
   "metadata": {},
   "outputs": [
    {
     "data": {
      "text/html": [
       "<div>\n",
       "<style scoped>\n",
       "    .dataframe tbody tr th:only-of-type {\n",
       "        vertical-align: middle;\n",
       "    }\n",
       "\n",
       "    .dataframe tbody tr th {\n",
       "        vertical-align: top;\n",
       "    }\n",
       "\n",
       "    .dataframe thead th {\n",
       "        text-align: right;\n",
       "    }\n",
       "</style>\n",
       "<table border=\"1\" class=\"dataframe\">\n",
       "  <thead>\n",
       "    <tr style=\"text-align: right;\">\n",
       "      <th></th>\n",
       "      <th>id</th>\n",
       "      <th>name</th>\n",
       "      <th>host_id</th>\n",
       "      <th>host_name</th>\n",
       "      <th>neighbourhood_group</th>\n",
       "      <th>neighbourhood</th>\n",
       "      <th>latitude</th>\n",
       "      <th>longitude</th>\n",
       "      <th>room_type</th>\n",
       "      <th>price</th>\n",
       "      <th>minimum_nights</th>\n",
       "      <th>number_of_reviews</th>\n",
       "      <th>last_review</th>\n",
       "      <th>reviews_per_month</th>\n",
       "      <th>calculated_host_listings_count</th>\n",
       "      <th>availability_365</th>\n",
       "    </tr>\n",
       "  </thead>\n",
       "  <tbody>\n",
       "    <tr>\n",
       "      <th>0</th>\n",
       "      <td>2539</td>\n",
       "      <td>Clean &amp; quiet apt home by the park</td>\n",
       "      <td>2787</td>\n",
       "      <td>John</td>\n",
       "      <td>Brooklyn</td>\n",
       "      <td>Kensington</td>\n",
       "      <td>40.64749</td>\n",
       "      <td>-73.97237</td>\n",
       "      <td>Private room</td>\n",
       "      <td>149.0</td>\n",
       "      <td>1</td>\n",
       "      <td>9</td>\n",
       "      <td>2018-10-19</td>\n",
       "      <td>0.21</td>\n",
       "      <td>6</td>\n",
       "      <td>365</td>\n",
       "    </tr>\n",
       "    <tr>\n",
       "      <th>1</th>\n",
       "      <td>2595</td>\n",
       "      <td>Skylit Midtown Castle</td>\n",
       "      <td>2845</td>\n",
       "      <td>Jennifer</td>\n",
       "      <td>Manhattan</td>\n",
       "      <td>Midtown</td>\n",
       "      <td>40.75362</td>\n",
       "      <td>-73.98377</td>\n",
       "      <td>Entire home/apt</td>\n",
       "      <td>225.0</td>\n",
       "      <td>1</td>\n",
       "      <td>45</td>\n",
       "      <td>2019-05-21</td>\n",
       "      <td>0.38</td>\n",
       "      <td>2</td>\n",
       "      <td>355</td>\n",
       "    </tr>\n",
       "    <tr>\n",
       "      <th>2</th>\n",
       "      <td>3647</td>\n",
       "      <td>THE VILLAGE OF HARLEM....NEW YORK !</td>\n",
       "      <td>4632</td>\n",
       "      <td>Elisabeth</td>\n",
       "      <td>Manhattan</td>\n",
       "      <td>Harlem</td>\n",
       "      <td>40.80902</td>\n",
       "      <td>-73.94190</td>\n",
       "      <td>Private room</td>\n",
       "      <td>150.0</td>\n",
       "      <td>3</td>\n",
       "      <td>0</td>\n",
       "      <td>NaN</td>\n",
       "      <td>NaN</td>\n",
       "      <td>1</td>\n",
       "      <td>365</td>\n",
       "    </tr>\n",
       "    <tr>\n",
       "      <th>3</th>\n",
       "      <td>3831</td>\n",
       "      <td>Cozy Entire Floor of Brownstone</td>\n",
       "      <td>4869</td>\n",
       "      <td>LisaRoxanne</td>\n",
       "      <td>Brooklyn</td>\n",
       "      <td>Clinton Hill</td>\n",
       "      <td>40.68514</td>\n",
       "      <td>-73.95976</td>\n",
       "      <td>Entire home/apt</td>\n",
       "      <td>89.0</td>\n",
       "      <td>1</td>\n",
       "      <td>270</td>\n",
       "      <td>2019-07-05</td>\n",
       "      <td>4.64</td>\n",
       "      <td>1</td>\n",
       "      <td>194</td>\n",
       "    </tr>\n",
       "    <tr>\n",
       "      <th>4</th>\n",
       "      <td>5022</td>\n",
       "      <td>Entire Apt: Spacious Studio/Loft by central park</td>\n",
       "      <td>7192</td>\n",
       "      <td>Laura</td>\n",
       "      <td>Manhattan</td>\n",
       "      <td>East Harlem</td>\n",
       "      <td>40.79851</td>\n",
       "      <td>-73.94399</td>\n",
       "      <td>Entire home/apt</td>\n",
       "      <td>80.0</td>\n",
       "      <td>10</td>\n",
       "      <td>9</td>\n",
       "      <td>2018-11-19</td>\n",
       "      <td>0.10</td>\n",
       "      <td>1</td>\n",
       "      <td>0</td>\n",
       "    </tr>\n",
       "    <tr>\n",
       "      <th>...</th>\n",
       "      <td>...</td>\n",
       "      <td>...</td>\n",
       "      <td>...</td>\n",
       "      <td>...</td>\n",
       "      <td>...</td>\n",
       "      <td>...</td>\n",
       "      <td>...</td>\n",
       "      <td>...</td>\n",
       "      <td>...</td>\n",
       "      <td>...</td>\n",
       "      <td>...</td>\n",
       "      <td>...</td>\n",
       "      <td>...</td>\n",
       "      <td>...</td>\n",
       "      <td>...</td>\n",
       "      <td>...</td>\n",
       "    </tr>\n",
       "    <tr>\n",
       "      <th>48900</th>\n",
       "      <td>19454344</td>\n",
       "      <td>Perfect ap in Manhattan! Walking to Central Park!</td>\n",
       "      <td>11670284</td>\n",
       "      <td>Val</td>\n",
       "      <td>Manhattan</td>\n",
       "      <td>Upper East Side</td>\n",
       "      <td>40.76811</td>\n",
       "      <td>-73.95194</td>\n",
       "      <td>Entire home/apt</td>\n",
       "      <td>150.0</td>\n",
       "      <td>3</td>\n",
       "      <td>10</td>\n",
       "      <td>2019-05-02</td>\n",
       "      <td>0.54</td>\n",
       "      <td>2</td>\n",
       "      <td>89</td>\n",
       "    </tr>\n",
       "    <tr>\n",
       "      <th>48901</th>\n",
       "      <td>36224876</td>\n",
       "      <td>Upper East Side Apt By The Water</td>\n",
       "      <td>46232598</td>\n",
       "      <td>Caitlin</td>\n",
       "      <td>Manhattan</td>\n",
       "      <td>Upper East Side</td>\n",
       "      <td>40.77001</td>\n",
       "      <td>-73.94915</td>\n",
       "      <td>Entire home/apt</td>\n",
       "      <td>150.0</td>\n",
       "      <td>1</td>\n",
       "      <td>1</td>\n",
       "      <td>2019-07-01</td>\n",
       "      <td>1.00</td>\n",
       "      <td>1</td>\n",
       "      <td>130</td>\n",
       "    </tr>\n",
       "    <tr>\n",
       "      <th>48902</th>\n",
       "      <td>21869051</td>\n",
       "      <td>Comfy Apt in NYC Brownstone</td>\n",
       "      <td>97243693</td>\n",
       "      <td>Joyce</td>\n",
       "      <td>Manhattan</td>\n",
       "      <td>Murray Hill</td>\n",
       "      <td>40.74812</td>\n",
       "      <td>-73.97663</td>\n",
       "      <td>Entire home/apt</td>\n",
       "      <td>150.0</td>\n",
       "      <td>3</td>\n",
       "      <td>57</td>\n",
       "      <td>2019-07-01</td>\n",
       "      <td>3.07</td>\n",
       "      <td>2</td>\n",
       "      <td>49</td>\n",
       "    </tr>\n",
       "    <tr>\n",
       "      <th>48903</th>\n",
       "      <td>3004563</td>\n",
       "      <td>The spot</td>\n",
       "      <td>15303460</td>\n",
       "      <td>Emma</td>\n",
       "      <td>Brooklyn</td>\n",
       "      <td>Prospect-Lefferts Gardens</td>\n",
       "      <td>40.65595</td>\n",
       "      <td>-73.95412</td>\n",
       "      <td>Private room</td>\n",
       "      <td>50.0</td>\n",
       "      <td>7</td>\n",
       "      <td>1</td>\n",
       "      <td>2019-06-08</td>\n",
       "      <td>0.94</td>\n",
       "      <td>1</td>\n",
       "      <td>125</td>\n",
       "    </tr>\n",
       "    <tr>\n",
       "      <th>48904</th>\n",
       "      <td>19712687</td>\n",
       "      <td>Sunny, spacious, homey Brooklyn loft</td>\n",
       "      <td>11989253</td>\n",
       "      <td>Hiji</td>\n",
       "      <td>Brooklyn</td>\n",
       "      <td>Bushwick</td>\n",
       "      <td>40.70113</td>\n",
       "      <td>-73.92299</td>\n",
       "      <td>Private room</td>\n",
       "      <td>60.0</td>\n",
       "      <td>3</td>\n",
       "      <td>0</td>\n",
       "      <td>NaN</td>\n",
       "      <td>NaN</td>\n",
       "      <td>1</td>\n",
       "      <td>0</td>\n",
       "    </tr>\n",
       "  </tbody>\n",
       "</table>\n",
       "<p>48895 rows × 16 columns</p>\n",
       "</div>"
      ],
      "text/plain": [
       "             id                                               name   host_id  \\\n",
       "0          2539                 Clean & quiet apt home by the park      2787   \n",
       "1          2595                              Skylit Midtown Castle      2845   \n",
       "2          3647                THE VILLAGE OF HARLEM....NEW YORK !      4632   \n",
       "3          3831                    Cozy Entire Floor of Brownstone      4869   \n",
       "4          5022   Entire Apt: Spacious Studio/Loft by central park      7192   \n",
       "...         ...                                                ...       ...   \n",
       "48900  19454344  Perfect ap in Manhattan! Walking to Central Park!  11670284   \n",
       "48901  36224876                   Upper East Side Apt By The Water  46232598   \n",
       "48902  21869051                        Comfy Apt in NYC Brownstone  97243693   \n",
       "48903   3004563                                           The spot  15303460   \n",
       "48904  19712687               Sunny, spacious, homey Brooklyn loft  11989253   \n",
       "\n",
       "         host_name neighbourhood_group              neighbourhood  latitude  \\\n",
       "0             John            Brooklyn                 Kensington  40.64749   \n",
       "1         Jennifer           Manhattan                    Midtown  40.75362   \n",
       "2        Elisabeth           Manhattan                     Harlem  40.80902   \n",
       "3      LisaRoxanne            Brooklyn               Clinton Hill  40.68514   \n",
       "4            Laura           Manhattan                East Harlem  40.79851   \n",
       "...            ...                 ...                        ...       ...   \n",
       "48900          Val           Manhattan            Upper East Side  40.76811   \n",
       "48901      Caitlin           Manhattan            Upper East Side  40.77001   \n",
       "48902        Joyce           Manhattan                Murray Hill  40.74812   \n",
       "48903         Emma            Brooklyn  Prospect-Lefferts Gardens  40.65595   \n",
       "48904         Hiji            Brooklyn                   Bushwick  40.70113   \n",
       "\n",
       "       longitude        room_type  price  minimum_nights  number_of_reviews  \\\n",
       "0      -73.97237     Private room  149.0               1                  9   \n",
       "1      -73.98377  Entire home/apt  225.0               1                 45   \n",
       "2      -73.94190     Private room  150.0               3                  0   \n",
       "3      -73.95976  Entire home/apt   89.0               1                270   \n",
       "4      -73.94399  Entire home/apt   80.0              10                  9   \n",
       "...          ...              ...    ...             ...                ...   \n",
       "48900  -73.95194  Entire home/apt  150.0               3                 10   \n",
       "48901  -73.94915  Entire home/apt  150.0               1                  1   \n",
       "48902  -73.97663  Entire home/apt  150.0               3                 57   \n",
       "48903  -73.95412     Private room   50.0               7                  1   \n",
       "48904  -73.92299     Private room   60.0               3                  0   \n",
       "\n",
       "      last_review  reviews_per_month  calculated_host_listings_count  \\\n",
       "0      2018-10-19               0.21                               6   \n",
       "1      2019-05-21               0.38                               2   \n",
       "2             NaN                NaN                               1   \n",
       "3      2019-07-05               4.64                               1   \n",
       "4      2018-11-19               0.10                               1   \n",
       "...           ...                ...                             ...   \n",
       "48900  2019-05-02               0.54                               2   \n",
       "48901  2019-07-01               1.00                               1   \n",
       "48902  2019-07-01               3.07                               2   \n",
       "48903  2019-06-08               0.94                               1   \n",
       "48904         NaN                NaN                               1   \n",
       "\n",
       "       availability_365  \n",
       "0                   365  \n",
       "1                   355  \n",
       "2                   365  \n",
       "3                   194  \n",
       "4                     0  \n",
       "...                 ...  \n",
       "48900                89  \n",
       "48901               130  \n",
       "48902                49  \n",
       "48903               125  \n",
       "48904                 0  \n",
       "\n",
       "[48895 rows x 16 columns]"
      ]
     },
     "metadata": {},
     "output_type": "display_data"
    }
   ],
   "source": [
    "# queremos visualizar los datos para analizar\n",
    "from IPython.display import display\n",
    "display(nuevo_df)"
   ]
  },
  {
   "cell_type": "code",
   "execution_count": 26,
   "metadata": {},
   "outputs": [
    {
     "name": "stdout",
     "output_type": "stream",
     "text": [
      "id                                    0\n",
      "name                                 16\n",
      "host_id                               0\n",
      "host_name                            21\n",
      "neighbourhood_group                   0\n",
      "neighbourhood                         0\n",
      "latitude                              0\n",
      "longitude                             0\n",
      "room_type                             0\n",
      "price                                15\n",
      "minimum_nights                        0\n",
      "number_of_reviews                     0\n",
      "last_review                       10052\n",
      "reviews_per_month                 10052\n",
      "calculated_host_listings_count        0\n",
      "availability_365                      0\n",
      "dtype: int64\n"
     ]
    }
   ],
   "source": [
    "# Queremos observar el número de datos faltantes por columna. Usamos los comandos:\n",
    "missing_values = nuevo_df.isnull().sum()\n",
    "print(missing_values)"
   ]
  },
  {
   "cell_type": "code",
   "execution_count": 30,
   "metadata": {},
   "outputs": [
    {
     "name": "stdout",
     "output_type": "stream",
     "text": [
      "id                                    0\n",
      "name                                  0\n",
      "host_id                               0\n",
      "host_name                            21\n",
      "neighbourhood_group                   0\n",
      "neighbourhood                         0\n",
      "latitude                              0\n",
      "longitude                             0\n",
      "room_type                             0\n",
      "price                                15\n",
      "minimum_nights                        0\n",
      "number_of_reviews                     0\n",
      "last_review                       10042\n",
      "reviews_per_month                 10042\n",
      "calculated_host_listings_count        0\n",
      "availability_365                      0\n",
      "dtype: int64\n"
     ]
    }
   ],
   "source": [
    "# Eliminamos las 285 observaciones para las cuales tenemos datos faltantes en la variable host_id\n",
    "nuevo_df = nuevo_df.dropna(subset=['name'])\n",
    "missing_values = nuevo_df.isnull().sum()\n",
    "print(missing_values)"
   ]
  },
  {
   "cell_type": "code",
   "execution_count": 13,
   "metadata": {},
   "outputs": [
    {
     "name": "stdout",
     "output_type": "stream",
     "text": [
      "neighbourhood_group                   0\n",
      "neighbourhood                         0\n",
      "latitude                              0\n",
      "longitude                             0\n",
      "room_type                             0\n",
      "price                                15\n",
      "minimum_nights                        0\n",
      "number_of_reviews                     0\n",
      "last_review                       10038\n",
      "reviews_per_month                 10038\n",
      "calculated_host_listings_count        0\n",
      "availability_365                      0\n",
      "dtype: int64\n"
     ]
    }
   ],
   "source": [
    "#Como las columnas id, host_id, host_name y name ya fueron usadas para eliminar duplicados, faltan de manera aleatoria\n",
    "#y no se espera que tengan ninguna relevancia en el análisis y predicción de los datos, optamos por eliminarlas.\n",
    "nuevo_df = nuevo_df.drop(columns=['id', 'name', 'host_id', 'host_name'])\n",
    "missing_values = nuevo_df.isnull().sum()\n",
    "print(missing_values)"
   ]
  },
  {
   "cell_type": "code",
   "execution_count": 15,
   "metadata": {},
   "outputs": [
    {
     "name": "stdout",
     "output_type": "stream",
     "text": [
      "             room_type       neighbourhood\n",
      "4506   Entire home/apt     Lower East Side\n",
      "12567     Private room          Greenpoint\n",
      "12925     Private room         South Slope\n",
      "25430     Private room          Kensington\n",
      "26821     Private room             Belmont\n",
      "27093  Entire home/apt  University Heights\n",
      "28238  Entire home/apt             Midtown\n",
      "35308     Private room         Sunset Park\n",
      "35641     Private room            Flushing\n",
      "35679     Private room             Tribeca\n",
      "37140  Entire home/apt         South Slope\n",
      "41176     Private room        Williamsburg\n",
      "42039  Entire home/apt         Murray Hill\n",
      "44047     Private room           Ridgewood\n",
      "48890     Private room            Bushwick\n"
     ]
    }
   ],
   "source": [
    "#En el caso de los datos faltantes para la variable price decidimos imputar por la media CONDICIONAL al tipo de habitación\n",
    "#y al vecindario al que pertenece el airbnb cuyo precio no fue reportado. Para ello usamos el comando:\n",
    "datos_faltantes = nuevo_df.loc[nuevo_df['price'].isnull(), ['room_type', 'neighbourhood']]\n",
    "print(datos_faltantes)"
   ]
  },
  {
   "cell_type": "code",
   "execution_count": 17,
   "metadata": {},
   "outputs": [
    {
     "name": "stdout",
     "output_type": "stream",
     "text": [
      "La media del precio es: 234.6158415841584\n",
      "La media del precio es: 88.40631578947368\n",
      "La media del precio es: 85.74725274725274\n",
      "La media del precio es: 59.30927835051546\n",
      "La media del precio es: 53.94444444444444\n",
      "La media del precio es: 120.0\n",
      "La media del precio es: 301.35122838944494\n",
      "La media del precio es: 77.82843137254902\n",
      "La media del precio es: 63.37581699346405\n",
      "La media del precio es: 192.54545454545453\n",
      "La media del precio es: 177.2139037433155\n",
      "La media del precio es: 85.7565130260521\n",
      "La media del precio es: 237.8391959798995\n",
      "La media del precio es: 56.33922261484099\n",
      "La media del precio es: 62.593804792518995\n"
     ]
    }
   ],
   "source": [
    "#Calculamos los precios medios condicionales a la combinación de room_type y neighbouhood correspondiente a las \n",
    "#observaciones que tienen datos faltantes de la variable price\n",
    "precio_media = nuevo_df.loc[\n",
    "    (nuevo_df['room_type'] == 'Entire home/apt') & \n",
    "    (nuevo_df['neighbourhood'] == 'Lower East Side'),\n",
    "    'price'\n",
    "].mean()\n",
    "print(f\"La media del precio es: {precio_media}\")\n",
    "\n",
    "precio_media = nuevo_df.loc[\n",
    "    (nuevo_df['room_type'] == 'Private room') & \n",
    "    (nuevo_df['neighbourhood'] == 'Greenpoint'),\n",
    "    'price'\n",
    "].mean()\n",
    "print(f\"La media del precio es: {precio_media}\")\n",
    "\n",
    "precio_media = nuevo_df.loc[\n",
    "    (nuevo_df['room_type'] == 'Private room') & \n",
    "    (nuevo_df['neighbourhood'] == 'South Slope'),\n",
    "    'price'\n",
    "].mean()\n",
    "print(f\"La media del precio es: {precio_media}\")\n",
    "\n",
    "precio_media = nuevo_df.loc[\n",
    "    (nuevo_df['room_type'] == 'Private room') & \n",
    "    (nuevo_df['neighbourhood'] == 'Kensington'),\n",
    "    'price'\n",
    "].mean()\n",
    "print(f\"La media del precio es: {precio_media}\")\n",
    "\n",
    "precio_media = nuevo_df.loc[\n",
    "    (nuevo_df['room_type'] == 'Private room') & \n",
    "    (nuevo_df['neighbourhood'] == 'Belmont'),\n",
    "    'price'\n",
    "].mean()\n",
    "print(f\"La media del precio es: {precio_media}\")\n",
    "\n",
    "precio_media = nuevo_df.loc[\n",
    "    (nuevo_df['room_type'] == 'Entire home/apt') & \n",
    "    (nuevo_df['neighbourhood'] == 'University Heights'),\n",
    "    'price'\n",
    "].mean()\n",
    "print(f\"La media del precio es: {precio_media}\")\n",
    "\n",
    "precio_media = nuevo_df.loc[\n",
    "    (nuevo_df['room_type'] == 'Entire home/apt') & \n",
    "    (nuevo_df['neighbourhood'] == 'Midtown'),\n",
    "    'price'\n",
    "].mean()\n",
    "print(f\"La media del precio es: {precio_media}\")\n",
    "\n",
    "precio_media = nuevo_df.loc[\n",
    "    (nuevo_df['room_type'] == 'Private room') & \n",
    "    (nuevo_df['neighbourhood'] == 'Sunset Park'),\n",
    "    'price'\n",
    "].mean()\n",
    "print(f\"La media del precio es: {precio_media}\")\n",
    "\n",
    "precio_media = nuevo_df.loc[\n",
    "    (nuevo_df['room_type'] == 'Private room') & \n",
    "    (nuevo_df['neighbourhood'] == 'Flushing'),\n",
    "    'price'\n",
    "].mean()\n",
    "print(f\"La media del precio es: {precio_media}\")\n",
    "\n",
    "precio_media = nuevo_df.loc[\n",
    "    (nuevo_df['room_type'] == 'Private room') & \n",
    "    (nuevo_df['neighbourhood'] == 'Tribeca'),\n",
    "    'price'\n",
    "].mean()\n",
    "print(f\"La media del precio es: {precio_media}\")\n",
    "\n",
    "precio_media = nuevo_df.loc[\n",
    "    (nuevo_df['room_type'] == 'Entire home/apt') & \n",
    "    (nuevo_df['neighbourhood'] == 'South Slope'),\n",
    "    'price'\n",
    "].mean()\n",
    "print(f\"La media del precio es: {precio_media}\")\n",
    "\n",
    "precio_media = nuevo_df.loc[\n",
    "    (nuevo_df['room_type'] == 'Private room') & \n",
    "    (nuevo_df['neighbourhood'] == 'Williamsburg'),\n",
    "    'price'\n",
    "].mean()\n",
    "print(f\"La media del precio es: {precio_media}\")\n",
    "\n",
    "precio_media = nuevo_df.loc[\n",
    "    (nuevo_df['room_type'] == 'Entire home/apt') & \n",
    "    (nuevo_df['neighbourhood'] == 'Murray Hill'),\n",
    "    'price'\n",
    "].mean()\n",
    "print(f\"La media del precio es: {precio_media}\")\n",
    "\n",
    "precio_media = nuevo_df.loc[\n",
    "    (nuevo_df['room_type'] == 'Private room') & \n",
    "    (nuevo_df['neighbourhood'] == 'Ridgewood'),\n",
    "    'price'\n",
    "].mean()\n",
    "print(f\"La media del precio es: {precio_media}\")\n",
    "\n",
    "precio_media = nuevo_df.loc[\n",
    "    (nuevo_df['room_type'] == 'Private room') & \n",
    "    (nuevo_df['neighbourhood'] == 'Bushwick'),\n",
    "    'price'\n",
    "].mean()\n",
    "print(f\"La media del precio es: {precio_media}\")"
   ]
  },
  {
   "cell_type": "code",
   "execution_count": 19,
   "metadata": {},
   "outputs": [
    {
     "name": "stdout",
     "output_type": "stream",
     "text": [
      "neighbourhood_group                   0\n",
      "neighbourhood                         0\n",
      "latitude                              0\n",
      "longitude                             0\n",
      "room_type                             0\n",
      "price                                 0\n",
      "minimum_nights                        0\n",
      "number_of_reviews                     0\n",
      "last_review                       10038\n",
      "reviews_per_month                 10038\n",
      "calculated_host_listings_count        0\n",
      "availability_365                      0\n",
      "dtype: int64\n"
     ]
    }
   ],
   "source": [
    "nuevo_df.at[4506, 'price'] = 234.6\n",
    "nuevo_df.at[12567, 'price'] = 88.4\n",
    "nuevo_df.at[12925, 'price'] =85.7\n",
    "nuevo_df.at[25430, 'price'] = 59.3\n",
    "nuevo_df.at[26821, 'price'] = 53.9\n",
    "\n",
    "nuevo_df.at[27093, 'price'] = 120.0\n",
    "nuevo_df.at[28238, 'price'] = 301.4\n",
    "nuevo_df.at[35308, 'price'] = 77.8\n",
    "nuevo_df.at[35641, 'price'] = 63.4\n",
    "nuevo_df.at[35679, 'price'] = 192.5\n",
    "\n",
    "nuevo_df.at[37140, 'price'] = 177.2\n",
    "nuevo_df.at[41176, 'price'] = 85.8\n",
    "nuevo_df.at[42039, 'price'] = 237.8\n",
    "nuevo_df.at[44047, 'price'] = 56.3\n",
    "nuevo_df.at[48890, 'price'] = 62.6\n",
    "\n",
    "missing_values = nuevo_df.isnull().sum()\n",
    "print(missing_values)"
   ]
  },
  {
   "cell_type": "code",
   "execution_count": 21,
   "metadata": {},
   "outputs": [
    {
     "name": "stdout",
     "output_type": "stream",
     "text": [
      "neighbourhood_group\n",
      "3    21635\n",
      "2    20065\n",
      "4     5627\n",
      "1     1090\n",
      "5      372\n",
      "Name: count, dtype: int64\n"
     ]
    }
   ],
   "source": [
    "#Transformo la variable neighbourhood_group\n",
    "mapeo_neighbourhood_group = {\n",
    "    'Bronx': 1,\n",
    "    'Brooklyn': 2,\n",
    "    'Manhattan': 3,\n",
    "    'Queens': 4,\n",
    "    'Staten Island': 5\n",
    "}\n",
    "nuevo_df['neighbourhood_group'] = nuevo_df['neighbourhood_group'].map(mapeo_neighbourhood_group)\n",
    "frecuencias = nuevo_df['neighbourhood_group'].value_counts()\n",
    "print(frecuencias)"
   ]
  },
  {
   "cell_type": "code",
   "execution_count": 25,
   "metadata": {},
   "outputs": [],
   "source": [
    "#Guardo los avances en un excel\n",
    "df.to_excel('mi_dataframe.xlsx', index=False)"
   ]
  },
  {
   "cell_type": "code",
   "execution_count": 27,
   "metadata": {},
   "outputs": [
    {
     "name": "stdout",
     "output_type": "stream",
     "text": [
      "room_type\n",
      "Entire home/apt    25371\n",
      "Private room       22283\n",
      "Shared room         1145\n",
      "Name: count, dtype: int64\n"
     ]
    }
   ],
   "source": [
    "frecuencia = df['room_type'].value_counts()\n",
    "print(frecuencia)"
   ]
  },
  {
   "cell_type": "code",
   "execution_count": 29,
   "metadata": {},
   "outputs": [
    {
     "name": "stdout",
     "output_type": "stream",
     "text": [
      "room_type\n",
      "1    25366\n",
      "2    22278\n",
      "3     1145\n",
      "Name: count, dtype: int64\n"
     ]
    }
   ],
   "source": [
    "#Transformo la variable room_type\n",
    "mapeo_room_type = {\n",
    "    'Entire home/apt': 1,\n",
    "    'Private room': 2,\n",
    "    'Shared room': 3\n",
    "}\n",
    "nuevo_df['room_type'] = nuevo_df['room_type'].map(mapeo_room_type)\n",
    "frecuencias = nuevo_df['room_type'].value_counts()\n",
    "print(frecuencias)"
   ]
  },
  {
   "cell_type": "code",
   "execution_count": null,
   "metadata": {},
   "outputs": [],
   "source": []
  },
  {
   "cell_type": "markdown",
   "metadata": {},
   "source": [
    "### Parte II: Graficos y visualizaciones"
   ]
  },
  {
   "cell_type": "markdown",
   "metadata": {},
   "source": [
    "#### Ejercicio 2\n",
    "Una vez hecha la limpieza, realicen una matriz de correlación con las siguientes variables:**‘neighbourhood group’, ‘latitude’, ‘longitude’, ‘room type’,‘price’, ‘minimum nights’, ‘number of reviews’, ‘reviews per month’,‘calculated host listings count’, ‘availability 365’.** Comenten los resultados. Utilicen alguno de los comandos disponibles en este link para graficar la matriz de correlacion.\n",
    "\n",
    "*Nota:* consideren cómo es conveniente incluir las variables que originalmente eran categóricas para poder interpretar mejor la matriz de correlación."
   ]
  },
  {
   "cell_type": "code",
   "execution_count": null,
   "metadata": {},
   "outputs": [],
   "source": [
    "# Resolver acá\n"
   ]
  },
  {
   "cell_type": "markdown",
   "metadata": {},
   "source": [
    "#### Ejercicio 3\n",
    "Respondan las siguientes preguntas: ¿Cuál es la proporción de oferentes por “Neighbourhood group”? ¿Y por tipo de habitación? Además, realicen gráficos para mostrar estas composiciones y comenten los resultados."
   ]
  },
  {
   "cell_type": "code",
   "execution_count": null,
   "metadata": {},
   "outputs": [],
   "source": [
    "# Resolver acá\n"
   ]
  },
  {
   "cell_type": "markdown",
   "metadata": {},
   "source": [
    "#### Ejercicio 4\n",
    "Realicen un histograma de los precios de los alojamientos. Comenten el gráfico obtenido. Además, respondan las siguientes preguntas: ¿cuál es el precio mínimo, máximo y promedio? ¿Cuál es la media de precio por “Neighbourhood group” y por tipo de habitación? "
   ]
  },
  {
   "cell_type": "code",
   "execution_count": null,
   "metadata": {},
   "outputs": [],
   "source": [
    "# Resolver acá\n"
   ]
  },
  {
   "cell_type": "markdown",
   "metadata": {},
   "source": [
    "#### Ejercicio 5\n",
    "Realicen dos scatter plots con dos variables de interés en cada uno. Comenten."
   ]
  },
  {
   "cell_type": "code",
   "execution_count": 1,
   "metadata": {},
   "outputs": [],
   "source": [
    "# Resolver acá\n"
   ]
  },
  {
   "cell_type": "markdown",
   "metadata": {},
   "source": [
    "#### Ejercicio 6\n",
    "Utilicen el análisis de componentes principales para graficar las variables en dos dimensiones. Comenten los resultados obtenidos (qué porcentaje de la varianza se logra explicar con dos componentes, cómo son los *loadings*, si ven algún patrón en el gráfico)."
   ]
  },
  {
   "cell_type": "code",
   "execution_count": 1,
   "metadata": {},
   "outputs": [],
   "source": [
    "# Resolver acá\n"
   ]
  },
  {
   "cell_type": "markdown",
   "metadata": {},
   "source": [
    "### Parte III: Predicción"
   ]
  },
  {
   "cell_type": "markdown",
   "metadata": {},
   "source": [
    "El objetivo de esta parte del trabajo es intentar predecir los precios de los alojamientos."
   ]
  },
  {
   "cell_type": "markdown",
   "metadata": {},
   "source": [
    "#### Ejercicio 7\n",
    "Eliminen de la base todas las variables relacionadas al precio"
   ]
  },
  {
   "cell_type": "code",
   "execution_count": null,
   "metadata": {},
   "outputs": [],
   "source": [
    "# Resolver acá\n"
   ]
  },
  {
   "cell_type": "markdown",
   "metadata": {},
   "source": [
    "#### Ejercicio 8\n",
    "Partan la base en una base de prueba (test) y una de entrenamiento (train) utilizando el comando <code>train_test_split</code>. La base de entrenamiento debe comprender el 70% de los datos, y la semilla a utilizar (*random state instance*) debe ser 201. Establezca a price como su variable dependiente en la base de entrenamiento (vector y). El resto de las variables ser´an las variables independientes (matriz X). Recuerden agregar la columna de unos (1)."
   ]
  },
  {
   "cell_type": "code",
   "execution_count": null,
   "metadata": {},
   "outputs": [],
   "source": [
    "# Resolver acá\n"
   ]
  },
  {
   "cell_type": "markdown",
   "metadata": {},
   "source": [
    "#### Ejercicio 9\n",
    "Implementen una regresión lineal y comenten los resultados obtenidos."
   ]
  },
  {
   "cell_type": "code",
   "execution_count": null,
   "metadata": {},
   "outputs": [],
   "source": [
    "# Resolver acá\n"
   ]
  }
 ],
 "metadata": {
  "anaconda-cloud": {},
  "colab": {
   "name": "TP1 - Parte 1.ipynb",
   "provenance": []
  },
  "kernelspec": {
   "display_name": "Python 3 (ipykernel)",
   "language": "python",
   "name": "python3"
  },
  "language_info": {
   "codemirror_mode": {
    "name": "ipython",
    "version": 3
   },
   "file_extension": ".py",
   "mimetype": "text/x-python",
   "name": "python",
   "nbconvert_exporter": "python",
   "pygments_lexer": "ipython3",
   "version": "3.12.4"
  }
 },
 "nbformat": 4,
 "nbformat_minor": 4
}
