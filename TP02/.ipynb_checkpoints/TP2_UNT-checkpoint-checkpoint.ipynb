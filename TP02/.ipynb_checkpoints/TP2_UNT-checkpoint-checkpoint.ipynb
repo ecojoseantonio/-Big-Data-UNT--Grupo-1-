{
 "cells": [
  {
   "cell_type": "markdown",
   "metadata": {
    "collapsed": true,
    "id": "Dh8MkXaG-c9Y",
    "jupyter": {
     "outputs_hidden": true
    }
   },
   "source": [
    "# Big Data (UNT) -  2024\n",
    "\n",
    "## Trabajo Práctico 2 "
   ]
  },
  {
   "cell_type": "markdown",
   "metadata": {
    "id": "ZEjGaa4U-c9g"
   },
   "source": [
    "### Fecha de entrega:\n",
    "Jueves 26 de septiembre a las 13:00 hs"
   ]
  },
  {
   "cell_type": "markdown",
   "metadata": {
    "id": "N9TU2y7E-c9h"
   },
   "source": [
    "### Modalidad de entrega\n",
    "- Al finalizar el trabajo práctico deben hacer un último <i>commit</i> en su repositorio de GitHub llamado **“Entrega final del tp”**. \n",
    "- Asegurense de haber creado una carpeta llamada TP2. Deben entregar un reporte (pdf) y el código (jupyter notebook). Ambos deben estar dentro de esa carpeta.\n",
    "- También deben enviar el link de su repositorio -para que pueda ser clonado y corregido- en el canal de Slack **#tp-entregas**.\n",
    "- La última versión en el repositorio es la que será evaluada. Por lo que es importante que: \n",
    "    - No envien el mensaje en el canal de Slack **#tp-entregas** hasta no haber terminado y estar seguros de que han hecho el <i>commit y push</i> a la versión final que quieren entregar. Debido a que se pueden tomar hasta 3 días de extensión a lo largo del curso, no se corregirán sus tareas hasta no recibir el mensaje en el canal **#tp-entregas** y me tageen (@marianr2).\n",
    "    - No hagan nuevos <i>push</i> después de haber entregado su versión final. Esto generaría confusión acerca de que versión es la que quieren que se les corrija. "
   ]
  },
  {
   "cell_type": "markdown",
   "metadata": {},
   "source": [
    "### Reglas de formato y presentation\n",
    "- El trabajo debe tener una extensión máxima de 8 páginas (no se permite Apéndice). Se espera una buena redacción en la resolución del práctico.\n",
    "- El informe debe ser entregado en formato PDF, con los gráficos e imágenes en este mismo archivo.\n",
    "- Entregar el código con los comandos utilizados, identificando claramente a qué inciso corresponde cada comando."
   ]
  },
  {
   "cell_type": "markdown",
   "metadata": {},
   "source": [
    "### Parte I: Limpieza de la base"
   ]
  },
  {
   "cell_type": "markdown",
   "metadata": {
    "id": "ZXbrPraa-c9i"
   },
   "source": [
    "#### Ejercicio 1\n",
    "La base de datos provista contiene información sobre oferentes de Airbnb en la ciudad de Nueva York. Realicen una limpieza de la base.\n",
    "- Tengan en cuenta si hay valores duplicados y eliminénlos.\n",
    "- Eliminen las columnas que no tienen información de interés.\n",
    "- (Opcional) Luego de leer el artículo __[Missing-data imputation](https://bookdown.org/mike/data_analysis/imputation-missing-data.html##imputation-missing-data)__ (__[Missing-data imputation articulo alternativo](http://www.stat.columbia.edu/~gelman/arm/missing.pdf)__), decidan qué hacer con los missing values e implementen su decision. Justifiquen su eleccion. Pueden usar informacion del paper mencionado o de otras fuentes (citenlas si las usan) para explicar los problemas que pueden surgir por su estrategia elegida.\n",
    "- Si hay observaciones con *outliers* o valores que no tienen sentido, tomen una decision. Expliquen las decisiones tomadas.\n",
    "- Transformen las variables **‘neighbourhood_group’** y **‘room_type’** a variables numericas.\n",
    "- Con la ayuda de los comandos <code>groupby</code> y <code>join</code> o <code>merge</code>, creen una columna que tenga la cantidad de oferentes por “Neighbourhood group”. Llamen a esa nueva columna <code>offer group</code>"
   ]
  },
  {
   "cell_type": "code",
   "execution_count": 1,
   "metadata": {},
   "outputs": [
    {
     "name": "stdout",
     "output_type": "stream",
     "text": [
      "Requirement already satisfied: pandas in c:\\users\\piliv\\anaconda\\lib\\site-packages (2.2.3)\n",
      "Requirement already satisfied: openpyxl in c:\\users\\piliv\\anaconda\\lib\\site-packages (3.1.2)\n",
      "Requirement already satisfied: numpy>=1.26.0 in c:\\users\\piliv\\anaconda\\lib\\site-packages (from pandas) (1.26.4)\n",
      "Requirement already satisfied: python-dateutil>=2.8.2 in c:\\users\\piliv\\anaconda\\lib\\site-packages (from pandas) (2.9.0.post0)\n",
      "Requirement already satisfied: pytz>=2020.1 in c:\\users\\piliv\\anaconda\\lib\\site-packages (from pandas) (2024.1)\n",
      "Requirement already satisfied: tzdata>=2022.7 in c:\\users\\piliv\\anaconda\\lib\\site-packages (from pandas) (2023.3)\n",
      "Requirement already satisfied: et-xmlfile in c:\\users\\piliv\\anaconda\\lib\\site-packages (from openpyxl) (1.1.0)\n",
      "Requirement already satisfied: six>=1.5 in c:\\users\\piliv\\anaconda\\lib\\site-packages (from python-dateutil>=2.8.2->pandas) (1.16.0)\n"
     ]
    }
   ],
   "source": [
    "#Instalamos las bibliotecas necesarias:\n",
    "!pip install pandas openpyxl"
   ]
  },
  {
   "cell_type": "code",
   "execution_count": 3,
   "metadata": {},
   "outputs": [
    {
     "name": "stdout",
     "output_type": "stream",
     "text": [
      "     id                                              name  host_id  \\\n",
      "0  2539                Clean & quiet apt home by the park   2787.0   \n",
      "1  2595                             Skylit Midtown Castle   2845.0   \n",
      "2  3647               THE VILLAGE OF HARLEM....NEW YORK !   4632.0   \n",
      "3  3831                   Cozy Entire Floor of Brownstone   4869.0   \n",
      "4  5022  Entire Apt: Spacious Studio/Loft by central park   7192.0   \n",
      "\n",
      "     host_name neighbourhood_group neighbourhood   latitude  longitude  \\\n",
      "0         John            Brooklyn    Kensington  4064749.0 -7397237.0   \n",
      "1     Jennifer           Manhattan       Midtown  4075362.0 -7398377.0   \n",
      "2    Elisabeth           Manhattan        Harlem  4080902.0  -739419.0   \n",
      "3  LisaRoxanne            Brooklyn  Clinton Hill  4068514.0 -7395976.0   \n",
      "4        Laura           Manhattan   East Harlem  4079851.0 -7394399.0   \n",
      "\n",
      "         room_type  price  minimum_nights  number_of_reviews last_review  \\\n",
      "0     Private room  149.0             1.0                9.0  2018-10-19   \n",
      "1  Entire home/apt  225.0             1.0               45.0  2019-05-21   \n",
      "2     Private room  150.0             3.0                0.0         NaT   \n",
      "3  Entire home/apt   89.0             1.0              270.0  2019-07-05   \n",
      "4  Entire home/apt   80.0            10.0                9.0  2018-11-19   \n",
      "\n",
      "   reviews_per_month  calculated_host_listings_count  availability_365  \n",
      "0               0.21                             6.0             365.0  \n",
      "1               0.38                             2.0             355.0  \n",
      "2                NaN                             1.0             365.0  \n",
      "3               4.64                             1.0             194.0  \n",
      "4               0.10                             1.0               0.0  \n"
     ]
    }
   ],
   "source": [
    "import pandas as pd\n",
    "#Cargamos el archivo de excel\n",
    "df = pd.read_excel(\"C:/Users/piliv/OneDrive/Documentos/GitHub/-Big-Data-UNT--Grupo-1-/TP02/Base Limpia Airbnb NY.xlsx\")\n",
    "#El siguiente comando nos enseña las primeras filas de la base que cargamos\n",
    "print(df.head())"
   ]
  },
  {
   "cell_type": "code",
   "execution_count": 7,
   "metadata": {},
   "outputs": [
    {
     "name": "stdout",
     "output_type": "stream",
     "text": [
      "Número de valores duplicados: 0\n"
     ]
    }
   ],
   "source": [
    "#Llamamos nuevo_df a nuestro dataframe que ya no contiene los duplicados y verificamos que los eliminamos\n",
    "nuevo_df = df_sin_duplicados\n",
    "num_duplicados = nuevo_df.duplicated().sum()\n",
    "print(f\"Número de valores duplicados: {num_duplicados}\")"
   ]
  },
  {
   "cell_type": "code",
   "execution_count": 9,
   "metadata": {},
   "outputs": [
    {
     "name": "stdout",
     "output_type": "stream",
     "text": [
      "id                                  161\n",
      "name                                 41\n",
      "host_id                             285\n",
      "host_name                           307\n",
      "neighbourhood_group                 285\n",
      "neighbourhood                       285\n",
      "latitude                            285\n",
      "longitude                           285\n",
      "room_type                           285\n",
      "price                               300\n",
      "minimum_nights                      285\n",
      "number_of_reviews                   285\n",
      "last_review                       10323\n",
      "reviews_per_month                 10323\n",
      "calculated_host_listings_count      285\n",
      "availability_365                    285\n",
      "dtype: int64\n"
     ]
    }
   ],
   "source": [
    "# Queremos observar el número de datos faltantes por columna. Usamos los comandos:\n",
    "missing_values = nuevo_df.isnull().sum()\n",
    "print(missing_values)"
   ]
  },
  {
   "cell_type": "code",
   "execution_count": 11,
   "metadata": {},
   "outputs": [
    {
     "name": "stdout",
     "output_type": "stream",
     "text": [
      "id                                  160\n",
      "name                                 26\n",
      "host_id                               0\n",
      "host_name                            22\n",
      "neighbourhood_group                   0\n",
      "neighbourhood                         0\n",
      "latitude                              0\n",
      "longitude                             0\n",
      "room_type                             0\n",
      "price                                15\n",
      "minimum_nights                        0\n",
      "number_of_reviews                     0\n",
      "last_review                       10038\n",
      "reviews_per_month                 10038\n",
      "calculated_host_listings_count        0\n",
      "availability_365                      0\n",
      "dtype: int64\n"
     ]
    }
   ],
   "source": [
    "# Eliminamos las 285 observaciones para las cuales tenemos datos faltantes en la variable host_id\n",
    "nuevo_df = nuevo_df.dropna(subset=['host_id'])\n",
    "missing_values = nuevo_df.isnull().sum()\n",
    "print(missing_values)"
   ]
  },
  {
   "cell_type": "code",
   "execution_count": 13,
   "metadata": {},
   "outputs": [
    {
     "name": "stdout",
     "output_type": "stream",
     "text": [
      "neighbourhood_group                   0\n",
      "neighbourhood                         0\n",
      "latitude                              0\n",
      "longitude                             0\n",
      "room_type                             0\n",
      "price                                15\n",
      "minimum_nights                        0\n",
      "number_of_reviews                     0\n",
      "last_review                       10038\n",
      "reviews_per_month                 10038\n",
      "calculated_host_listings_count        0\n",
      "availability_365                      0\n",
      "dtype: int64\n"
     ]
    }
   ],
   "source": [
    "#Como las columnas id, host_id, host_name y name ya fueron usadas para eliminar duplicados, faltan de manera aleatoria\n",
    "#y no se espera que tengan ninguna relevancia en el análisis y predicción de los datos, optamos por eliminarlas.\n",
    "nuevo_df = nuevo_df.drop(columns=['id', 'name', 'host_id', 'host_name'])\n",
    "missing_values = nuevo_df.isnull().sum()\n",
    "print(missing_values)"
   ]
  },
  {
   "cell_type": "code",
   "execution_count": 15,
   "metadata": {},
   "outputs": [
    {
     "name": "stdout",
     "output_type": "stream",
     "text": [
      "             room_type       neighbourhood\n",
      "4506   Entire home/apt     Lower East Side\n",
      "12567     Private room          Greenpoint\n",
      "12925     Private room         South Slope\n",
      "25430     Private room          Kensington\n",
      "26821     Private room             Belmont\n",
      "27093  Entire home/apt  University Heights\n",
      "28238  Entire home/apt             Midtown\n",
      "35308     Private room         Sunset Park\n",
      "35641     Private room            Flushing\n",
      "35679     Private room             Tribeca\n",
      "37140  Entire home/apt         South Slope\n",
      "41176     Private room        Williamsburg\n",
      "42039  Entire home/apt         Murray Hill\n",
      "44047     Private room           Ridgewood\n",
      "48890     Private room            Bushwick\n"
     ]
    }
   ],
   "source": [
    "#En el caso de los datos faltantes para la variable price decidimos imputar por la media CONDICIONAL al tipo de habitación\n",
    "#y al vecindario al que pertenece el airbnb cuyo precio no fue reportado. Para ello usamos el comando:\n",
    "datos_faltantes = nuevo_df.loc[nuevo_df['price'].isnull(), ['room_type', 'neighbourhood']]\n",
    "print(datos_faltantes)"
   ]
  },
  {
   "cell_type": "code",
   "execution_count": 17,
   "metadata": {},
   "outputs": [
    {
     "name": "stdout",
     "output_type": "stream",
     "text": [
      "La media del precio es: 234.6158415841584\n",
      "La media del precio es: 88.40631578947368\n",
      "La media del precio es: 85.74725274725274\n",
      "La media del precio es: 59.30927835051546\n",
      "La media del precio es: 53.94444444444444\n",
      "La media del precio es: 120.0\n",
      "La media del precio es: 301.35122838944494\n",
      "La media del precio es: 77.82843137254902\n",
      "La media del precio es: 63.37581699346405\n",
      "La media del precio es: 192.54545454545453\n",
      "La media del precio es: 177.2139037433155\n",
      "La media del precio es: 85.7565130260521\n",
      "La media del precio es: 237.8391959798995\n",
      "La media del precio es: 56.33922261484099\n",
      "La media del precio es: 62.593804792518995\n"
     ]
    }
   ],
   "source": [
    "#Calculamos los precios medios condicionales a la combinación de room_type y neighbouhood correspondiente a las \n",
    "#observaciones que tienen datos faltantes de la variable price\n",
    "precio_media = nuevo_df.loc[\n",
    "    (nuevo_df['room_type'] == 'Entire home/apt') & \n",
    "    (nuevo_df['neighbourhood'] == 'Lower East Side'),\n",
    "    'price'\n",
    "].mean()\n",
    "print(f\"La media del precio es: {precio_media}\")\n",
    "\n",
    "precio_media = nuevo_df.loc[\n",
    "    (nuevo_df['room_type'] == 'Private room') & \n",
    "    (nuevo_df['neighbourhood'] == 'Greenpoint'),\n",
    "    'price'\n",
    "].mean()\n",
    "print(f\"La media del precio es: {precio_media}\")\n",
    "\n",
    "precio_media = nuevo_df.loc[\n",
    "    (nuevo_df['room_type'] == 'Private room') & \n",
    "    (nuevo_df['neighbourhood'] == 'South Slope'),\n",
    "    'price'\n",
    "].mean()\n",
    "print(f\"La media del precio es: {precio_media}\")\n",
    "\n",
    "precio_media = nuevo_df.loc[\n",
    "    (nuevo_df['room_type'] == 'Private room') & \n",
    "    (nuevo_df['neighbourhood'] == 'Kensington'),\n",
    "    'price'\n",
    "].mean()\n",
    "print(f\"La media del precio es: {precio_media}\")\n",
    "\n",
    "precio_media = nuevo_df.loc[\n",
    "    (nuevo_df['room_type'] == 'Private room') & \n",
    "    (nuevo_df['neighbourhood'] == 'Belmont'),\n",
    "    'price'\n",
    "].mean()\n",
    "print(f\"La media del precio es: {precio_media}\")\n",
    "\n",
    "precio_media = nuevo_df.loc[\n",
    "    (nuevo_df['room_type'] == 'Entire home/apt') & \n",
    "    (nuevo_df['neighbourhood'] == 'University Heights'),\n",
    "    'price'\n",
    "].mean()\n",
    "print(f\"La media del precio es: {precio_media}\")\n",
    "\n",
    "precio_media = nuevo_df.loc[\n",
    "    (nuevo_df['room_type'] == 'Entire home/apt') & \n",
    "    (nuevo_df['neighbourhood'] == 'Midtown'),\n",
    "    'price'\n",
    "].mean()\n",
    "print(f\"La media del precio es: {precio_media}\")\n",
    "\n",
    "precio_media = nuevo_df.loc[\n",
    "    (nuevo_df['room_type'] == 'Private room') & \n",
    "    (nuevo_df['neighbourhood'] == 'Sunset Park'),\n",
    "    'price'\n",
    "].mean()\n",
    "print(f\"La media del precio es: {precio_media}\")\n",
    "\n",
    "precio_media = nuevo_df.loc[\n",
    "    (nuevo_df['room_type'] == 'Private room') & \n",
    "    (nuevo_df['neighbourhood'] == 'Flushing'),\n",
    "    'price'\n",
    "].mean()\n",
    "print(f\"La media del precio es: {precio_media}\")\n",
    "\n",
    "precio_media = nuevo_df.loc[\n",
    "    (nuevo_df['room_type'] == 'Private room') & \n",
    "    (nuevo_df['neighbourhood'] == 'Tribeca'),\n",
    "    'price'\n",
    "].mean()\n",
    "print(f\"La media del precio es: {precio_media}\")\n",
    "\n",
    "precio_media = nuevo_df.loc[\n",
    "    (nuevo_df['room_type'] == 'Entire home/apt') & \n",
    "    (nuevo_df['neighbourhood'] == 'South Slope'),\n",
    "    'price'\n",
    "].mean()\n",
    "print(f\"La media del precio es: {precio_media}\")\n",
    "\n",
    "precio_media = nuevo_df.loc[\n",
    "    (nuevo_df['room_type'] == 'Private room') & \n",
    "    (nuevo_df['neighbourhood'] == 'Williamsburg'),\n",
    "    'price'\n",
    "].mean()\n",
    "print(f\"La media del precio es: {precio_media}\")\n",
    "\n",
    "precio_media = nuevo_df.loc[\n",
    "    (nuevo_df['room_type'] == 'Entire home/apt') & \n",
    "    (nuevo_df['neighbourhood'] == 'Murray Hill'),\n",
    "    'price'\n",
    "].mean()\n",
    "print(f\"La media del precio es: {precio_media}\")\n",
    "\n",
    "precio_media = nuevo_df.loc[\n",
    "    (nuevo_df['room_type'] == 'Private room') & \n",
    "    (nuevo_df['neighbourhood'] == 'Ridgewood'),\n",
    "    'price'\n",
    "].mean()\n",
    "print(f\"La media del precio es: {precio_media}\")\n",
    "\n",
    "precio_media = nuevo_df.loc[\n",
    "    (nuevo_df['room_type'] == 'Private room') & \n",
    "    (nuevo_df['neighbourhood'] == 'Bushwick'),\n",
    "    'price'\n",
    "].mean()\n",
    "print(f\"La media del precio es: {precio_media}\")"
   ]
  },
  {
   "cell_type": "code",
   "execution_count": 19,
   "metadata": {},
   "outputs": [
    {
     "name": "stdout",
     "output_type": "stream",
     "text": [
      "neighbourhood_group                   0\n",
      "neighbourhood                         0\n",
      "latitude                              0\n",
      "longitude                             0\n",
      "room_type                             0\n",
      "price                                 0\n",
      "minimum_nights                        0\n",
      "number_of_reviews                     0\n",
      "last_review                       10038\n",
      "reviews_per_month                 10038\n",
      "calculated_host_listings_count        0\n",
      "availability_365                      0\n",
      "dtype: int64\n"
     ]
    }
   ],
   "source": [
    "nuevo_df.at[4506, 'price'] = 234.6\n",
    "nuevo_df.at[12567, 'price'] = 88.4\n",
    "nuevo_df.at[12925, 'price'] =85.7\n",
    "nuevo_df.at[25430, 'price'] = 59.3\n",
    "nuevo_df.at[26821, 'price'] = 53.9\n",
    "\n",
    "nuevo_df.at[27093, 'price'] = 120.0\n",
    "nuevo_df.at[28238, 'price'] = 301.4\n",
    "nuevo_df.at[35308, 'price'] = 77.8\n",
    "nuevo_df.at[35641, 'price'] = 63.4\n",
    "nuevo_df.at[35679, 'price'] = 192.5\n",
    "\n",
    "nuevo_df.at[37140, 'price'] = 177.2\n",
    "nuevo_df.at[41176, 'price'] = 85.8\n",
    "nuevo_df.at[42039, 'price'] = 237.8\n",
    "nuevo_df.at[44047, 'price'] = 56.3\n",
    "nuevo_df.at[48890, 'price'] = 62.6\n",
    "\n",
    "missing_values = nuevo_df.isnull().sum()\n",
    "print(missing_values)"
   ]
  },
  {
   "cell_type": "code",
   "execution_count": 21,
   "metadata": {},
   "outputs": [
    {
     "name": "stdout",
     "output_type": "stream",
     "text": [
      "neighbourhood_group\n",
      "3    21635\n",
      "2    20065\n",
      "4     5627\n",
      "1     1090\n",
      "5      372\n",
      "Name: count, dtype: int64\n"
     ]
    }
   ],
   "source": [
    "#Transformo la variable neighbourhood_group\n",
    "mapeo_neighbourhood_group = {\n",
    "    'Bronx': 1,\n",
    "    'Brooklyn': 2,\n",
    "    'Manhattan': 3,\n",
    "    'Queens': 4,\n",
    "    'Staten Island': 5\n",
    "}\n",
    "nuevo_df['neighbourhood_group'] = nuevo_df['neighbourhood_group'].map(mapeo_neighbourhood_group)\n",
    "frecuencias = nuevo_df['neighbourhood_group'].value_counts()\n",
    "print(frecuencias)"
   ]
  },
  {
   "cell_type": "code",
   "execution_count": 25,
   "metadata": {},
   "outputs": [],
   "source": [
    "#Guardo los avances en un excel\n",
    "df.to_excel('mi_dataframe.xlsx', index=False)"
   ]
  },
  {
   "cell_type": "code",
   "execution_count": 27,
   "metadata": {},
   "outputs": [
    {
     "name": "stdout",
     "output_type": "stream",
     "text": [
      "room_type\n",
      "Entire home/apt    25371\n",
      "Private room       22283\n",
      "Shared room         1145\n",
      "Name: count, dtype: int64\n"
     ]
    }
   ],
   "source": [
    "frecuencia = df['room_type'].value_counts()\n",
    "print(frecuencia)"
   ]
  },
  {
   "cell_type": "code",
   "execution_count": 29,
   "metadata": {},
   "outputs": [
    {
     "name": "stdout",
     "output_type": "stream",
     "text": [
      "room_type\n",
      "1    25366\n",
      "2    22278\n",
      "3     1145\n",
      "Name: count, dtype: int64\n"
     ]
    }
   ],
   "source": [
    "#Transformo la variable room_type\n",
    "mapeo_room_type = {\n",
    "    'Entire home/apt': 1,\n",
    "    'Private room': 2,\n",
    "    'Shared room': 3\n",
    "}\n",
    "nuevo_df['room_type'] = nuevo_df['room_type'].map(mapeo_room_type)\n",
    "frecuencias = nuevo_df['room_type'].value_counts()\n",
    "print(frecuencias)"
   ]
  },
  {
   "cell_type": "code",
   "execution_count": null,
   "metadata": {},
   "outputs": [],
   "source": []
  },
  {
   "cell_type": "markdown",
   "metadata": {},
   "source": [
    "### Parte II: Graficos y visualizaciones"
   ]
  },
  {
   "cell_type": "markdown",
   "metadata": {},
   "source": [
    "#### Ejercicio 2\n",
    "Una vez hecha la limpieza, realicen una matriz de correlación con las siguientes variables:**‘neighbourhood group’, ‘latitude’, ‘longitude’, ‘room type’,‘price’, ‘minimum nights’, ‘number of reviews’, ‘reviews per month’,‘calculated host listings count’, ‘availability 365’.** Comenten los resultados. Utilicen alguno de los comandos disponibles en este link para graficar la matriz de correlacion.\n",
    "\n",
    "*Nota:* consideren cómo es conveniente incluir las variables que originalmente eran categóricas para poder interpretar mejor la matriz de correlación."
   ]
  },
  {
   "cell_type": "code",
   "execution_count": null,
   "metadata": {},
   "outputs": [],
   "source": [
    "# Resolver acá\n"
   ]
  },
  {
   "cell_type": "markdown",
   "metadata": {},
   "source": [
    "#### Ejercicio 3\n",
    "Respondan las siguientes preguntas: ¿Cuál es la proporción de oferentes por “Neighbourhood group”? ¿Y por tipo de habitación? Además, realicen gráficos para mostrar estas composiciones y comenten los resultados."
   ]
  },
  {
   "cell_type": "code",
   "execution_count": null,
   "metadata": {},
   "outputs": [],
   "source": [
    "# Resolver acá\n"
   ]
  },
  {
   "cell_type": "markdown",
   "metadata": {},
   "source": [
    "#### Ejercicio 4\n",
    "Realicen un histograma de los precios de los alojamientos. Comenten el gráfico obtenido. Además, respondan las siguientes preguntas: ¿cuál es el precio mínimo, máximo y promedio? ¿Cuál es la media de precio por “Neighbourhood group” y por tipo de habitación? "
   ]
  },
  {
   "cell_type": "code",
   "execution_count": null,
   "metadata": {},
   "outputs": [],
   "source": [
    "# Resolver acá\n"
   ]
  },
  {
   "cell_type": "markdown",
   "metadata": {},
   "source": [
    "#### Ejercicio 5\n",
    "Realicen dos scatter plots con dos variables de interés en cada uno. Comenten."
   ]
  },
  {
   "cell_type": "code",
   "execution_count": 1,
   "metadata": {},
   "outputs": [],
   "source": [
    "# Resolver acá\n"
   ]
  },
  {
   "cell_type": "markdown",
   "metadata": {},
   "source": [
    "#### Ejercicio 6\n",
    "Utilicen el análisis de componentes principales para graficar las variables en dos dimensiones. Comenten los resultados obtenidos (qué porcentaje de la varianza se logra explicar con dos componentes, cómo son los *loadings*, si ven algún patrón en el gráfico)."
   ]
  },
  {
   "cell_type": "code",
   "execution_count": 1,
   "metadata": {},
   "outputs": [],
   "source": [
    "# Resolver acá\n"
   ]
  },
  {
   "cell_type": "markdown",
   "metadata": {},
   "source": [
    "### Parte III: Predicción"
   ]
  },
  {
   "cell_type": "markdown",
   "metadata": {},
   "source": [
    "El objetivo de esta parte del trabajo es intentar predecir los precios de los alojamientos."
   ]
  },
  {
   "cell_type": "markdown",
   "metadata": {},
   "source": [
    "#### Ejercicio 7\n",
    "Eliminen de la base todas las variables relacionadas al precio"
   ]
  },
  {
   "cell_type": "code",
   "execution_count": null,
   "metadata": {},
   "outputs": [],
   "source": [
    "# Resolver acá\n"
   ]
  },
  {
   "cell_type": "markdown",
   "metadata": {},
   "source": [
    "#### Ejercicio 8\n",
    "Partan la base en una base de prueba (test) y una de entrenamiento (train) utilizando el comando <code>train_test_split</code>. La base de entrenamiento debe comprender el 70% de los datos, y la semilla a utilizar (*random state instance*) debe ser 201. Establezca a price como su variable dependiente en la base de entrenamiento (vector y). El resto de las variables ser´an las variables independientes (matriz X). Recuerden agregar la columna de unos (1)."
   ]
  },
  {
   "cell_type": "code",
   "execution_count": null,
   "metadata": {},
   "outputs": [],
   "source": [
    "# Resolver acá\n"
   ]
  },
  {
   "cell_type": "markdown",
   "metadata": {},
   "source": [
    "#### Ejercicio 9\n",
    "Implementen una regresión lineal y comenten los resultados obtenidos."
   ]
  },
  {
   "cell_type": "code",
   "execution_count": null,
   "metadata": {},
   "outputs": [],
   "source": [
    "# Resolver acá\n"
   ]
  }
 ],
 "metadata": {
  "anaconda-cloud": {},
  "colab": {
   "name": "TP1 - Parte 1.ipynb",
   "provenance": []
  },
  "kernelspec": {
   "display_name": "Python 3 (ipykernel)",
   "language": "python",
   "name": "python3"
  },
  "language_info": {
   "codemirror_mode": {
    "name": "ipython",
    "version": 3
   },
   "file_extension": ".py",
   "mimetype": "text/x-python",
   "name": "python",
   "nbconvert_exporter": "python",
   "pygments_lexer": "ipython3",
   "version": "3.12.4"
  }
 },
 "nbformat": 4,
 "nbformat_minor": 4
}
