{
 "cells": [
  {
   "cell_type": "code",
   "execution_count": 1,
   "id": "da5a8ce0-7a5b-493f-8b99-8e6f063251e2",
   "metadata": {},
   "outputs": [],
   "source": [
    "import pandas as pd"
   ]
  },
  {
   "cell_type": "code",
   "execution_count": 3,
   "id": "92ce7b32-8f22-49a3-85c0-953f3f6ed8a5",
   "metadata": {},
   "outputs": [
    {
     "name": "stdout",
     "output_type": "stream",
     "text": [
      "                          CODUSU  ANO4  TRIMESTRE  NRO_HOGAR  REALIZADA  \\\n",
      "0  TQRMNORPSHLOLMCDEFNFF00852337  2024          1          1          1   \n",
      "1  TQRMNOPRYHKOKTCDEFNFF00856789  2024          1          1          1   \n",
      "2  TQTMNORRSHKOKTCDEFNFF00856790  2024          1          1          1   \n",
      "3  TQRMNORRSHKOKTCDEFNFF00856791  2024          1          1          1   \n",
      "4  TQRMNOQTVHKLLLCDEFNFF00856792  2024          1          1          1   \n",
      "\n",
      "   REGION MAS_500  AGLOMERADO  PONDERA  IV1  ... GDECCFR  PDECCFR  ADECCFR  \\\n",
      "0      41       N           7      179    1  ...     NaN      5.0        5   \n",
      "1      41       N           7      313    1  ...     NaN     12.0       12   \n",
      "2      41       N           7      286    1  ...     NaN      8.0        9   \n",
      "3      41       N           7      306    1  ...     NaN      5.0        6   \n",
      "4      41       N           7      361    1  ...     NaN      6.0        7   \n",
      "\n",
      "  PONDIH  VII1_1  VII1_2  VII2_1  VII2_2 VII2_3  VII2_4  \n",
      "0    212       1       2      98       0      0       0  \n",
      "1      0       1       0       2       0      0       0  \n",
      "2    401       2       0       1       0      0       0  \n",
      "3    438       2       0       3       0      0       0  \n",
      "4    831       1       0       2       0      0       0  \n",
      "\n",
      "[5 rows x 88 columns]\n"
     ]
    }
   ],
   "source": [
    "df = pd.read_excel(\"C:/Users/piliv/OneDrive/Documentos/GitHub/-Big-Data-UNT--Grupo-1-/TP04/usu_hogar_T124.xlsx\")\n",
    "print(df.head())"
   ]
  },
  {
   "cell_type": "code",
   "execution_count": 5,
   "id": "6f97404c-1c08-4348-9a6c-89a0e976e6e3",
   "metadata": {},
   "outputs": [],
   "source": [
    "df = df[df['AGLOMERADO'] == 29]"
   ]
  },
  {
   "cell_type": "code",
   "execution_count": 7,
   "id": "a7e59752-8d0c-4ee9-8b21-553a0ca6a91d",
   "metadata": {},
   "outputs": [],
   "source": [
    "df.to_excel(\"C:/Users/piliv/OneDrive/Documentos/GitHub/-Big-Data-UNT--Grupo-1-/TP04/usu_hogar_T124.xlsx\", index=False)"
   ]
  },
  {
   "cell_type": "code",
   "execution_count": 9,
   "id": "c65cc152-c9dd-4eb5-9b04-b5e0d77b3ce5",
   "metadata": {},
   "outputs": [
    {
     "name": "stdout",
     "output_type": "stream",
     "text": [
      "     CODUSU  nro_hogar realizada    ano4       trimestre    region mas_500  \\\n",
      "0  125051          1.0        Sí  2004.0  1er. Trimestre  Pampeana       S   \n",
      "1  125082          1.0        Sí  2004.0  1er. Trimestre  Pampeana       S   \n",
      "2  125181          1.0        Sí  2004.0  1er. Trimestre  Pampeana       S   \n",
      "3  125283          1.0        Sí  2004.0  1er. Trimestre  Pampeana       S   \n",
      "4  126192          1.0        Sí  2004.0  1er. Trimestre  Pampeana       S   \n",
      "\n",
      "      aglomerado  pondera   iv1  ... gdeccfr pdeccfr adeccfr vii1_1 vii1_2  \\\n",
      "0  Gran La Plata    355.0  Casa  ...      01              01    1.0    0.0   \n",
      "1  Gran La Plata    306.0  Casa  ...      03              02    2.0    0.0   \n",
      "2  Gran La Plata    541.0  Casa  ...      09              09    2.0    0.0   \n",
      "3  Gran La Plata    255.0  Casa  ...      07              07    1.0    2.0   \n",
      "4  Gran La Plata    218.0  Casa  ...      08              08    2.0    0.0   \n",
      "\n",
      "                                 vii2_1 vii2_2 vii2_3 vii2_4 idimph  \n",
      "0                                   3.0    0.0    0.0    0.0  00000  \n",
      "1                                  98.0    0.0    0.0    0.0  10000  \n",
      "2                                   1.0    3.0    0.0    0.0  00000  \n",
      "3                                   3.0    4.0    0.0    0.0  10000  \n",
      "4  Otra persona que no vive en el hogar    0.0    0.0    0.0  10000  \n",
      "\n",
      "[5 rows x 88 columns]\n"
     ]
    }
   ],
   "source": [
    "df = pd.read_stata(\"C:/Users/piliv/OneDrive/Documentos/GitHub/-Big-Data-UNT--Grupo-1-/TP04/Hogar_t104.dta\")\n",
    "print(df.head())"
   ]
  },
  {
   "cell_type": "code",
   "execution_count": 11,
   "id": "2edae0b3-3e22-481f-b7d5-180f90dcd41a",
   "metadata": {},
   "outputs": [
    {
     "name": "stdout",
     "output_type": "stream",
     "text": [
      "aglomerado\n",
      "Partidos del GBA                   1663\n",
      "Gran Córdoba                        782\n",
      "Gran Rosario                        746\n",
      "Ciudad de Buenos Aires              688\n",
      "Gran Mendoza                        670\n",
      "Gran Tucumán - Tafí Viejo           661\n",
      "Mar del Plata - Batán               576\n",
      "Gran La Plata                       559\n",
      "Salta                               456\n",
      "Gran Santa Fe                       430\n",
      "Gran Resistencia                    407\n",
      "Bahía Blanca - Cerri                402\n",
      "Gran San Juan                       385\n",
      "Posadas                             372\n",
      "Santiago del Estero - La Banda      365\n",
      "Gran Paraná                         350\n",
      "Corrientes                          342\n",
      "Jujuy - Palpalá                     334\n",
      "Concordia                           266\n",
      "La Rioja                            251\n",
      "Río Gallegos                        249\n",
      "San Luis - El Chorrillo             248\n",
      "Gran Catamarca                      243\n",
      "Formosa                             243\n",
      "Comodoro Rivadavia - Rada Tilly     231\n",
      "Santa Rosa - Toay                   230\n",
      "Neuquén - Plottier                  226\n",
      "Río Cuarto                          223\n",
      "Ushuaia - Río Grande                218\n",
      "Name: count, dtype: int64\n"
     ]
    }
   ],
   "source": [
    "frecuencia = df['aglomerado'].value_counts()\n",
    "print(frecuencia)"
   ]
  },
  {
   "cell_type": "code",
   "execution_count": 13,
   "id": "4ac7380b-bfa6-464b-a131-f2d03d2fa2ed",
   "metadata": {},
   "outputs": [],
   "source": [
    "df = df[df['aglomerado'] == 'Gran Tucumán - Tafí Viejo']"
   ]
  },
  {
   "cell_type": "code",
   "execution_count": 21,
   "id": "71851c6f-be78-4b67-aa1b-934abfdf82ec",
   "metadata": {},
   "outputs": [],
   "source": [
    "df.to_excel(\"C:/Users/piliv/OneDrive/Documentos/GitHub/-Big-Data-UNT--Grupo-1-/TP04/usu_hogar_T104.xlsx\", index=False)"
   ]
  },
  {
   "cell_type": "code",
   "execution_count": 23,
   "id": "bffbc4d1-4a6c-47ea-a415-5ec83a31a3d9",
   "metadata": {},
   "outputs": [
    {
     "name": "stdout",
     "output_type": "stream",
     "text": [
      "   CODUSU  ANO4  TRIMESTRE  NRO_HOGAR REALIZADA REGION MAS_500  \\\n",
      "0  125463  2004          1          1        Sí    NOA       S   \n",
      "1  125571  2004          1          1        Sí    NOA       S   \n",
      "2  125591  2004          1          1        Sí    NOA       S   \n",
      "3  126052  2004          1          1        Sí    NOA       S   \n",
      "4  126339  2004          1          1        Sí    NOA       S   \n",
      "\n",
      "                  AGLOMERADO  PONDERA   IV1  ... GDECCFR  PDECCFR ADECCFR  \\\n",
      "0  Gran Tucumán - Tafí Viejo      259  Casa  ...       2                4   \n",
      "1  Gran Tucumán - Tafí Viejo      296  Casa  ...       1                1   \n",
      "2  Gran Tucumán - Tafí Viejo      249  Casa  ...       3                5   \n",
      "3  Gran Tucumán - Tafí Viejo      231  Casa  ...       7                9   \n",
      "4  Gran Tucumán - Tafí Viejo      235  Casa  ...       8                9   \n",
      "\n",
      "  VII1_1 VII1_2 VII2_1 VII2_2 VII2_3 VII2_4 idimph  \n",
      "0      2      0      5      0      0      0      0  \n",
      "1      4      0      2      0      0      0      0  \n",
      "2      2      0     98      0      0      0      0  \n",
      "3      2      0     98      0      0      0      0  \n",
      "4      1      0     98      0      0      0      0  \n",
      "\n",
      "[5 rows x 88 columns]\n"
     ]
    }
   ],
   "source": [
    "df2004 = pd.read_excel(\"C:/Users/piliv/OneDrive/Documentos/GitHub/-Big-Data-UNT--Grupo-1-/TP04/usu_hogar_T104.xlsx\")\n",
    "print(df2004.head())"
   ]
  },
  {
   "cell_type": "code",
   "execution_count": 27,
   "id": "6d6c0bb9-b654-438e-af47-da426c82282f",
   "metadata": {},
   "outputs": [],
   "source": [
    "import pandas as pd\n",
    "pd.set_option('future.no_silent_downcasting', True)"
   ]
  },
  {
   "cell_type": "code",
   "execution_count": 29,
   "id": "31049fe2-6a39-4247-b01a-8ae662659e8b",
   "metadata": {},
   "outputs": [
    {
     "name": "stdout",
     "output_type": "stream",
     "text": [
      "AGLOMERADO\n",
      "29    661\n",
      "Name: count, dtype: int64\n"
     ]
    }
   ],
   "source": [
    "df2004['AGLOMERADO'] = df2004['AGLOMERADO'].replace(\"Gran Tucumán - Tafí Viejo\", 29)\n",
    "frecuencia_AGLOMERADO = df2004['AGLOMERADO'].value_counts()\n",
    "print(frecuencia_AGLOMERADO)"
   ]
  },
  {
   "cell_type": "code",
   "execution_count": 31,
   "id": "2e748884-01cc-48c7-935c-1af7438ad5c6",
   "metadata": {},
   "outputs": [
    {
     "name": "stdout",
     "output_type": "stream",
     "text": [
      "REGION\n",
      "40    661\n",
      "Name: count, dtype: int64\n",
      "   CODUSU  ANO4  TRIMESTRE  NRO_HOGAR REALIZADA REGION MAS_500  AGLOMERADO  \\\n",
      "0  125463  2004          1          1         1     40       S          29   \n",
      "1  125571  2004          1          1         1     40       S          29   \n",
      "2  125591  2004          1          1         1     40       S          29   \n",
      "3  126052  2004          1          1         1     40       S          29   \n",
      "4  126339  2004          1          1         1     40       S          29   \n",
      "\n",
      "   PONDERA   IV1  ... GDECCFR  PDECCFR ADECCFR VII1_1 VII1_2 VII2_1 VII2_2  \\\n",
      "0      259  Casa  ...       2                4      2      0      5      0   \n",
      "1      296  Casa  ...       1                1      4      0      2      0   \n",
      "2      249  Casa  ...       3                5      2      0     98      0   \n",
      "3      231  Casa  ...       7                9      2      0     98      0   \n",
      "4      235  Casa  ...       8                9      1      0     98      0   \n",
      "\n",
      "  VII2_3 VII2_4 idimph  \n",
      "0      0      0      0  \n",
      "1      0      0      0  \n",
      "2      0      0      0  \n",
      "3      0      0      0  \n",
      "4      0      0      0  \n",
      "\n",
      "[5 rows x 88 columns]\n"
     ]
    }
   ],
   "source": [
    "df2004['REGION'] = df2004['REGION'].replace(\"NOA\", 40)\n",
    "frecuencia_REGION = df2004['REGION'].value_counts()\n",
    "print(frecuencia_REGION)\n",
    "\n",
    "df2004.replace({\"Sí\": 1, \"No\": 2}, inplace=True)\n",
    "print(df2004.head())"
   ]
  },
  {
   "cell_type": "code",
   "execution_count": 35,
   "id": "7355f827-82ba-4fe8-ac7b-bbd2df2198df",
   "metadata": {},
   "outputs": [],
   "source": [
    "reemplazos1 = {\n",
    "    \"Casa\": 1,\n",
    "    \"Departamento\": 2,\n",
    "    \"Pieza de inquilinato\": 3,\n",
    "    \"Pieza en hotel / pensión\": 4,\n",
    "    \"Local no construido para habitación\": 5,\n",
    "    \"Otros\": 6\n",
    "}\n",
    "df2004['IV1'] = df2004['IV1'].replace(reemplazos1)"
   ]
  },
  {
   "cell_type": "code",
   "execution_count": 41,
   "id": "880fbd19-0d9d-4bc4-bce3-406350a1123c",
   "metadata": {},
   "outputs": [],
   "source": [
    "df2004.to_excel(\"C:/Users/piliv/OneDrive/Documentos/GitHub/-Big-Data-UNT--Grupo-1-/TP04/usu_hogar_T104.xlsx\", index=False)"
   ]
  },
  {
   "cell_type": "code",
   "execution_count": 43,
   "id": "c16c1b20-d788-4bdc-ace5-1925246696d2",
   "metadata": {},
   "outputs": [],
   "source": [
    "df2004 = pd.read_excel(\"C:/Users/piliv/OneDrive/Documentos/GitHub/-Big-Data-UNT--Grupo-1-/TP04/usu_hogar_T104.xlsx\")"
   ]
  },
  {
   "cell_type": "code",
   "execution_count": 45,
   "id": "27192e97-421d-4568-94ae-c5ccf25522d3",
   "metadata": {},
   "outputs": [],
   "source": [
    "# Reemplazos para la variable IV3\n",
    "reemplazos_IV3 = {\n",
    "    \"Mosaico / baldosa / madera / cerámica / alfombra\": 1,\n",
    "    \"Cemento / ladrillo fijo\": 2,\n",
    "    \"Ladrillo suelto / tierra\": 3,\n",
    "    \"Otro\": 4\n",
    "}\n",
    "\n",
    "# Reemplazos para la variable IV4\n",
    "reemplazos_IV4 = {\n",
    "    \"Membrana / cubierta asfáltica\": 1,\n",
    "    \"Baldosa / losa sin cubierta\": 2,\n",
    "    \"Pizarra / teja\": 3,\n",
    "    \"Chapa de metal sin cubierta\": 4,\n",
    "    \"Chapa de fibrocemento / plástico\": 5,\n",
    "    \"Chapa de cartón\": 6,\n",
    "    \"Caña / tabla / paja con barro / paja sola\": 7,\n",
    "    \"N/S. Depto en propiedad horizontal\": 9\n",
    "}\n",
    "\n",
    "# Reemplazos para la variable IV6\n",
    "reemplazos_IV6 = {\n",
    "    \"Por cañería dentro de la vivienda\": 1,\n",
    "    \"Fuera de la vivienda pero dentro del terreno\": 2,\n",
    "    \"Fuera del terreno\": 3\n",
    "}\n",
    "\n",
    "# Reemplazos para la variable IV7\n",
    "reemplazos_IV7 = {\n",
    "    \"Red pública (agua corriente)\": 1,\n",
    "    \"Perforación con bomba a motor\": 2,\n",
    "    \"Perforación con bomba manual\": 3,\n",
    "    \"Otra fuente\": 4\n",
    "}\n",
    "\n",
    "# Reemplazos para la variable IV9\n",
    "reemplazos_IV9 = {\n",
    "    \"Dentro de la vivienda\": 1,\n",
    "    \"Fuera de la vivienda pero dentro del terreno\": 2,\n",
    "    \"Fuera del terreno\": 3\n",
    "}\n",
    "\n",
    "# Reemplazos para la variable IV10\n",
    "reemplazos_IV10 = {\n",
    "    \"Inodoro con botón / mochila / cadena y arrastre de agua\": 1,\n",
    "    \"Inodoro sin botón / cadena y con arrastre de agua (a balde)\": 2,\n",
    "    \"Letrina (sin arrastre de agua)\": 3\n",
    "}\n",
    "\n",
    "reemplazos_IV11 = {\n",
    "    \"A red pública (cloaca)\": 1,\n",
    "    \"A cámara séptica y pozo ciego\": 2,\n",
    "    \"Sólo a pozo ciego\": 3,\n",
    "    \"A hoyo / excavación en la tierra\": 4\n",
    "}\n",
    "\n",
    "# Realizando los reemplazos\n",
    "df2004['IV3'] = df2004['IV3'].replace(reemplazos_IV3)\n",
    "df2004['IV4'] = df2004['IV4'].replace(reemplazos_IV4)\n",
    "df2004['IV6'] = df2004['IV6'].replace(reemplazos_IV6)\n",
    "df2004['IV7'] = df2004['IV7'].replace(reemplazos_IV7)\n",
    "df2004['IV9'] = df2004['IV9'].replace(reemplazos_IV9)\n",
    "df2004['IV10'] = df2004['IV10'].replace(reemplazos_IV10)\n",
    "df2004['IV11'] = df2004['IV11'].replace(reemplazos_IV11)"
   ]
  },
  {
   "cell_type": "code",
   "execution_count": 47,
   "id": "eba8b0fc-f820-49bc-9c06-2295e8b12dee",
   "metadata": {},
   "outputs": [],
   "source": [
    "# Reemplazos para la variable II8\n",
    "reemplazos_II8 = {\n",
    "    \"Gas de red\": 1,\n",
    "    \"Gas de tubo / garrafa\": 2,\n",
    "    \"Kerosene / leña/ carbón\": 3,\n",
    "    \"Otro\": 4\n",
    "}\n",
    "\n",
    "# Reemplazos para la variable II9\n",
    "reemplazos_II9 = {\n",
    "    \"Uso exclusivo del hogar\": 1,\n",
    "    \"Compartido con otro/s hogar/es de la misma vivienda\": 2,\n",
    "    \"Compartido con otra/s vivienda/s\": 3,\n",
    "    \"No tiene baño\": 4\n",
    "}\n",
    "\n",
    "# Reemplazos para la variable VII1_1\n",
    "reemplazos_VII1_1 = {\n",
    "    \"Servicio doméstico\": 96,\n",
    "    \"Otra persona que no vive en el hogar\": 97\n",
    "}\n",
    "\n",
    "# Reemplazos para la variable VII2_1\n",
    "reemplazos_VII2_1 = {\n",
    "    \"Servicio doméstico\": 96,\n",
    "    \"Otra persona que no vive en el hogar\": 97,\n",
    "    \"Ninguna\": 98\n",
    "}\n",
    "\n",
    "# Realizando los reemplazos\n",
    "df2004['II8'] = df2004['II8'].replace(reemplazos_II8)\n",
    "df2004['II9'] = df2004['II9'].replace(reemplazos_II9)\n",
    "df2004['VII1_1'] = df2004['VII1_1'].replace(reemplazos_VII1_1)\n",
    "df2004['VII2_1'] = df2004['VII2_1'].replace(reemplazos_VII2_1)"
   ]
  },
  {
   "cell_type": "code",
   "execution_count": 49,
   "id": "2302a48b-10f4-4f1b-8d0f-10a9b1399956",
   "metadata": {},
   "outputs": [],
   "source": [
    "df2004.to_excel(\"C:/Users/piliv/OneDrive/Documentos/GitHub/-Big-Data-UNT--Grupo-1-/TP04/usu_hogar_T104.xlsx\", index=False)"
   ]
  },
  {
   "cell_type": "code",
   "execution_count": null,
   "id": "9c639f58-f6a1-4bc4-9846-d2c74ef5f20c",
   "metadata": {},
   "outputs": [],
   "source": []
  }
 ],
 "metadata": {
  "kernelspec": {
   "display_name": "Python 3 (ipykernel)",
   "language": "python",
   "name": "python3"
  },
  "language_info": {
   "codemirror_mode": {
    "name": "ipython",
    "version": 3
   },
   "file_extension": ".py",
   "mimetype": "text/x-python",
   "name": "python",
   "nbconvert_exporter": "python",
   "pygments_lexer": "ipython3",
   "version": "3.12.4"
  }
 },
 "nbformat": 4,
 "nbformat_minor": 5
}
