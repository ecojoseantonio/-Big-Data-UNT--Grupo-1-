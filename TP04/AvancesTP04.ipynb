{
 "cells": [
  {
   "cell_type": "code",
   "execution_count": 113,
   "id": "da5a8ce0-7a5b-493f-8b99-8e6f063251e2",
   "metadata": {},
   "outputs": [],
   "source": [
    "import pandas as pd"
   ]
  },
  {
   "cell_type": "code",
   "execution_count": 115,
   "id": "92ce7b32-8f22-49a3-85c0-953f3f6ed8a5",
   "metadata": {},
   "outputs": [
    {
     "name": "stdout",
     "output_type": "stream",
     "text": [
      "                          CODUSU  ANO4  TRIMESTRE  NRO_HOGAR  REALIZADA  \\\n",
      "0  TQRMNORPSHLOLMCDEFNFF00852337  2024          1          1          1   \n",
      "1  TQRMNOPRYHKOKTCDEFNFF00856789  2024          1          1          1   \n",
      "2  TQTMNORRSHKOKTCDEFNFF00856790  2024          1          1          1   \n",
      "3  TQRMNORRSHKOKTCDEFNFF00856791  2024          1          1          1   \n",
      "4  TQRMNOQTVHKLLLCDEFNFF00856792  2024          1          1          1   \n",
      "\n",
      "   REGION MAS_500  AGLOMERADO  PONDERA  IV1  ... GDECCFR  PDECCFR  ADECCFR  \\\n",
      "0      41       N           7      179    1  ...     NaN      5.0        5   \n",
      "1      41       N           7      313    1  ...     NaN     12.0       12   \n",
      "2      41       N           7      286    1  ...     NaN      8.0        9   \n",
      "3      41       N           7      306    1  ...     NaN      5.0        6   \n",
      "4      41       N           7      361    1  ...     NaN      6.0        7   \n",
      "\n",
      "  PONDIH  VII1_1  VII1_2  VII2_1  VII2_2 VII2_3  VII2_4  \n",
      "0    212       1       2      98       0      0       0  \n",
      "1      0       1       0       2       0      0       0  \n",
      "2    401       2       0       1       0      0       0  \n",
      "3    438       2       0       3       0      0       0  \n",
      "4    831       1       0       2       0      0       0  \n",
      "\n",
      "[5 rows x 88 columns]\n"
     ]
    }
   ],
   "source": [
    "df = pd.read_excel(\"C:/Users/jose.lopez/OneDrive - Vicente Trapani Sa/Documents/GitHub/-Big-Data-UNT--Grupo-1-/TP04/usu_hogar_T124.xlsx\")\n",
    "#\"C:/Users/piliv/OneDrive/Documentos/GitHub/-Big-Data-UNT--Grupo-1-/TP04/usu_hogar_T124.xlsx\"\n",
    "print(df.head())"
   ]
  },
  {
   "cell_type": "code",
   "execution_count": 117,
   "id": "6f97404c-1c08-4348-9a6c-89a0e976e6e3",
   "metadata": {},
   "outputs": [],
   "source": [
    "df = df[df['AGLOMERADO'] == 29]"
   ]
  },
  {
   "cell_type": "code",
   "execution_count": 119,
   "id": "a7e59752-8d0c-4ee9-8b21-553a0ca6a91d",
   "metadata": {},
   "outputs": [],
   "source": [
    "df.to_excel(\"C:/Users/jose.lopez/OneDrive - Vicente Trapani Sa/Documents/GitHub/-Big-Data-UNT--Grupo-1-/TP04/usu_hogar_T124_TUC.xlsx\", index=False)\n"
   ]
  },
  {
   "cell_type": "code",
   "execution_count": 121,
   "id": "c65cc152-c9dd-4eb5-9b04-b5e0d77b3ce5",
   "metadata": {},
   "outputs": [
    {
     "name": "stdout",
     "output_type": "stream",
     "text": [
      "     CODUSU  nro_hogar realizada    ano4       trimestre    region mas_500  \\\n",
      "0  125051          1.0        Sí  2004.0  1er. Trimestre  Pampeana       S   \n",
      "1  125082          1.0        Sí  2004.0  1er. Trimestre  Pampeana       S   \n",
      "2  125181          1.0        Sí  2004.0  1er. Trimestre  Pampeana       S   \n",
      "3  125283          1.0        Sí  2004.0  1er. Trimestre  Pampeana       S   \n",
      "4  126192          1.0        Sí  2004.0  1er. Trimestre  Pampeana       S   \n",
      "\n",
      "      aglomerado  pondera   iv1  ... gdeccfr pdeccfr adeccfr vii1_1 vii1_2  \\\n",
      "0  Gran La Plata    355.0  Casa  ...      01              01    1.0    0.0   \n",
      "1  Gran La Plata    306.0  Casa  ...      03              02    2.0    0.0   \n",
      "2  Gran La Plata    541.0  Casa  ...      09              09    2.0    0.0   \n",
      "3  Gran La Plata    255.0  Casa  ...      07              07    1.0    2.0   \n",
      "4  Gran La Plata    218.0  Casa  ...      08              08    2.0    0.0   \n",
      "\n",
      "                                 vii2_1 vii2_2 vii2_3 vii2_4 idimph  \n",
      "0                                   3.0    0.0    0.0    0.0  00000  \n",
      "1                                  98.0    0.0    0.0    0.0  10000  \n",
      "2                                   1.0    3.0    0.0    0.0  00000  \n",
      "3                                   3.0    4.0    0.0    0.0  10000  \n",
      "4  Otra persona que no vive en el hogar    0.0    0.0    0.0  10000  \n",
      "\n",
      "[5 rows x 88 columns]\n"
     ]
    }
   ],
   "source": [
    "df = pd.read_stata(\"C:/Users/jose.lopez/OneDrive - Vicente Trapani Sa/Documents/GitHub/-Big-Data-UNT--Grupo-1-/TP04/Hogar_t104.dta\")\n",
    "print(df.head())"
   ]
  },
  {
   "cell_type": "code",
   "execution_count": 123,
   "id": "2edae0b3-3e22-481f-b7d5-180f90dcd41a",
   "metadata": {},
   "outputs": [
    {
     "name": "stdout",
     "output_type": "stream",
     "text": [
      "aglomerado\n",
      "Partidos del GBA                   1663\n",
      "Gran Córdoba                        782\n",
      "Gran Rosario                        746\n",
      "Ciudad de Buenos Aires              688\n",
      "Gran Mendoza                        670\n",
      "Gran Tucumán - Tafí Viejo           661\n",
      "Mar del Plata - Batán               576\n",
      "Gran La Plata                       559\n",
      "Salta                               456\n",
      "Gran Santa Fe                       430\n",
      "Gran Resistencia                    407\n",
      "Bahía Blanca - Cerri                402\n",
      "Gran San Juan                       385\n",
      "Posadas                             372\n",
      "Santiago del Estero - La Banda      365\n",
      "Gran Paraná                         350\n",
      "Corrientes                          342\n",
      "Jujuy - Palpalá                     334\n",
      "Concordia                           266\n",
      "La Rioja                            251\n",
      "Río Gallegos                        249\n",
      "San Luis - El Chorrillo             248\n",
      "Gran Catamarca                      243\n",
      "Formosa                             243\n",
      "Comodoro Rivadavia - Rada Tilly     231\n",
      "Santa Rosa - Toay                   230\n",
      "Neuquén - Plottier                  226\n",
      "Río Cuarto                          223\n",
      "Ushuaia - Río Grande                218\n",
      "Name: count, dtype: int64\n"
     ]
    }
   ],
   "source": [
    "frecuencia = df['aglomerado'].value_counts()\n",
    "print(frecuencia)"
   ]
  },
  {
   "cell_type": "code",
   "execution_count": 125,
   "id": "4ac7380b-bfa6-464b-a131-f2d03d2fa2ed",
   "metadata": {},
   "outputs": [],
   "source": [
    "df = df[df['aglomerado'] == 'Gran Tucumán - Tafí Viejo']"
   ]
  },
  {
   "cell_type": "code",
   "execution_count": 127,
   "id": "71851c6f-be78-4b67-aa1b-934abfdf82ec",
   "metadata": {},
   "outputs": [],
   "source": [
    "df.to_excel(\"C:/Users/jose.lopez/OneDrive - Vicente Trapani Sa/Documents/GitHub/-Big-Data-UNT--Grupo-1-/TP04/usu_hogar_T104_TUC.xlsx\", index=False)"
   ]
  },
  {
   "cell_type": "code",
   "execution_count": 129,
   "id": "bffbc4d1-4a6c-47ea-a415-5ec83a31a3d9",
   "metadata": {},
   "outputs": [
    {
     "name": "stdout",
     "output_type": "stream",
     "text": [
      "   CODUSU  nro_hogar realizada  ano4       trimestre region mas_500  \\\n",
      "0  125463          1        Sí  2004  1er. Trimestre    NOA       S   \n",
      "1  125571          1        Sí  2004  1er. Trimestre    NOA       S   \n",
      "2  125591          1        Sí  2004  1er. Trimestre    NOA       S   \n",
      "3  126052          1        Sí  2004  1er. Trimestre    NOA       S   \n",
      "4  126339          1        Sí  2004  1er. Trimestre    NOA       S   \n",
      "\n",
      "                  aglomerado  pondera   iv1  ... gdeccfr  pdeccfr adeccfr  \\\n",
      "0  Gran Tucumán - Tafí Viejo      259  Casa  ...       2                4   \n",
      "1  Gran Tucumán - Tafí Viejo      296  Casa  ...       1                1   \n",
      "2  Gran Tucumán - Tafí Viejo      249  Casa  ...       3                5   \n",
      "3  Gran Tucumán - Tafí Viejo      231  Casa  ...       7                9   \n",
      "4  Gran Tucumán - Tafí Viejo      235  Casa  ...       8                9   \n",
      "\n",
      "  vii1_1 vii1_2 vii2_1 vii2_2 vii2_3 vii2_4 idimph  \n",
      "0      2      0      5      0      0      0      0  \n",
      "1      4      0      2      0      0      0      0  \n",
      "2      2      0     98      0      0      0      0  \n",
      "3      2      0     98      0      0      0      0  \n",
      "4      1      0     98      0      0      0      0  \n",
      "\n",
      "[5 rows x 88 columns]\n"
     ]
    }
   ],
   "source": [
    "df2004 = pd.read_excel(\"C:/Users/jose.lopez/OneDrive - Vicente Trapani Sa/Documents/GitHub/-Big-Data-UNT--Grupo-1-/TP04/usu_hogar_T104_TUC.xlsx\")\n",
    "print(df2004.head())"
   ]
  },
  {
   "cell_type": "code",
   "execution_count": 130,
   "id": "6d6c0bb9-b654-438e-af47-da426c82282f",
   "metadata": {},
   "outputs": [],
   "source": [
    "import pandas as pd\n",
    "pd.set_option('future.no_silent_downcasting', True)"
   ]
  },
  {
   "cell_type": "code",
   "execution_count": 131,
   "id": "31049fe2-6a39-4247-b01a-8ae662659e8b",
   "metadata": {},
   "outputs": [
    {
     "name": "stdout",
     "output_type": "stream",
     "text": [
      "aglomerado\n",
      "29    661\n",
      "Name: count, dtype: int64\n"
     ]
    }
   ],
   "source": [
    "df2004['aglomerado'] = df2004['aglomerado'].replace(\"Gran Tucumán - Tafí Viejo\", 29)\n",
    "frecuencia_AGLOMERADO = df2004['aglomerado'].value_counts()\n",
    "print(frecuencia_AGLOMERADO)"
   ]
  },
  {
   "cell_type": "code",
   "execution_count": 132,
   "id": "2e748884-01cc-48c7-935c-1af7438ad5c6",
   "metadata": {},
   "outputs": [
    {
     "name": "stdout",
     "output_type": "stream",
     "text": [
      "region\n",
      "40    661\n",
      "Name: count, dtype: int64\n",
      "   CODUSU  NRO_HOGAR REALIZADA  ANO4       TRIMESTRE REGION MAS_500  \\\n",
      "0  125463          1         1  2004  1er. Trimestre     40       S   \n",
      "1  125571          1         1  2004  1er. Trimestre     40       S   \n",
      "2  125591          1         1  2004  1er. Trimestre     40       S   \n",
      "3  126052          1         1  2004  1er. Trimestre     40       S   \n",
      "4  126339          1         1  2004  1er. Trimestre     40       S   \n",
      "\n",
      "  AGLOMERADO  PONDERA   IV1  ... GDECCFR  PDECCFR ADECCFR VII1_1 VII1_2  \\\n",
      "0         29      259  Casa  ...       2                4      2      0   \n",
      "1         29      296  Casa  ...       1                1      4      0   \n",
      "2         29      249  Casa  ...       3                5      2      0   \n",
      "3         29      231  Casa  ...       7                9      2      0   \n",
      "4         29      235  Casa  ...       8                9      1      0   \n",
      "\n",
      "  VII2_1 VII2_2 VII2_3 VII2_4 IDIMPH  \n",
      "0      5      0      0      0      0  \n",
      "1      2      0      0      0      0  \n",
      "2     98      0      0      0      0  \n",
      "3     98      0      0      0      0  \n",
      "4     98      0      0      0      0  \n",
      "\n",
      "[5 rows x 88 columns]\n"
     ]
    }
   ],
   "source": [
    "df2004['region'] = df2004['region'].replace(\"NOA\", 40)\n",
    "frecuencia_REGION = df2004['region'].value_counts()\n",
    "print(frecuencia_REGION)\n",
    "# Convirtiendo los nombres de las columnas a mayúsculas\n",
    "df2004.columns = df2004.columns.str.upper()\n",
    "\n",
    "df2004.replace({\"Sí\": 1, \"No\": 2}, inplace=True)\n",
    "print(df2004.head())"
   ]
  },
  {
   "cell_type": "code",
   "execution_count": 137,
   "id": "7355f827-82ba-4fe8-ac7b-bbd2df2198df",
   "metadata": {},
   "outputs": [],
   "source": [
    "reemplazos1 = {\n",
    "    \"Casa\": 1,\n",
    "    \"Departamento\": 2,\n",
    "    \"Pieza de inquilinato\": 3,\n",
    "    \"Pieza en hotel / pensión\": 4,\n",
    "    \"Local no construido para habitación\": 5,\n",
    "    \"Otros\": 6\n",
    "}\n",
    "df2004['IV1'] = df2004['IV1'].replace(reemplazos1)"
   ]
  },
  {
   "cell_type": "code",
   "execution_count": 139,
   "id": "880fbd19-0d9d-4bc4-bce3-406350a1123c",
   "metadata": {},
   "outputs": [],
   "source": [
    "df2004.to_excel(\"C:/Users/jose.lopez/OneDrive - Vicente Trapani Sa/Documents/GitHub/-Big-Data-UNT--Grupo-1-/TP04/usu_hogar_T104_TUC2.xlsx\", index=False)"
   ]
  },
  {
   "cell_type": "code",
   "execution_count": 141,
   "id": "c16c1b20-d788-4bdc-ace5-1925246696d2",
   "metadata": {},
   "outputs": [],
   "source": [
    "df2004 = pd.read_excel(\"C:/Users/jose.lopez/OneDrive - Vicente Trapani Sa/Documents/GitHub/-Big-Data-UNT--Grupo-1-/TP04/usu_hogar_T104_TUC2.xlsx\")"
   ]
  },
  {
   "cell_type": "code",
   "execution_count": 142,
   "id": "27192e97-421d-4568-94ae-c5ccf25522d3",
   "metadata": {},
   "outputs": [],
   "source": [
    "# Reemplazos para la variable IV3\n",
    "reemplazos_IV3 = {\n",
    "    \"Mosaico / baldosa / madera / cerámica / alfombra\": 1,\n",
    "    \"Cemento / ladrillo fijo\": 2,\n",
    "    \"Ladrillo suelto / tierra\": 3,\n",
    "    \"Otro\": 4\n",
    "}\n",
    "\n",
    "# Reemplazos para la variable IV4\n",
    "reemplazos_IV4 = {\n",
    "    \"Membrana / cubierta asfáltica\": 1,\n",
    "    \"Baldosa / losa sin cubierta\": 2,\n",
    "    \"Pizarra / teja\": 3,\n",
    "    \"Chapa de metal sin cubierta\": 4,\n",
    "    \"Chapa de fibrocemento / plástico\": 5,\n",
    "    \"Chapa de cartón\": 6,\n",
    "    \"Caña / tabla / paja con barro / paja sola\": 7,\n",
    "    \"N/S. Depto en propiedad horizontal\": 9\n",
    "}\n",
    "\n",
    "# Reemplazos para la variable IV6\n",
    "reemplazos_IV6 = {\n",
    "    \"Por cañería dentro de la vivienda\": 1,\n",
    "    \"Fuera de la vivienda pero dentro del terreno\": 2,\n",
    "    \"Fuera del terreno\": 3\n",
    "}\n",
    "\n",
    "# Reemplazos para la variable IV7\n",
    "reemplazos_IV7 = {\n",
    "    \"Red pública (agua corriente)\": 1,\n",
    "    \"Perforación con bomba a motor\": 2,\n",
    "    \"Perforación con bomba manual\": 3,\n",
    "    \"Otra fuente\": 4\n",
    "}\n",
    "\n",
    "# Reemplazos para la variable IV9\n",
    "reemplazos_IV9 = {\n",
    "    \"Dentro de la vivienda\": 1,\n",
    "    \"Fuera de la vivienda pero dentro del terreno\": 2,\n",
    "    \"Fuera del terreno\": 3\n",
    "}\n",
    "\n",
    "# Reemplazos para la variable IV10\n",
    "reemplazos_IV10 = {\n",
    "    \"Inodoro con botón / mochila / cadena y arrastre de agua\": 1,\n",
    "    \"Inodoro sin botón / cadena y con arrastre de agua (a balde)\": 2,\n",
    "    \"Letrina (sin arrastre de agua)\": 3\n",
    "}\n",
    "\n",
    "reemplazos_IV11 = {\n",
    "    \"A red pública (cloaca)\": 1,\n",
    "    \"A cámara séptica y pozo ciego\": 2,\n",
    "    \"Sólo a pozo ciego\": 3,\n",
    "    \"A hoyo / excavación en la tierra\": 4\n",
    "}\n",
    "\n",
    "# Realizando los reemplazos\n",
    "df2004['IV3'] = df2004['IV3'].replace(reemplazos_IV3)\n",
    "df2004['IV4'] = df2004['IV4'].replace(reemplazos_IV4)\n",
    "df2004['IV6'] = df2004['IV6'].replace(reemplazos_IV6)\n",
    "df2004['IV7'] = df2004['IV7'].replace(reemplazos_IV7)\n",
    "df2004['IV9'] = df2004['IV9'].replace(reemplazos_IV9)\n",
    "df2004['IV10'] = df2004['IV10'].replace(reemplazos_IV10)\n",
    "df2004['IV11'] = df2004['IV11'].replace(reemplazos_IV11)"
   ]
  },
  {
   "cell_type": "code",
   "execution_count": 145,
   "id": "eba8b0fc-f820-49bc-9c06-2295e8b12dee",
   "metadata": {},
   "outputs": [],
   "source": [
    "# Reemplazos para la variable II8\n",
    "reemplazos_II8 = {\n",
    "    \"Gas de red\": 1,\n",
    "    \"Gas de tubo / garrafa\": 2,\n",
    "    \"Kerosene / leña/ carbón\": 3,\n",
    "    \"Otro\": 4\n",
    "}\n",
    "\n",
    "# Reemplazos para la variable II9\n",
    "reemplazos_II9 = {\n",
    "    \"Uso exclusivo del hogar\": 1,\n",
    "    \"Compartido con otro/s hogar/es de la misma vivienda\": 2,\n",
    "    \"Compartido con otra/s vivienda/s\": 3,\n",
    "    \"No tiene baño\": 4\n",
    "}\n",
    "\n",
    "# Reemplazos para la variable VII1_1\n",
    "reemplazos_VII1_1 = {\n",
    "    \"Servicio doméstico\": 96,\n",
    "    \"Otra persona que no vive en el hogar\": 97\n",
    "}\n",
    "\n",
    "# Reemplazos para la variable VII2_1\n",
    "reemplazos_VII2_1 = {\n",
    "    \"Servicio doméstico\": 96,\n",
    "    \"Otra persona que no vive en el hogar\": 97,\n",
    "    \"Ninguna\": 98\n",
    "}\n",
    "\n",
    "# Realizando los reemplazos\n",
    "df2004['II8'] = df2004['II8'].replace(reemplazos_II8)\n",
    "df2004['II9'] = df2004['II9'].replace(reemplazos_II9)\n",
    "df2004['VII1_1'] = df2004['VII1_1'].replace(reemplazos_VII1_1)\n",
    "df2004['VII2_1'] = df2004['VII2_1'].replace(reemplazos_VII2_1)"
   ]
  },
  {
   "cell_type": "code",
   "execution_count": 147,
   "id": "2302a48b-10f4-4f1b-8d0f-10a9b1399956",
   "metadata": {},
   "outputs": [],
   "source": [
    "df2004.to_excel(\"C:/Users/jose.lopez/OneDrive - Vicente Trapani Sa/Documents/GitHub/-Big-Data-UNT--Grupo-1-/TP04/usu_hogar_T104_TUC2.xlsx\", index=False)"
   ]
  },
  {
   "cell_type": "code",
   "execution_count": 148,
   "id": "08cf22ad-4551-41ce-bda2-c137fae7b6a2",
   "metadata": {},
   "outputs": [
    {
     "name": "stdout",
     "output_type": "stream",
     "text": [
      "   CODUSU  NRO_HOGAR  REALIZADA  ANO4       TRIMESTRE  REGION MAS_500  \\\n",
      "0  125463          1        1.0  2004  1er. Trimestre      40       S   \n",
      "1  125571          1        1.0  2004  1er. Trimestre      40       S   \n",
      "2  125591          1        1.0  2004  1er. Trimestre      40       S   \n",
      "3  126052          1        1.0  2004  1er. Trimestre      40       S   \n",
      "4  126339          1        1.0  2004  1er. Trimestre      40       S   \n",
      "\n",
      "   AGLOMERADO  PONDERA IV1  ... V18_M  V19_AM V21_M T_VI PONDIH  PJ1_1 PJ2_1  \\\n",
      "0          29      259   1  ...   NaN     NaN   NaN  NaN    NaN    NaN   NaN   \n",
      "1          29      296   1  ...   NaN     NaN   NaN  NaN    NaN    NaN   NaN   \n",
      "2          29      249   1  ...   NaN     NaN   NaN  NaN    NaN    NaN   NaN   \n",
      "3          29      231   1  ...   NaN     NaN   NaN  NaN    NaN    NaN   NaN   \n",
      "4          29      235   1  ...   NaN     NaN   NaN  NaN    NaN    NaN   NaN   \n",
      "\n",
      "  PJ3_1 IDIMPP  CH05  \n",
      "0   NaN    NaN   NaT  \n",
      "1   NaN    NaN   NaT  \n",
      "2   NaN    NaN   NaT  \n",
      "3   NaN    NaN   NaT  \n",
      "4   NaN    NaN   NaT  \n",
      "\n",
      "[5 rows x 246 columns]\n"
     ]
    }
   ],
   "source": [
    "df2024.to_excel(\"C:/Users/jose.lopez/OneDrive - Vicente Trapani Sa/Documents/GitHub/-Big-Data-UNT--Grupo-1-/TP04/usu_hogar_T124_TUC.xlsx\", index=False)\n",
    "# Unir los DataFrames verticalmente según las columnas en común\n",
    "df_Hog = pd.concat([df2004, df2024], axis=0)\n",
    "print(df_Hog.head())\n",
    "\n",
    "df_Hog.to_excel(\"C:/Users/jose.lopez/OneDrive - Vicente Trapani Sa/Documents/GitHub/-Big-Data-UNT--Grupo-1-/TP04/Hogar_Concat.xlsx\", index=False)"
   ]
  },
  {
   "cell_type": "code",
   "execution_count": 151,
   "id": "9c639f58-f6a1-4bc4-9846-d2c74ef5f20c",
   "metadata": {},
   "outputs": [
    {
     "name": "stdout",
     "output_type": "stream",
     "text": [
      "   CODUSU  ANO4  TRIMESTRE  NRO_HOGAR  COMPONENTE  H15  REGION MAS_500  \\\n",
      "0  125463  2004          1          1           1    1      40       S   \n",
      "1  125463  2004          1          1           2    1      40       S   \n",
      "2  125463  2004          1          1           3    0      40       S   \n",
      "3  125463  2004          1          1           4    0      40       S   \n",
      "4  125463  2004          1          1           5    1      40       S   \n",
      "\n",
      "   AGLOMERADO  PONDERA  ...  RDECCFR GDECCFR  PDECCFR  ADECCFR  PONDIH  PJ1_1  \\\n",
      "0          29      259  ...        4       2                 4     NaN      0   \n",
      "1          29      259  ...        4       2                 4     NaN      0   \n",
      "2          29      259  ...        4       2                 4     NaN      0   \n",
      "3          29      259  ...        4       2                 4     NaN      0   \n",
      "4          29      259  ...        4       2                 4     NaN      0   \n",
      "\n",
      "   PJ2_1  PJ3_1  IDIMPP  CH05  \n",
      "0      0      0     0.0   NaT  \n",
      "1      0      0     0.0   NaT  \n",
      "2      0      0     0.0   NaT  \n",
      "3      0      0     0.0   NaT  \n",
      "4      0      0     0.0   NaT  \n",
      "\n",
      "[5 rows x 180 columns]\n"
     ]
    }
   ],
   "source": [
    "df_IND = pd.read_excel(\"C:/Users/jose.lopez/OneDrive - Vicente Trapani Sa/Documents/GitHub/-Big-Data-UNT--Grupo-1-/TP04/usu_individual_T104_T124.xlsx\")\n",
    "print(df_IND.head())"
   ]
  },
  {
   "cell_type": "code",
   "execution_count": 160,
   "id": "20a95c10-0937-43fe-820f-c758a35bf062",
   "metadata": {},
   "outputs": [
    {
     "name": "stdout",
     "output_type": "stream",
     "text": [
      "                              CODUSU  ANO4_x  TRIMESTRE_x  NRO_HOGAR_x  \\\n",
      "0                             125463    2004            1            1   \n",
      "1                             125463    2004            1            1   \n",
      "2                             125463    2004            1            1   \n",
      "3                             125463    2004            1            1   \n",
      "4                             125463    2004            1            1   \n",
      "...                              ...     ...          ...          ...   \n",
      "24974  TQRMNORUYHMOLUCDEHPJB00801354    2024            1            1   \n",
      "24975  TQRMNORUYHMOLUCDEHPJB00801354    2024            1            1   \n",
      "24976  TQRMNORUYHMOLUCDEHPJB00801354    2024            1            1   \n",
      "24977  TQRMNORUYHMOLUCDEHPJB00801354    2024            1            1   \n",
      "24978  TQRMNOPWPHLMLPCDEHPJB00854501    2024            1            1   \n",
      "\n",
      "       COMPONENTE_x  H15_x  REGION_x MAS_500_x  AGLOMERADO_x  PONDERA_x  ...  \\\n",
      "0                 1      1        40         S            29        259  ...   \n",
      "1                 1      1        40         S            29        259  ...   \n",
      "2                 1      1        40         S            29        259  ...   \n",
      "3                 1      1        40         S            29        259  ...   \n",
      "4                 1      1        40         S            29        259  ...   \n",
      "...             ...    ...       ...       ...           ...        ...  ...   \n",
      "24974             5      0        40         S            29        488  ...   \n",
      "24975             5      0        40         S            29        488  ...   \n",
      "24976             5      0        40         S            29        488  ...   \n",
      "24977             5      0        40         S            29        488  ...   \n",
      "24978             1      1        40         S            29        438  ...   \n",
      "\n",
      "       V18_M_y V19_AM_y  V21_M_y    T_VI_y  PONDIH_y  PJ1_1_y  PJ2_1_y  \\\n",
      "0          NaN      NaN      NaN       NaN       NaN      NaN      NaN   \n",
      "1          0.0      0.0      0.0      80.0       NaN        0        0   \n",
      "2          0.0      0.0      0.0       0.0       NaN        0        0   \n",
      "3          0.0      0.0      0.0       0.0       NaN        0        0   \n",
      "4          0.0      0.0      0.0       0.0       NaN        0        0   \n",
      "...        ...      ...      ...       ...       ...      ...      ...   \n",
      "24974      0.0      0.0      0.0  130000.0     572.0      NaN      NaN   \n",
      "24975      0.0      0.0      0.0   16000.0     572.0      NaN      NaN   \n",
      "24976      0.0      0.0      0.0       0.0     572.0      NaN      NaN   \n",
      "24977      0.0      0.0      0.0       0.0     572.0      NaN      NaN   \n",
      "24978      0.0      0.0      0.0       0.0     498.0      NaN      NaN   \n",
      "\n",
      "       PJ3_1_y  IDIMPP_y     CH05_y  \n",
      "0          NaN       NaN        NaT  \n",
      "1            0       0.0        NaT  \n",
      "2            0       0.0        NaT  \n",
      "3            0       0.0        NaT  \n",
      "4            0       0.0        NaT  \n",
      "...        ...       ...        ...  \n",
      "24974      NaN       NaN 1989-01-31  \n",
      "24975      NaN       NaN 2005-09-08  \n",
      "24976      NaN       NaN 2009-04-04  \n",
      "24977      NaN       NaN 2016-09-20  \n",
      "24978      NaN       NaN 1973-07-31  \n",
      "\n",
      "[24979 rows x 425 columns]\n"
     ]
    }
   ],
   "source": [
    "# Hacer un merge utilizando 'CODUSU' y 'NRO_Hogar' como claves\n",
    "merged_TODO = pd.merge(df_IND, df_Hog, on=['CODUSU'])\n",
    "#merged_df = pd.merge(df2004, df2024, on=['CODUSU', 'NRO_HOGAR'])\n",
    "print(merged_TODO)"
   ]
  },
  {
   "cell_type": "code",
   "execution_count": 161,
   "id": "3698163a-3d08-4ad3-8520-de6d1cb78d93",
   "metadata": {},
   "outputs": [],
   "source": [
    "merged_TODO.to_excel(\"C:/Users/jose.lopez/OneDrive - Vicente Trapani Sa/Documents/GitHub/-Big-Data-UNT--Grupo-1-/TP04/merged.xlsx\", index=False)"
   ]
  },
  {
   "cell_type": "code",
   "execution_count": null,
   "id": "d95e42fb-4eec-4c76-9f68-94bd0c83a8b7",
   "metadata": {},
   "outputs": [],
   "source": [
    "##Variables propuestas\n",
    "II2 N(2) De esos, ¿cuántos usan habitualmente para dormir? con esa pregunta puedo estimar la cantidad de dormitorios, \n",
    "la variable sería Cantidad de Personas en el hogar/ cantidad de dormitorios. medimos asi un indicador de hacinamiento.\n",
    "Podemos usar el indice calmat (calidad de materiales de la vivienda)\n",
    "1. CALMAT I: la vivienda presenta materiales resistentes y sólidos en todos los componentes \n",
    "constitutivos (pisos, paredes y techos) e incorpora todos los elementos de aislación y terminación. \n",
    "2. CALMAT II: la vivienda presenta materiales resistentes y sólidos en todos los componentes \n",
    "constitutivos, pero le faltan elementos de aislación o terminación al menos en uno de estos. \n",
    "3. CALMAT III: la vivienda presenta materiales resistentes y sólidos en todos los componentes \n",
    "constitutivos, pero le faltan elementos de aislación o terminación en todos estos, o bien, presenta techos \n",
    "de chapa de metal o fibrocemento u otros sin cielorraso, o paredes de chapa de metal o de \n",
    "fibrocemento. \n",
    "4. CALMAT IV: la vivienda presenta materiales no resistentes al menos en uno de los componentes \n",
    "constitutivos, pero no en todos. \n",
    "5. CALMAT V: la vivienda presenta materiales no resistentes en todos los componentes constitutivos»"
   ]
  }
 ],
 "metadata": {
  "kernelspec": {
   "display_name": "Python 3 (ipykernel)",
   "language": "python",
   "name": "python3"
  },
  "language_info": {
   "codemirror_mode": {
    "name": "ipython",
    "version": 3
   },
   "file_extension": ".py",
   "mimetype": "text/x-python",
   "name": "python",
   "nbconvert_exporter": "python",
   "pygments_lexer": "ipython3",
   "version": "3.12.4"
  }
 },
 "nbformat": 4,
 "nbformat_minor": 5
}
