{
 "cells": [
  {
   "cell_type": "code",
   "execution_count": 1,
   "id": "da5a8ce0-7a5b-493f-8b99-8e6f063251e2",
   "metadata": {},
   "outputs": [],
   "source": [
    "import pandas as pd"
   ]
  },
  {
   "cell_type": "code",
   "execution_count": 2,
   "id": "92ce7b32-8f22-49a3-85c0-953f3f6ed8a5",
   "metadata": {},
   "outputs": [
    {
     "name": "stdout",
     "output_type": "stream",
     "text": [
      "                          CODUSU  nro_hogar  realizada  ano4  trimestre  \\\n",
      "0  TQRMNOUSQHMOKPCDEHPJB00806507       2024          1     1          1   \n",
      "1  TQRMNOQQSHJOLRCDEHPJB00795112       2024          1     1          1   \n",
      "2  TQRMNOPRSHLOLSCDEHPJB00854552       2024          1     1          1   \n",
      "3  TQRMNOQWSHMKLQCDEHPJB00801259       2024          1     1          1   \n",
      "4  TQRMNOPUSHKOLRCDEHPJB00856819       2024          1     1          1   \n",
      "\n",
      "   region mas_500  aglomerado  pondera  iv1  ...  gdeccfr  pdeccfr  adeccfr  \\\n",
      "0      40       S          29      397    1  ...        3      NaN        5   \n",
      "1      40       S          29      369    2  ...        1      NaN        1   \n",
      "2      40       S          29      359    1  ...        4      NaN        6   \n",
      "3      40       S          29      573    2  ...        7      NaN        8   \n",
      "4      40       S          29      414    1  ...        2      NaN        3   \n",
      "\n",
      "   vii1_1  vii1_2  vii2_1  vii2_2  vii2_3  vii2_4  idimph  \n",
      "0       1       0       2       3       0       0     439  \n",
      "1       1       0       3       0       0       0     465  \n",
      "2       1       0      98       0       0       0     437  \n",
      "3       2       0       1       0       0       0     637  \n",
      "4       2       0      98       0       0       0     480  \n",
      "\n",
      "[5 rows x 88 columns]\n"
     ]
    }
   ],
   "source": [
    "df = pd.read_excel(\"C:/Users/jose.lopez/OneDrive - Vicente Trapani Sa/Documents/GitHub/-Big-Data-UNT--Grupo-1-/TP04/usu_hogar_T124.xlsx\")\n",
    "##C:\\Users\\jose.lopez\\OneDrive - Vicente Trapani Sa\\Documents\\GitHub\\-Big-Data-UNT--Grupo-1-\\TP04\n",
    "##C:/Users/piliv/OneDrive/Documentos/GitHub/-Big-Data-UNT--Grupo-1-/TP04/usu_hogar_T124.xlsx\n",
    "print(df.head())"
   ]
  },
  {
   "cell_type": "code",
   "execution_count": 8,
   "id": "6f97404c-1c08-4348-9a6c-89a0e976e6e3",
   "metadata": {},
   "outputs": [
    {
     "name": "stdout",
     "output_type": "stream",
     "text": [
      "                          CODUSU  nro_hogar  realizada  ano4  trimestre  \\\n",
      "0  TQRMNOUSQHMOKPCDEHPJB00806507       2024          1     1          1   \n",
      "1  TQRMNOQQSHJOLRCDEHPJB00795112       2024          1     1          1   \n",
      "2  TQRMNOPRSHLOLSCDEHPJB00854552       2024          1     1          1   \n",
      "3  TQRMNOQWSHMKLQCDEHPJB00801259       2024          1     1          1   \n",
      "4  TQRMNOPUSHKOLRCDEHPJB00856819       2024          1     1          1   \n",
      "\n",
      "   region mas_500  aglomerado  pondera  iv1  ...  gdeccfr  pdeccfr  adeccfr  \\\n",
      "0      40       S          29      397    1  ...        3      NaN        5   \n",
      "1      40       S          29      369    2  ...        1      NaN        1   \n",
      "2      40       S          29      359    1  ...        4      NaN        6   \n",
      "3      40       S          29      573    2  ...        7      NaN        8   \n",
      "4      40       S          29      414    1  ...        2      NaN        3   \n",
      "\n",
      "   vii1_1  vii1_2  vii2_1  vii2_2  vii2_3  vii2_4  idimph  \n",
      "0       1       0       2       3       0       0     439  \n",
      "1       1       0       3       0       0       0     465  \n",
      "2       1       0      98       0       0       0     437  \n",
      "3       2       0       1       0       0       0     637  \n",
      "4       2       0      98       0       0       0     480  \n",
      "\n",
      "[5 rows x 88 columns]\n"
     ]
    }
   ],
   "source": [
    "df24 = df[df['aglomerado'] == 29]\n",
    "print(df24.head())"
   ]
  },
  {
   "cell_type": "code",
   "execution_count": 10,
   "id": "c65cc152-c9dd-4eb5-9b04-b5e0d77b3ce5",
   "metadata": {},
   "outputs": [
    {
     "name": "stdout",
     "output_type": "stream",
     "text": [
      "     CODUSU  nro_hogar realizada    ano4       trimestre    region mas_500  \\\n",
      "0  125051          1.0        Sí  2004.0  1er. Trimestre  Pampeana       S   \n",
      "1  125082          1.0        Sí  2004.0  1er. Trimestre  Pampeana       S   \n",
      "2  125181          1.0        Sí  2004.0  1er. Trimestre  Pampeana       S   \n",
      "3  125283          1.0        Sí  2004.0  1er. Trimestre  Pampeana       S   \n",
      "4  126192          1.0        Sí  2004.0  1er. Trimestre  Pampeana       S   \n",
      "\n",
      "      aglomerado  pondera   iv1  ... gdeccfr pdeccfr adeccfr vii1_1 vii1_2  \\\n",
      "0  Gran La Plata    355.0  Casa  ...      01              01    1.0    0.0   \n",
      "1  Gran La Plata    306.0  Casa  ...      03              02    2.0    0.0   \n",
      "2  Gran La Plata    541.0  Casa  ...      09              09    2.0    0.0   \n",
      "3  Gran La Plata    255.0  Casa  ...      07              07    1.0    2.0   \n",
      "4  Gran La Plata    218.0  Casa  ...      08              08    2.0    0.0   \n",
      "\n",
      "                                 vii2_1 vii2_2 vii2_3 vii2_4 idimph  \n",
      "0                                   3.0    0.0    0.0    0.0  00000  \n",
      "1                                  98.0    0.0    0.0    0.0  10000  \n",
      "2                                   1.0    3.0    0.0    0.0  00000  \n",
      "3                                   3.0    4.0    0.0    0.0  10000  \n",
      "4  Otra persona que no vive en el hogar    0.0    0.0    0.0  10000  \n",
      "\n",
      "[5 rows x 88 columns]\n"
     ]
    }
   ],
   "source": [
    "df1 = pd.read_stata(\"C:/Users/jose.lopez/OneDrive - Vicente Trapani Sa/Documents/GitHub/-Big-Data-UNT--Grupo-1-/TP04/Hogar_t104.dta\")\n",
    "##C:\\Users\\jose.lopez\\OneDrive - Vicente Trapani Sa\\Documents\\GitHub\\-Big-Data-UNT--Grupo-1-\\TP04\n",
    "##C:/Users/piliv/OneDrive/Documentos/GitHub/-Big-Data-UNT--Grupo-1-/TP04/Hogar_t104.dta\n",
    "print(df1.head())"
   ]
  },
  {
   "cell_type": "code",
   "execution_count": 12,
   "id": "2edae0b3-3e22-481f-b7d5-180f90dcd41a",
   "metadata": {},
   "outputs": [
    {
     "name": "stdout",
     "output_type": "stream",
     "text": [
      "aglomerado\n",
      "Partidos del GBA                   1663\n",
      "Gran Córdoba                        782\n",
      "Gran Rosario                        746\n",
      "Ciudad de Buenos Aires              688\n",
      "Gran Mendoza                        670\n",
      "Gran Tucumán - Tafí Viejo           661\n",
      "Mar del Plata - Batán               576\n",
      "Gran La Plata                       559\n",
      "Salta                               456\n",
      "Gran Santa Fe                       430\n",
      "Gran Resistencia                    407\n",
      "Bahía Blanca - Cerri                402\n",
      "Gran San Juan                       385\n",
      "Posadas                             372\n",
      "Santiago del Estero - La Banda      365\n",
      "Gran Paraná                         350\n",
      "Corrientes                          342\n",
      "Jujuy - Palpalá                     334\n",
      "Concordia                           266\n",
      "La Rioja                            251\n",
      "Río Gallegos                        249\n",
      "San Luis - El Chorrillo             248\n",
      "Gran Catamarca                      243\n",
      "Formosa                             243\n",
      "Comodoro Rivadavia - Rada Tilly     231\n",
      "Santa Rosa - Toay                   230\n",
      "Neuquén - Plottier                  226\n",
      "Río Cuarto                          223\n",
      "Ushuaia - Río Grande                218\n",
      "Name: count, dtype: int64\n"
     ]
    }
   ],
   "source": [
    "frecuencia = df1['aglomerado'].value_counts()\n",
    "print(frecuencia)"
   ]
  },
  {
   "cell_type": "code",
   "execution_count": 14,
   "id": "4ac7380b-bfa6-464b-a131-f2d03d2fa2ed",
   "metadata": {},
   "outputs": [],
   "source": [
    "df04 = df1[df1['aglomerado'] == 'Gran Tucumán - Tafí Viejo']"
   ]
  },
  {
   "cell_type": "code",
   "execution_count": 16,
   "id": "6d6c0bb9-b654-438e-af47-da426c82282f",
   "metadata": {},
   "outputs": [],
   "source": [
    "import pandas as pd\n",
    "pd.set_option('future.no_silent_downcasting', True)"
   ]
  },
  {
   "cell_type": "code",
   "execution_count": 18,
   "id": "31049fe2-6a39-4247-b01a-8ae662659e8b",
   "metadata": {},
   "outputs": [
    {
     "name": "stdout",
     "output_type": "stream",
     "text": [
      "        CODUSU  nro_hogar realizada    ano4       trimestre region mas_500  \\\n",
      "8557  125463          1.0        Sí  2004.0  1er. Trimestre    NOA       S   \n",
      "8558  125571          1.0        Sí  2004.0  1er. Trimestre    NOA       S   \n",
      "8559  125591          1.0        Sí  2004.0  1er. Trimestre    NOA       S   \n",
      "8560  126052          1.0        Sí  2004.0  1er. Trimestre    NOA       S   \n",
      "8561  126339          1.0        Sí  2004.0  1er. Trimestre    NOA       S   \n",
      "\n",
      "     aglomerado  pondera   iv1  ... gdeccfr pdeccfr adeccfr vii1_1 vii1_2  \\\n",
      "8557         29    259.0  Casa  ...      02              04    2.0    0.0   \n",
      "8558         29    296.0  Casa  ...      01              01    4.0    0.0   \n",
      "8559         29    249.0  Casa  ...      03              05    2.0    0.0   \n",
      "8560         29    231.0  Casa  ...      07              09    2.0    0.0   \n",
      "8561         29    235.0  Casa  ...      08              09    1.0    0.0   \n",
      "\n",
      "     vii2_1 vii2_2 vii2_3 vii2_4 idimph  \n",
      "8557    5.0    0.0    0.0    0.0  00000  \n",
      "8558    2.0    0.0    0.0    0.0  00000  \n",
      "8559   98.0    0.0    0.0    0.0  00000  \n",
      "8560   98.0    0.0    0.0    0.0  00000  \n",
      "8561   98.0    0.0    0.0    0.0  00000  \n",
      "\n",
      "[5 rows x 88 columns]\n"
     ]
    },
    {
     "name": "stderr",
     "output_type": "stream",
     "text": [
      "C:\\Users\\jose.lopez\\AppData\\Local\\Temp\\ipykernel_22252\\3943278331.py:1: FutureWarning: Setting an item of incompatible dtype is deprecated and will raise in a future error of pandas. Value '[29, 29, 29, 29, 29, ..., 29, 29, 29, 29, 29]\n",
      "Length: 661\n",
      "Categories (29, object): ['Gran La Plata' < 'Bahía Blanca - Cerri' < 'Gran Rosario' < 'Gran Santa Fe' ... 'Ciudad de Buenos Aires' < 'Partidos del GBA' < 'Mar del Plata - Batán' < 'Río Cuarto']' has dtype incompatible with category, please explicitly cast to a compatible dtype first.\n",
      "  df04.loc[:, 'aglomerado'] = df04['aglomerado'].cat.rename_categories({    \"Gran Tucumán - Tafí Viejo\": 29})\n"
     ]
    }
   ],
   "source": [
    "df04.loc[:, 'aglomerado'] = df04['aglomerado'].cat.rename_categories({    \"Gran Tucumán - Tafí Viejo\": 29})\n",
    "##df04['aglomerado'] = df04['aglomerado'].replace(\"Gran Tucumán - Tafí Viejo\", 29)\n",
    "print(df04.head())\n",
    "\n"
   ]
  },
  {
   "cell_type": "code",
   "execution_count": 20,
   "id": "2e748884-01cc-48c7-935c-1af7438ad5c6",
   "metadata": {},
   "outputs": [
    {
     "name": "stdout",
     "output_type": "stream",
     "text": [
      "        CODUSU  nro_hogar realizada    ano4       trimestre region mas_500  \\\n",
      "8557  125463          1.0         1  2004.0  1er. Trimestre     40       S   \n",
      "8558  125571          1.0         1  2004.0  1er. Trimestre     40       S   \n",
      "8559  125591          1.0         1  2004.0  1er. Trimestre     40       S   \n",
      "8560  126052          1.0         1  2004.0  1er. Trimestre     40       S   \n",
      "8561  126339          1.0         1  2004.0  1er. Trimestre     40       S   \n",
      "\n",
      "     aglomerado  pondera   iv1  ... gdeccfr pdeccfr adeccfr vii1_1 vii1_2  \\\n",
      "8557         29    259.0  Casa  ...      02              04    2.0    0.0   \n",
      "8558         29    296.0  Casa  ...      01              01    4.0    0.0   \n",
      "8559         29    249.0  Casa  ...      03              05    2.0    0.0   \n",
      "8560         29    231.0  Casa  ...      07              09    2.0    0.0   \n",
      "8561         29    235.0  Casa  ...      08              09    1.0    0.0   \n",
      "\n",
      "     vii2_1 vii2_2 vii2_3 vii2_4 idimph  \n",
      "8557    5.0    0.0    0.0    0.0  00000  \n",
      "8558    2.0    0.0    0.0    0.0  00000  \n",
      "8559   98.0    0.0    0.0    0.0  00000  \n",
      "8560   98.0    0.0    0.0    0.0  00000  \n",
      "8561   98.0    0.0    0.0    0.0  00000  \n",
      "\n",
      "[5 rows x 88 columns]\n"
     ]
    },
    {
     "name": "stderr",
     "output_type": "stream",
     "text": [
      "C:\\Users\\jose.lopez\\AppData\\Local\\Temp\\ipykernel_22252\\316884247.py:1: FutureWarning: The behavior of Series.replace (and DataFrame.replace) with CategoricalDtype is deprecated. In a future version, replace will only be used for cases that preserve the categories. To change the categories, use ser.cat.rename_categories instead.\n",
      "  df04.loc[:, 'region'] = df04['region'].replace(\"NOA\", 40)\n",
      "C:\\Users\\jose.lopez\\AppData\\Local\\Temp\\ipykernel_22252\\316884247.py:1: FutureWarning: Setting an item of incompatible dtype is deprecated and will raise in a future error of pandas. Value '[40, 40, 40, 40, 40, ..., 40, 40, 40, 40, 40]\n",
      "Length: 661\n",
      "Categories (6, object): ['Gran Buenos Aires' < 40 < 'NEA' < 'Cuyo' < 'Pampeana' < 'Patagónica']' has dtype incompatible with category, please explicitly cast to a compatible dtype first.\n",
      "  df04.loc[:, 'region'] = df04['region'].replace(\"NOA\", 40)\n",
      "C:\\Users\\jose.lopez\\AppData\\Local\\Temp\\ipykernel_22252\\316884247.py:4: FutureWarning: The behavior of Series.replace (and DataFrame.replace) with CategoricalDtype is deprecated. In a future version, replace will only be used for cases that preserve the categories. To change the categories, use ser.cat.rename_categories instead.\n",
      "  df04.replace({\"Sí\": 1, \"No\": 2}, inplace=True)\n",
      "C:\\Users\\jose.lopez\\AppData\\Local\\Temp\\ipykernel_22252\\316884247.py:4: SettingWithCopyWarning: \n",
      "A value is trying to be set on a copy of a slice from a DataFrame\n",
      "\n",
      "See the caveats in the documentation: https://pandas.pydata.org/pandas-docs/stable/user_guide/indexing.html#returning-a-view-versus-a-copy\n",
      "  df04.replace({\"Sí\": 1, \"No\": 2}, inplace=True)\n"
     ]
    }
   ],
   "source": [
    "df04.loc[:, 'region'] = df04['region'].replace(\"NOA\", 40)\n",
    "\n",
    "#df04['region'] = df04['region'].replace(\"NOA\", 40)\n",
    "df04.replace({\"Sí\": 1, \"No\": 2}, inplace=True)\n",
    "#df04.replace({\"Sí\": 1, \"No\": 2}, inplace=True)\n",
    "print(df04.head())\n"
   ]
  },
  {
   "cell_type": "code",
   "execution_count": 22,
   "id": "7355f827-82ba-4fe8-ac7b-bbd2df2198df",
   "metadata": {},
   "outputs": [
    {
     "name": "stdout",
     "output_type": "stream",
     "text": [
      "        CODUSU  nro_hogar realizada    ano4       trimestre region mas_500  \\\n",
      "8557  125463          1.0         1  2004.0  1er. Trimestre     40       S   \n",
      "8558  125571          1.0         1  2004.0  1er. Trimestre     40       S   \n",
      "8559  125591          1.0         1  2004.0  1er. Trimestre     40       S   \n",
      "8560  126052          1.0         1  2004.0  1er. Trimestre     40       S   \n",
      "8561  126339          1.0         1  2004.0  1er. Trimestre     40       S   \n",
      "\n",
      "     aglomerado  pondera iv1  ... gdeccfr pdeccfr adeccfr vii1_1 vii1_2  \\\n",
      "8557         29    259.0   1  ...      02              04    2.0    0.0   \n",
      "8558         29    296.0   1  ...      01              01    4.0    0.0   \n",
      "8559         29    249.0   1  ...      03              05    2.0    0.0   \n",
      "8560         29    231.0   1  ...      07              09    2.0    0.0   \n",
      "8561         29    235.0   1  ...      08              09    1.0    0.0   \n",
      "\n",
      "     vii2_1 vii2_2 vii2_3 vii2_4 idimph  \n",
      "8557    5.0    0.0    0.0    0.0  00000  \n",
      "8558    2.0    0.0    0.0    0.0  00000  \n",
      "8559   98.0    0.0    0.0    0.0  00000  \n",
      "8560   98.0    0.0    0.0    0.0  00000  \n",
      "8561   98.0    0.0    0.0    0.0  00000  \n",
      "\n",
      "[5 rows x 88 columns]\n"
     ]
    },
    {
     "name": "stderr",
     "output_type": "stream",
     "text": [
      "C:\\Users\\jose.lopez\\AppData\\Local\\Temp\\ipykernel_22252\\3455325661.py:10: SettingWithCopyWarning: \n",
      "A value is trying to be set on a copy of a slice from a DataFrame.\n",
      "Try using .loc[row_indexer,col_indexer] = value instead\n",
      "\n",
      "See the caveats in the documentation: https://pandas.pydata.org/pandas-docs/stable/user_guide/indexing.html#returning-a-view-versus-a-copy\n",
      "  df04['iv1'] = df04['iv1'].cat.rename_categories(reemplazos1)\n"
     ]
    }
   ],
   "source": [
    "reemplazos1 = {\n",
    "    \"Casa\": 1,\n",
    "    \"Departamento\": 2,\n",
    "    \"Pieza de inquilinato\": 3,\n",
    "    \"Pieza en hotel / pensión\": 4,\n",
    "    \"Local no construido para habitación\": 5,\n",
    "    \"Otros\": 6\n",
    "}\n",
    "\n",
    "df04['iv1'] = df04['iv1'].cat.rename_categories(reemplazos1)\n",
    "print(df04.head())"
   ]
  },
  {
   "cell_type": "code",
   "execution_count": 24,
   "id": "880fbd19-0d9d-4bc4-bce3-406350a1123c",
   "metadata": {},
   "outputs": [],
   "source": [
    "df04.to_excel(\"C:/Users/jose.lopez/OneDrive - Vicente Trapani Sa/Documents/GitHub/-Big-Data-UNT--Grupo-1-/TP04/usu_hogar_T104.xlsx\", index=False)\n",
    "##C:/Users/jose.lopez/OneDrive - Vicente Trapani Sa/Documents/GitHub/-Big-Data-UNT--Grupo-1-/TP04/usu_hogar_T104.xlsx\n",
    "##\"C:/Users/piliv/OneDrive/Documentos/GitHub/-Big-Data-UNT--Grupo-1-/TP04/usu_hogar_T104.xlsx"
   ]
  },
  {
   "cell_type": "code",
   "execution_count": 28,
   "id": "c16c1b20-d788-4bdc-ace5-1925246696d2",
   "metadata": {},
   "outputs": [],
   "source": [
    "df2004 = pd.read_excel(\"C:/Users/jose.lopez/OneDrive - Vicente Trapani Sa/Documents/GitHub/-Big-Data-UNT--Grupo-1-/TP04/usu_hogar_T104.xlsx\")\n",
    "#(\"C:/Users/piliv/OneDrive/Documentos/GitHub/-Big-Data-UNT--Grupo-1-/TP04/usu_hogar_T104.xlsx\")"
   ]
  },
  {
   "cell_type": "code",
   "execution_count": 32,
   "id": "27192e97-421d-4568-94ae-c5ccf25522d3",
   "metadata": {},
   "outputs": [],
   "source": [
    "# Reemplazos para la variable IV3\n",
    "reemplazos_IV3 = {\n",
    "    \"Mosaico / baldosa / madera / cerámica / alfombra\": 1,\n",
    "    \"Cemento / ladrillo fijo\": 2,\n",
    "    \"Ladrillo suelto / tierra\": 3,\n",
    "    \"Otro\": 4\n",
    "}\n",
    "\n",
    "# Reemplazos para la variable IV4\n",
    "reemplazos_IV4 = {\n",
    "    \"Membrana / cubierta asfáltica\": 1,\n",
    "    \"Baldosa / losa sin cubierta\": 2,\n",
    "    \"Pizarra / teja\": 3,\n",
    "    \"Chapa de metal sin cubierta\": 4,\n",
    "    \"Chapa de fibrocemento / plástico\": 5,\n",
    "    \"Chapa de cartón\": 6,\n",
    "    \"Caña / tabla / paja con barro / paja sola\": 7,\n",
    "    \"N/S. Depto en propiedad horizontal\": 9\n",
    "}\n",
    "\n",
    "# Reemplazos para la variable IV6\n",
    "reemplazos_IV6 = {\n",
    "    \"Por cañería dentro de la vivienda\": 1,\n",
    "    \"Fuera de la vivienda pero dentro del terreno\": 2,\n",
    "    \"Fuera del terreno\": 3\n",
    "}\n",
    "\n",
    "# Reemplazos para la variable IV7\n",
    "reemplazos_IV7 = {\n",
    "    \"Red pública (agua corriente)\": 1,\n",
    "    \"Perforación con bomba a motor\": 2,\n",
    "    \"Perforación con bomba manual\": 3,\n",
    "    \"Otra fuente\": 4\n",
    "}\n",
    "\n",
    "# Reemplazos para la variable IV9\n",
    "reemplazos_IV9 = {\n",
    "    \"Dentro de la vivienda\": 1,\n",
    "    \"Fuera de la vivienda pero dentro del terreno\": 2,\n",
    "    \"Fuera del terreno\": 3\n",
    "}\n",
    "\n",
    "# Reemplazos para la variable IV10\n",
    "reemplazos_IV10 = {\n",
    "    \"Inodoro con botón / mochila / cadena y arrastre de agua\": 1,\n",
    "    \"Inodoro sin botón / cadena y con arrastre de agua (a balde)\": 2,\n",
    "    \"Letrina (sin arrastre de agua)\": 3\n",
    "}\n",
    "\n",
    "reemplazos_IV11 = {\n",
    "    \"A red pública (cloaca)\": 1,\n",
    "    \"A cámara séptica y pozo ciego\": 2,\n",
    "    \"Sólo a pozo ciego\": 3,\n",
    "    \"A hoyo / excavación en la tierra\": 4\n",
    "}\n",
    "\n",
    "# Realizando los reemplazos\n",
    "df2004['iv3'] = df2004['iv3'].replace(reemplazos_IV3)\n",
    "df2004['iv4'] = df2004['iv4'].replace(reemplazos_IV4)\n",
    "df2004['iv6'] = df2004['iv6'].replace(reemplazos_IV6)\n",
    "df2004['iv7'] = df2004['iv7'].replace(reemplazos_IV7)\n",
    "df2004['iv9'] = df2004['iv9'].replace(reemplazos_IV9)\n",
    "df2004['iv10'] = df2004['iv10'].replace(reemplazos_IV10)\n",
    "df2004['iv11'] = df2004['iv11'].replace(reemplazos_IV11)"
   ]
  },
  {
   "cell_type": "code",
   "execution_count": 36,
   "id": "eba8b0fc-f820-49bc-9c06-2295e8b12dee",
   "metadata": {},
   "outputs": [],
   "source": [
    "# Reemplazos para la variable II8\n",
    "reemplazos_II8 = {\n",
    "    \"Gas de red\": 1,\n",
    "    \"Gas de tubo / garrafa\": 2,\n",
    "    \"Kerosene / leña/ carbón\": 3,\n",
    "    \"Otro\": 4\n",
    "}\n",
    "\n",
    "# Reemplazos para la variable II9\n",
    "reemplazos_II9 = {\n",
    "    \"Uso exclusivo del hogar\": 1,\n",
    "    \"Compartido con otro/s hogar/es de la misma vivienda\": 2,\n",
    "    \"Compartido con otra/s vivienda/s\": 3,\n",
    "    \"No tiene baño\": 4\n",
    "}\n",
    "\n",
    "# Reemplazos para la variable VII1_1\n",
    "reemplazos_VII1_1 = {\n",
    "    \"Servicio doméstico\": 96,\n",
    "    \"Otra persona que no vive en el hogar\": 97\n",
    "}\n",
    "\n",
    "# Reemplazos para la variable VII2_1\n",
    "reemplazos_VII2_1 = {\n",
    "    \"Servicio doméstico\": 96,\n",
    "    \"Otra persona que no vive en el hogar\": 97,\n",
    "    \"Ninguna\": 98\n",
    "}\n",
    "\n",
    "# Realizando los reemplazos\n",
    "df2004['ii8'] = df2004['ii8'].replace(reemplazos_II8)\n",
    "df2004['ii9'] = df2004['ii9'].replace(reemplazos_II9)\n",
    "df2004['vii1_1'] = df2004['vii1_1'].replace(reemplazos_VII1_1)\n",
    "df2004['vii2_1'] = df2004['vii2_1'].replace(reemplazos_VII2_1)"
   ]
  },
  {
   "cell_type": "code",
   "execution_count": 38,
   "id": "2302a48b-10f4-4f1b-8d0f-10a9b1399956",
   "metadata": {},
   "outputs": [],
   "source": [
    "df2004.to_excel(\"C:/Users/jose.lopez/OneDrive - Vicente Trapani Sa/Documents/GitHub/-Big-Data-UNT--Grupo-1-/TP04/usu_hogar_T104.xlsx\", index=False)\n",
    "#\"C:/Users/piliv/OneDrive/Documentos/GitHub/-Big-Data-UNT--Grupo-1-/TP04/usu_hogar_T104.xlsx\""
   ]
  },
  {
   "cell_type": "code",
   "execution_count": 46,
   "id": "9c639f58-f6a1-4bc4-9846-d2c74ef5f20c",
   "metadata": {},
   "outputs": [
    {
     "name": "stdout",
     "output_type": "stream",
     "text": [
      "                          CODUSU  nro_hogar  realizada  ano4 trimestre  \\\n",
      "0  TQRMNOUSQHMOKPCDEHPJB00806507       2024          1     1         1   \n",
      "1  TQRMNOQQSHJOLRCDEHPJB00795112       2024          1     1         1   \n",
      "2  TQRMNOPRSHLOLSCDEHPJB00854552       2024          1     1         1   \n",
      "3  TQRMNOQWSHMKLQCDEHPJB00801259       2024          1     1         1   \n",
      "4  TQRMNOPUSHKOLRCDEHPJB00856819       2024          1     1         1   \n",
      "\n",
      "   region mas_500  aglomerado  pondera iv1  ... gdeccfr  pdeccfr adeccfr  \\\n",
      "0      40       S          29      397   1  ...       3      NaN       5   \n",
      "1      40       S          29      369   2  ...       1      NaN       1   \n",
      "2      40       S          29      359   1  ...       4      NaN       6   \n",
      "3      40       S          29      573   2  ...       7      NaN       8   \n",
      "4      40       S          29      414   1  ...       2      NaN       3   \n",
      "\n",
      "  vii1_1 vii1_2  vii2_1 vii2_2 vii2_3 vii2_4  idimph  \n",
      "0      1      0       2      3      0      0     439  \n",
      "1      1      0       3      0      0      0     465  \n",
      "2      1      0      98      0      0      0     437  \n",
      "3      2      0       1      0      0      0     637  \n",
      "4      2      0      98      0      0      0     480  \n",
      "\n",
      "[5 rows x 88 columns]\n"
     ]
    }
   ],
   "source": [
    "# Concatenando los DataFrames verticalmente\n",
    "df_concatenado = pd.concat([df24, df2004], axis=0)\n",
    "df_hogar = df_concatenado\n",
    "print(df_hogar.head())"
   ]
  },
  {
   "cell_type": "code",
   "execution_count": 52,
   "id": "5a5bd529-1809-4ebc-a8c7-fb50a1f4d0d7",
   "metadata": {},
   "outputs": [],
   "source": [
    "df_individual=pd.read_excel(\"C:/Users/jose.lopez/OneDrive - Vicente Trapani Sa/Documents/GitHub/-Big-Data-UNT--Grupo-1-/TP04/usu_individual_T104_T124.xlsx\")\n"
   ]
  },
  {
   "cell_type": "code",
   "execution_count": 58,
   "id": "88a0419c-8ac5-4e9f-b8d4-9ff7a6f1add5",
   "metadata": {},
   "outputs": [
    {
     "name": "stdout",
     "output_type": "stream",
     "text": [
      "   CODUSU  ANO4  TRIMESTRE  nro_hogar  COMPONENTE  H15  REGION MAS_500  \\\n",
      "0  125463  2004          1          1           1    1      40       S   \n",
      "1  125463  2004          1          1           2    1      40       S   \n",
      "2  125463  2004          1          1           3    0      40       S   \n",
      "3  125463  2004          1          1           4    0      40       S   \n",
      "4  125463  2004          1          1           5    1      40       S   \n",
      "\n",
      "   AGLOMERADO  PONDERA  ...  gdeccfr pdeccfr  adeccfr  vii1_1  vii1_2  vii2_1  \\\n",
      "0          29      259  ...        2                4       2       0       5   \n",
      "1          29      259  ...        2                4       2       0       5   \n",
      "2          29      259  ...        2                4       2       0       5   \n",
      "3          29      259  ...        2                4       2       0       5   \n",
      "4          29      259  ...        2                4       2       0       5   \n",
      "\n",
      "   vii2_2  vii2_3  vii2_4  idimph  \n",
      "0       0       0       0       0  \n",
      "1       0       0       0       0  \n",
      "2       0       0       0       0  \n",
      "3       0       0       0       0  \n",
      "4       0       0       0       0  \n",
      "\n",
      "[5 rows x 266 columns]\n"
     ]
    }
   ],
   "source": [
    "# Realizando el merge\n",
    "df_combinado = pd.merge(df_individual, df_hogar, on=['CODUSU', 'nro_hogar'])\n",
    "print(df_combinado.head())"
   ]
  },
  {
   "cell_type": "code",
   "execution_count": 60,
   "id": "562f6cd2-b30f-4b10-b66f-c56108805ce1",
   "metadata": {},
   "outputs": [],
   "source": [
    "df_combinado.to_excel(\"C:/Users/jose.lopez/OneDrive - Vicente Trapani Sa/Documents/GitHub/-Big-Data-UNT--Grupo-1-/TP04/usu_ind_hog_T104_T124.xlsx\", index=False)\n"
   ]
  },
  {
   "cell_type": "code",
   "execution_count": 62,
   "id": "7a535157-feb0-435d-834a-87bbcd385181",
   "metadata": {},
   "outputs": [
    {
     "name": "stdout",
     "output_type": "stream",
     "text": [
      "   CODUSU  ANO4  TRIMESTRE  nro_hogar  COMPONENTE  H15  REGION MAS_500  \\\n",
      "0  125463  2004          1          1           1    1      40       S   \n",
      "1  125463  2004          1          1           2    1      40       S   \n",
      "2  125463  2004          1          1           3    0      40       S   \n",
      "3  125463  2004          1          1           4    0      40       S   \n",
      "4  125463  2004          1          1           5    1      40       S   \n",
      "\n",
      "   AGLOMERADO  PONDERA  ...  gdeccfr pdeccfr  adeccfr  vii1_1  vii1_2  vii2_1  \\\n",
      "0          29      259  ...        2                4       2       0       5   \n",
      "1          29      259  ...        2                4       2       0       5   \n",
      "2          29      259  ...        2                4       2       0       5   \n",
      "3          29      259  ...        2                4       2       0       5   \n",
      "4          29      259  ...        2                4       2       0       5   \n",
      "\n",
      "   vii2_2  vii2_3  vii2_4  idimph  \n",
      "0       0       0       0       0  \n",
      "1       0       0       0       0  \n",
      "2       0       0       0       0  \n",
      "3       0       0       0       0  \n",
      "4       0       0       0       0  \n",
      "\n",
      "[5 rows x 266 columns]\n"
     ]
    }
   ],
   "source": [
    "#El Dataframe merge queda\n",
    "df_merge = pd.read_excel(\"C:/Users/jose.lopez/OneDrive - Vicente Trapani Sa/Documents/GitHub/-Big-Data-UNT--Grupo-1-/TP04/usu_ind_hog_T104_T124.xlsx\")\n",
    "print(df_merge.head())"
   ]
  },
  {
   "cell_type": "code",
   "execution_count": null,
   "id": "eab137e8-30b4-4333-afdc-1b8b3e31632d",
   "metadata": {},
   "outputs": [],
   "source": [
    "##Variables propuestas\n",
    "II2 N(2) De esos, ¿cuántos usan habitualmente para dormir? con esa pregunta puedo estimar la cantidad de dormitorios, \n",
    "la variable sería Cantidad de Personas en el hogar/ cantidad de dormitorios. medimos asi un indicador de hacinamiento.\n",
    "Podemos usar el indice calmat (calidad de materiales de la vivienda)\n",
    "1. CALMAT I: la vivienda presenta materiales resistentes y sólidos en todos los componentes \n",
    "constitutivos (pisos, paredes y techos) e incorpora todos los elementos de aislación y terminación. \n",
    "2. CALMAT II: la vivienda presenta materiales resistentes y sólidos en todos los componentes \n",
    "constitutivos, pero le faltan elementos de aislación o terminación al menos en uno de estos. \n",
    "3. CALMAT III: la vivienda presenta materiales resistentes y sólidos en todos los componentes \n",
    "constitutivos, pero le faltan elementos de aislación o terminación en todos estos, o bien, presenta techos \n",
    "de chapa de metal o fibrocemento u otros sin cielorraso, o paredes de chapa de metal o de \n",
    "fibrocemento. \n",
    "4. CALMAT IV: la vivienda presenta materiales no resistentes al menos en uno de los componentes \n",
    "constitutivos, pero no en todos. \n",
    "5. CALMAT V: la vivienda presenta materiales no resistentes en todos los componentes constitutivos»"
   ]
  }
 ],
 "metadata": {
  "kernelspec": {
   "display_name": "Python 3 (ipykernel)",
   "language": "python",
   "name": "python3"
  },
  "language_info": {
   "codemirror_mode": {
    "name": "ipython",
    "version": 3
   },
   "file_extension": ".py",
   "mimetype": "text/x-python",
   "name": "python",
   "nbconvert_exporter": "python",
   "pygments_lexer": "ipython3",
   "version": "3.12.4"
  }
 },
 "nbformat": 4,
 "nbformat_minor": 5
}
