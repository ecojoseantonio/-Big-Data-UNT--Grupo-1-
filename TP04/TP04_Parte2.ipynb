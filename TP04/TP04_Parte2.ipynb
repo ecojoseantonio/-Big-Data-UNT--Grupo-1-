{
 "cells": [
  {
   "cell_type": "code",
   "execution_count": 52,
   "id": "a6a89e56-32de-4406-808c-fee87d5b2422",
   "metadata": {},
   "outputs": [
    {
     "name": "stdout",
     "output_type": "stream",
     "text": [
      "                             CODUSU  NRO_HOGAR  COMPONENTE  H15  CH03   CH04  \\\n",
      "0                            125463          1           1    1     1  Varón   \n",
      "1                            125463          1           2    1     2  Mujer   \n",
      "2                            125463          1           3    0     3  Mujer   \n",
      "3                            125463          1           4    0     3  Varón   \n",
      "4                            125463          1           5    1     7  Mujer   \n",
      "...                             ...        ...         ...  ...   ...    ...   \n",
      "4640  TQRMNORUYHMOLUCDEHPJB00801354          1           2    1     2  Mujer   \n",
      "4641  TQRMNORUYHMOLUCDEHPJB00801354          1           3    1     3  Varón   \n",
      "4642  TQRMNORUYHMOLUCDEHPJB00801354          1           4    1     3  Mujer   \n",
      "4643  TQRMNORUYHMOLUCDEHPJB00801354          1           5    0     3  Varón   \n",
      "4644  TQRMNOPWPHLMLPCDEHPJB00854501          1           1    1     1  Varón   \n",
      "\n",
      "      CH06  CH07  CH08  CH09  ...  GDECCFR  PDECCFR  ADECCFR  VII1_1 VII1_2  \\\n",
      "0       30     2     1     1  ...        2                 4       2      0   \n",
      "1       25     2     1     1  ...        2                 4       2      0   \n",
      "2        5     5     1     2  ...        2                 4       2      0   \n",
      "3        1     5     1     3  ...        2                 4       2      0   \n",
      "4       64     4     4     1  ...        2                 4       2      0   \n",
      "...    ...   ...   ...   ...  ...      ...      ...      ...     ...    ...   \n",
      "4640    35     1     1     1  ...        2      NaN        3       2      4   \n",
      "4641    18     5     4     1  ...        2      NaN        3       2      4   \n",
      "4642    14     5     4     1  ...        2      NaN        3       2      4   \n",
      "4643     7     5     4     1  ...        2      NaN        3       2      4   \n",
      "4644    50     5     4     1  ...        2      NaN        3       1      0   \n",
      "\n",
      "      VII2_1 VII2_2  VII2_3 VII2_4  idimph  \n",
      "0          5      0       0      0     0.0  \n",
      "1          5      0       0      0     0.0  \n",
      "2          5      0       0      0     0.0  \n",
      "3          5      0       0      0     0.0  \n",
      "4          5      0       0      0     0.0  \n",
      "...      ...    ...     ...    ...     ...  \n",
      "4640      98      0       0      0     NaN  \n",
      "4641      98      0       0      0     NaN  \n",
      "4642      98      0       0      0     NaN  \n",
      "4643      98      0       0      0     NaN  \n",
      "4644      98      0       0      0     NaN  \n",
      "\n",
      "[4645 rows x 243 columns]\n"
     ]
    }
   ],
   "source": [
    "import pandas as pd\n",
    "\n",
    "df = pd.read_excel(\"C:/Users/jose.lopez/OneDrive - Vicente Trapani Sa/Documents/GitHub/-Big-Data-UNT--Grupo-1-/TP04/usu_ind_hog_T104_T124 - copia.xlsx\")\n",
    "# \"C:\\Users\\jose.lopez\\OneDrive - Vicente Trapani Sa\\Documents\\GitHub\\-Big-Data-UNT--Grupo-1-\\TP04\\usu_ind_hog_T104_T124 - copia.xlsx\"\n",
    "print(df)"
   ]
  },
  {
   "cell_type": "code",
   "execution_count": 54,
   "id": "cb859448-ca41-4740-9773-91d440c52b90",
   "metadata": {},
   "outputs": [
    {
     "name": "stdout",
     "output_type": "stream",
     "text": [
      "   CODUSU  NRO_HOGAR  COMPONENTE  H15  CH03   CH04  CH06  CH07  CH08  CH09  \\\n",
      "0  125463          1           1    1     1  Varón    30     2     1     1   \n",
      "1  125463          1           2    1     2  Mujer    25     2     1     1   \n",
      "2  125463          1           3    0     3  Mujer     5     5     1     2   \n",
      "3  125463          1           4    0     3  Varón     1     5     1     3   \n",
      "4  125463          1           5    1     7  Mujer    64     4     4     1   \n",
      "\n",
      "   ...  PDECCFR  ADECCFR  VII1_1  VII1_2 VII2_1  VII2_2 VII2_3  VII2_4 idimph  \\\n",
      "0  ...                 4       2       0      5       0      0       0    0.0   \n",
      "1  ...                 4       2       0      5       0      0       0    0.0   \n",
      "2  ...                 4       2       0      5       0      0       0    0.0   \n",
      "3  ...                 4       2       0      5       0      0       0    0.0   \n",
      "4  ...                 4       2       0      5       0      0       0    0.0   \n",
      "\n",
      "   DESOCUPADOS  \n",
      "0            0  \n",
      "1            0  \n",
      "2            0  \n",
      "3            0  \n",
      "4            0  \n",
      "\n",
      "[5 rows x 244 columns]\n"
     ]
    }
   ],
   "source": [
    "# CREAMOS LA NUEVA COLUMNA DESOCUPADO\n",
    "df['DESOCUPADOS'] = (df['ESTADO'] == 2).astype(int)\n",
    "\n",
    "print(df.head())\n"
   ]
  },
  {
   "cell_type": "code",
   "execution_count": 56,
   "id": "03d0c935-b3cc-48f9-bcc4-67d85de0bcbd",
   "metadata": {},
   "outputs": [
    {
     "name": "stdout",
     "output_type": "stream",
     "text": [
      "   CODUSU  NRO_HOGAR  COMPONENTE  H15  CH03  CH04  CH06  CH07  CH08  CH09  \\\n",
      "0  125463          1           1    1     1     2    30     2     1     1   \n",
      "1  125463          1           2    1     2     1    25     2     1     1   \n",
      "2  125463          1           3    0     3     1     5     5     1     2   \n",
      "3  125463          1           4    0     3     2     1     5     1     3   \n",
      "4  125463          1           5    1     7     1    64     4     4     1   \n",
      "\n",
      "   ...  PDECCFR  ADECCFR  VII1_1  VII1_2 VII2_1  VII2_2 VII2_3  VII2_4 idimph  \\\n",
      "0  ...                 4       2       0      5       0      0       0    0.0   \n",
      "1  ...                 4       2       0      5       0      0       0    0.0   \n",
      "2  ...                 4       2       0      5       0      0       0    0.0   \n",
      "3  ...                 4       2       0      5       0      0       0    0.0   \n",
      "4  ...                 4       2       0      5       0      0       0    0.0   \n",
      "\n",
      "   DESOCUPADOS  \n",
      "0            0  \n",
      "1            0  \n",
      "2            0  \n",
      "3            0  \n",
      "4            0  \n",
      "\n",
      "[5 rows x 244 columns]\n"
     ]
    }
   ],
   "source": [
    "import pandas as pd\n",
    "from sklearn.preprocessing import LabelEncoder\n",
    "\n",
    "# quiero que la columna CH04 indique 1 si es varón y 2 si es mujer\n",
    "# Crear un diccionario de mapeo\n",
    "mapping = {'Mujer': 1, 'Varón': 2}\n",
    "\n",
    "# Aplicar el mapeo a la columna CH04\n",
    "df['CH04'] = df['CH04'].map(mapping)\n",
    "print (df.head()) "
   ]
  },
  {
   "cell_type": "code",
   "execution_count": 58,
   "id": "98d2dd06-326f-4c81-8611-5b880fa2e983",
   "metadata": {},
   "outputs": [
    {
     "name": "stdout",
     "output_type": "stream",
     "text": [
      "NRO_HOGAR         1.046502\n",
      "COMPONENTE        3.010549\n",
      "H15               0.838321\n",
      "CH03              2.682885\n",
      "CH04              1.477718\n",
      "                  ...     \n",
      "VII2_1           49.106136\n",
      "VII2_3            0.164047\n",
      "VII2_4            0.005382\n",
      "idimph         1136.474283\n",
      "DESOCUPADOS       0.055759\n",
      "Length: 177, dtype: float64\n"
     ]
    }
   ],
   "source": [
    "import pandas as pd\n",
    "import numpy as np\n",
    "\n",
    "# Supongamos que tienes un DataFrame llamado \"df\"\n",
    "\n",
    "# Identificar las columnas numéricas (asumiendo que son las que te interesan para los cálculos)\n",
    "numeric_cols = df.select_dtypes(include=['number']).columns\n",
    "\n",
    "# Crear un nuevo DataFrame solo con las columnas numéricas\n",
    "df_numeric = df[numeric_cols]\n",
    "\n",
    "# Realizar cálculos con el nuevo DataFrame\n",
    "# Por ejemplo, calcular la media de cada columna:\n",
    "mean_values = df_numeric.mean()\n",
    "print(mean_values)"
   ]
  },
  {
   "cell_type": "code",
   "execution_count": 60,
   "id": "0eb63caa-c51d-4a6c-8f74-cd71e9cc8913",
   "metadata": {},
   "outputs": [
    {
     "name": "stdout",
     "output_type": "stream",
     "text": [
      "Procesando datos para el año 2004\n",
      "Procesando datos para el año 2024\n"
     ]
    }
   ],
   "source": [
    "# Preparemos los datos\n",
    "import pandas as pd\n",
    "from sklearn.model_selection import train_test_split\n",
    "from sklearn.linear_model import Ridge\n",
    "\n",
    "# Suponiendo que ya tienes tu DataFrame 'df' cargado\n",
    "\n",
    "# Agrupar por año\n",
    "for year, data in df.groupby('ANO4'):\n",
    "    print(f\"Procesando datos para el año {year}\")\n",
    "\n",
    "    # Separar variables independientes (X) y dependiente (y)\n",
    "    X = data.drop(['DESOCUPADOS', 'ANO4'], axis=1)\n",
    "    y = data['DESOCUPADOS']\n",
    "\n",
    "    # Agregar columna de unos (1) a X\n",
    "    X['intercept'] = 1\n",
    "\n",
    "    # Dividir en conjuntos de entrenamiento y prueba (70% entrenamiento, 30% prueba)\n",
    "    X_train, X_test, y_train, y_test = train_test_split(X, y, test_size=0.3, random_state=101)"
   ]
  },
  {
   "cell_type": "code",
   "execution_count": 64,
   "id": "be3f22f7-ca75-477d-b261-a62d979088fb",
   "metadata": {},
   "outputs": [
    {
     "name": "stdout",
     "output_type": "stream",
     "text": [
      "Mejor valor de lambda: 10\n"
     ]
    },
    {
     "name": "stderr",
     "output_type": "stream",
     "text": [
      "C:\\Users\\jose.lopez\\AppData\\Local\\anaconda3\\Lib\\site-packages\\sklearn\\impute\\_base.py:598: UserWarning: Skipping features without any observed values: ['IDIMPP' 'idimph']. At least one non-missing value is needed for imputation with strategy='mean'.\n",
      "  warnings.warn(\n",
      "C:\\Users\\jose.lopez\\AppData\\Local\\anaconda3\\Lib\\site-packages\\sklearn\\linear_model\\_ridge.py:216: LinAlgWarning: Ill-conditioned matrix (rcond=2.79262e-17): result may not be accurate.\n",
      "  return linalg.solve(A, Xy, assume_a=\"pos\", overwrite_a=True).T\n",
      "C:\\Users\\jose.lopez\\AppData\\Local\\anaconda3\\Lib\\site-packages\\sklearn\\linear_model\\_ridge.py:216: LinAlgWarning: Ill-conditioned matrix (rcond=2.2441e-17): result may not be accurate.\n",
      "  return linalg.solve(A, Xy, assume_a=\"pos\", overwrite_a=True).T\n",
      "C:\\Users\\jose.lopez\\AppData\\Local\\anaconda3\\Lib\\site-packages\\sklearn\\linear_model\\_ridge.py:216: LinAlgWarning: Ill-conditioned matrix (rcond=2.45558e-17): result may not be accurate.\n",
      "  return linalg.solve(A, Xy, assume_a=\"pos\", overwrite_a=True).T\n",
      "C:\\Users\\jose.lopez\\AppData\\Local\\anaconda3\\Lib\\site-packages\\sklearn\\linear_model\\_ridge.py:216: LinAlgWarning: Ill-conditioned matrix (rcond=2.63732e-17): result may not be accurate.\n",
      "  return linalg.solve(A, Xy, assume_a=\"pos\", overwrite_a=True).T\n",
      "C:\\Users\\jose.lopez\\AppData\\Local\\anaconda3\\Lib\\site-packages\\sklearn\\linear_model\\_ridge.py:216: LinAlgWarning: Ill-conditioned matrix (rcond=2.58086e-17): result may not be accurate.\n",
      "  return linalg.solve(A, Xy, assume_a=\"pos\", overwrite_a=True).T\n"
     ]
    }
   ],
   "source": [
    "from sklearn.model_selection import GridSearchCV\n",
    "\n",
    "# Definir el modelo y el rango de valores para lambda\n",
    "model = Ridge()\n",
    "param_grid = {'alpha': [0.01, 0.1, 1, 10, 100]}\n",
    "from sklearn.impute import SimpleImputer\n",
    "\n",
    "# Create an imputer object (replace 'mean' with 'median' or another strategy if preferred)\n",
    "imputer = SimpleImputer(strategy='mean')\n",
    "\n",
    "# Impute missing values in X_train_filtered\n",
    "X_train_imputed = imputer.fit_transform(X_train_filtered)\n",
    "\n",
    "# Use X_train_imputed for GridSearchCV\n",
    "grid = GridSearchCV(estimator=model, param_grid=param_grid, cv=5)\n",
    "grid.fit(X_train_imputed, y_train)\n",
    "\n",
    "# Obtener el mejor valor de lambda\n",
    "best_lambda = grid.best_params_['alpha']\n",
    "print(\"Mejor valor de lambda:\", best_lambda)"
   ]
  },
  {
   "cell_type": "code",
   "execution_count": null,
   "id": "f8ea1bca-995c-4600-8eb2-2896901fa589",
   "metadata": {},
   "outputs": [],
   "source": []
  }
 ],
 "metadata": {
  "kernelspec": {
   "display_name": "Python 3 (ipykernel)",
   "language": "python",
   "name": "python3"
  },
  "language_info": {
   "codemirror_mode": {
    "name": "ipython",
    "version": 3
   },
   "file_extension": ".py",
   "mimetype": "text/x-python",
   "name": "python",
   "nbconvert_exporter": "python",
   "pygments_lexer": "ipython3",
   "version": "3.12.4"
  }
 },
 "nbformat": 4,
 "nbformat_minor": 5
}
